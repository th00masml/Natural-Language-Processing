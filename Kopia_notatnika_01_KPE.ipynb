{
  "nbformat": 4,
  "nbformat_minor": 0,
  "metadata": {
    "kernelspec": {
      "display_name": "Python 2",
      "language": "python",
      "name": "python2"
    },
    "language_info": {
      "codemirror_mode": {
        "name": "ipython",
        "version": 2
      },
      "file_extension": ".py",
      "mimetype": "text/x-python",
      "name": "python",
      "nbconvert_exporter": "python",
      "pygments_lexer": "ipython2",
      "version": "2.7.17"
    },
    "colab": {
      "name": "Kopia notatnika 01_KPE.ipynb",
      "provenance": [],
      "include_colab_link": true
    }
  },
  "cells": [
    {
      "cell_type": "markdown",
      "metadata": {
        "id": "view-in-github",
        "colab_type": "text"
      },
      "source": [
        "<a href=\"https://colab.research.google.com/github/th00masml/Natural-Language-Processing/blob/master/Kopia_notatnika_01_KPE.ipynb\" target=\"_parent\"><img src=\"https://colab.research.google.com/assets/colab-badge.svg\" alt=\"Open In Colab\"/></a>"
      ]
    },
    {
      "cell_type": "code",
      "metadata": {
        "id": "aaCXqvlKPYiy",
        "outputId": "5b028887-e2ed-4ac2-bedc-2792b03d5b5b"
      },
      "source": [
        "#We need texacy, which inturn loads spacy library\n",
        "!pip install textacy==0.9.1\n",
        "!python -m spacy download en_core_web_sm\n",
        "\n",
        "import spacy\n",
        "import textacy.ke\n",
        "from textacy import *\n",
        "\n"
      ],
      "execution_count": null,
      "outputs": [
        {
          "output_type": "stream",
          "text": [
            "Collecting textacy==0.9.1\n",
            "  Downloading textacy-0.9.1-py3-none-any.whl (203 kB)\n",
            "\u001b[K     |████████████████████████████████| 203 kB 897 kB/s eta 0:00:01\n",
            "\u001b[?25hRequirement already satisfied: numpy>=1.17.0 in /home/etherealenvy/miniconda3/envs/practicalnlp/lib/python3.6/site-packages (from textacy==0.9.1) (1.18.5)\n",
            "Collecting jellyfish>=0.7.0\n",
            "  Downloading jellyfish-0.8.2-cp36-cp36m-manylinux2014_x86_64.whl (93 kB)\n",
            "\u001b[K     |████████████████████████████████| 93 kB 75 kB/s  eta 0:00:01\n",
            "\u001b[?25hCollecting cachetools>=2.0.1\n",
            "  Downloading cachetools-4.1.1-py3-none-any.whl (10 kB)\n",
            "Requirement already satisfied: tqdm>=4.19.6 in /home/etherealenvy/miniconda3/envs/practicalnlp/lib/python3.6/site-packages (from textacy==0.9.1) (4.46.1)\n",
            "Requirement already satisfied: spacy>=2.0.12 in /home/etherealenvy/miniconda3/envs/practicalnlp/lib/python3.6/site-packages (from textacy==0.9.1) (2.1.3)\n",
            "Requirement already satisfied: requests>=2.10.0 in /home/etherealenvy/.local/lib/python3.6/site-packages (from textacy==0.9.1) (2.23.0)\n",
            "Requirement already satisfied: scipy>=0.17.0 in /home/etherealenvy/miniconda3/envs/practicalnlp/lib/python3.6/site-packages (from textacy==0.9.1) (1.4.1)\n",
            "Requirement already satisfied: scikit-learn>=0.19.0 in /home/etherealenvy/miniconda3/envs/practicalnlp/lib/python3.6/site-packages (from textacy==0.9.1) (0.22.2.post1)\n",
            "Collecting cytoolz>=0.8.0\n",
            "  Downloading cytoolz-0.10.1.tar.gz (475 kB)\n",
            "\u001b[K     |████████████████████████████████| 475 kB 560 kB/s eta 0:00:01\n",
            "\u001b[?25hCollecting networkx>=2.0\n",
            "  Using cached networkx-2.4-py3-none-any.whl (1.6 MB)\n",
            "Requirement already satisfied: srsly>=0.0.5 in /home/etherealenvy/miniconda3/envs/practicalnlp/lib/python3.6/site-packages (from textacy==0.9.1) (1.0.2)\n",
            "Collecting pyemd>=0.5.0\n",
            "  Downloading pyemd-0.5.1.tar.gz (91 kB)\n",
            "\u001b[K     |████████████████████████████████| 91 kB 558 kB/s eta 0:00:011\n",
            "\u001b[?25hRequirement already satisfied: joblib>=0.13.0 in /home/etherealenvy/.local/lib/python3.6/site-packages (from textacy==0.9.1) (0.14.1)\n",
            "Collecting pyphen>=0.9.4\n",
            "  Downloading Pyphen-0.9.5-py2.py3-none-any.whl (3.0 MB)\n",
            "\u001b[K     |████████████████████████████████| 3.0 MB 1.3 MB/s eta 0:00:01\n",
            "\u001b[?25hRequirement already satisfied: plac<1.0.0,>=0.9.6 in /home/etherealenvy/miniconda3/envs/practicalnlp/lib/python3.6/site-packages (from spacy>=2.0.12->textacy==0.9.1) (0.9.6)\n",
            "Requirement already satisfied: blis<0.3.0,>=0.2.2 in /home/etherealenvy/miniconda3/envs/practicalnlp/lib/python3.6/site-packages (from spacy>=2.0.12->textacy==0.9.1) (0.2.4)\n",
            "Requirement already satisfied: preshed<2.1.0,>=2.0.1 in /home/etherealenvy/miniconda3/envs/practicalnlp/lib/python3.6/site-packages (from spacy>=2.0.12->textacy==0.9.1) (2.0.1)\n",
            "Requirement already satisfied: jsonschema<3.0.0,>=2.6.0 in /home/etherealenvy/miniconda3/envs/practicalnlp/lib/python3.6/site-packages (from spacy>=2.0.12->textacy==0.9.1) (2.6.0)\n",
            "Requirement already satisfied: cymem<2.1.0,>=2.0.2 in /home/etherealenvy/miniconda3/envs/practicalnlp/lib/python3.6/site-packages (from spacy>=2.0.12->textacy==0.9.1) (2.0.3)\n",
            "Requirement already satisfied: murmurhash<1.1.0,>=0.28.0 in /home/etherealenvy/miniconda3/envs/practicalnlp/lib/python3.6/site-packages (from spacy>=2.0.12->textacy==0.9.1) (1.0.2)\n",
            "Requirement already satisfied: thinc<7.1.0,>=7.0.2 in /home/etherealenvy/miniconda3/envs/practicalnlp/lib/python3.6/site-packages (from spacy>=2.0.12->textacy==0.9.1) (7.0.8)\n",
            "Requirement already satisfied: wasabi<1.1.0,>=0.2.0 in /home/etherealenvy/miniconda3/envs/practicalnlp/lib/python3.6/site-packages (from spacy>=2.0.12->textacy==0.9.1) (0.6.0)\n",
            "Requirement already satisfied: chardet<4,>=3.0.2 in /home/etherealenvy/.local/lib/python3.6/site-packages (from requests>=2.10.0->textacy==0.9.1) (3.0.4)\n",
            "Requirement already satisfied: idna<3,>=2.5 in /home/etherealenvy/.local/lib/python3.6/site-packages (from requests>=2.10.0->textacy==0.9.1) (2.9)\n",
            "Requirement already satisfied: certifi>=2017.4.17 in /home/etherealenvy/.local/lib/python3.6/site-packages (from requests>=2.10.0->textacy==0.9.1) (2020.4.5.1)\n",
            "Requirement already satisfied: urllib3!=1.25.0,!=1.25.1,<1.26,>=1.21.1 in /home/etherealenvy/.local/lib/python3.6/site-packages (from requests>=2.10.0->textacy==0.9.1) (1.25.9)\n",
            "Collecting toolz>=0.8.0\n",
            "  Downloading toolz-0.10.0.tar.gz (49 kB)\n",
            "\u001b[K     |████████████████████████████████| 49 kB 200 kB/s eta 0:00:011\n",
            "\u001b[?25hRequirement already satisfied: decorator>=4.3.0 in /home/etherealenvy/miniconda3/envs/practicalnlp/lib/python3.6/site-packages (from networkx>=2.0->textacy==0.9.1) (4.4.2)\n",
            "Building wheels for collected packages: cytoolz, pyemd, toolz\n",
            "  Building wheel for cytoolz (setup.py) ... \u001b[?25ldone\n",
            "\u001b[?25h  Created wheel for cytoolz: filename=cytoolz-0.10.1-cp36-cp36m-linux_x86_64.whl size=1237375 sha256=b3b553b3e671dd5ee55cfd0f49b2034e46c0c83439c28c562c28c2d1c6a66d19\n",
            "  Stored in directory: /home/etherealenvy/.cache/pip/wheels/ae/29/ee/95cfb685f2f524674eec78a249f3439b33bbef131529eccc35\n",
            "  Building wheel for pyemd (setup.py) ... \u001b[?25ldone\n",
            "\u001b[?25h  Created wheel for pyemd: filename=pyemd-0.5.1-cp36-cp36m-linux_x86_64.whl size=375283 sha256=580f4ca79efa7be7d2cd5c5e5b41bf47e8f0072fc4af1f4fd4e7edf23020e103\n",
            "  Stored in directory: /home/etherealenvy/.cache/pip/wheels/f9/f0/23/aefbdde40e915c67830ebecb55be2344a8b6e95fe3ce3ccf96\n",
            "  Building wheel for toolz (setup.py) ... \u001b[?25ldone\n",
            "\u001b[?25h  Created wheel for toolz: filename=toolz-0.10.0-py3-none-any.whl size=55575 sha256=cda4be45740b8127f3f45a39f805bcff3be823017ffb796df4cb694e580c35e3\n",
            "  Stored in directory: /home/etherealenvy/.cache/pip/wheels/fc/da/2e/27e381e9cfc922d078a0a750c7ec72e76df66100e81722516d\n",
            "Successfully built cytoolz pyemd toolz\n",
            "Installing collected packages: jellyfish, cachetools, toolz, cytoolz, networkx, pyemd, pyphen, textacy\n",
            "Successfully installed cachetools-4.1.1 cytoolz-0.10.1 jellyfish-0.8.2 networkx-2.4 pyemd-0.5.1 pyphen-0.9.5 textacy-0.9.1 toolz-0.10.0\n"
          ],
          "name": "stdout"
        }
      ]
    },
    {
      "cell_type": "code",
      "metadata": {
        "id": "jMaqXQOSPYi5"
      },
      "source": [
        "#Load a spacy model, which will be used for all further processing.\n",
        "en = textacy.load_spacy_lang(\"en_core_web_sm\")\n",
        "\n",
        "#Let us use a sample text file, nlphistory.txt, which is the text from the history section of Wikipedia's\n",
        "#page on Natural Language Processing \n",
        "#https://en.wikipedia.org/wiki/Natural_language_processing\n",
        "path = 'PATH TO REPO'\n",
        "\n",
        "mytext = open(path+'./Data/nlphistory.txt').read()\n",
        "\n",
        "#convert the text into a spacy document.\n",
        "doc = textacy.make_spacy_doc(mytext, lang=en)"
      ],
      "execution_count": null,
      "outputs": []
    },
    {
      "cell_type": "code",
      "metadata": {
        "id": "d-hJeYyAPYi6",
        "outputId": "23047f6f-ecee-4fd6-afde-35ccb8614e75"
      },
      "source": [
        "textacy.ke.textrank(doc, topn=5)"
      ],
      "execution_count": null,
      "outputs": [
        {
          "output_type": "execute_result",
          "data": {
            "text/plain": [
              "[('successful natural language processing system', 0.025244346165829074),\n",
              " ('statistical machine translation system', 0.025133044868323427),\n",
              " ('natural language system', 0.02100895427515401),\n",
              " ('statistical natural language processing', 0.018557133294770125),\n",
              " ('natural language task', 0.01578393031285106)]"
            ]
          },
          "metadata": {
            "tags": []
          },
          "execution_count": 7
        }
      ]
    },
    {
      "cell_type": "code",
      "metadata": {
        "id": "pvE6f3gFPYi6",
        "outputId": "69ca22b7-38aa-4fc9-8dff-295287d9352d"
      },
      "source": [
        "#Print the keywords using TextRank algorithm, as implemented in Textacy.\n",
        "print(\"Textrank output: \", [kps for kps, weights in textacy.ke.textrank(doc, normalize=\"lemma\", topn=5)])\\\n",
        "#Print the key words and phrases, using SGRank algorithm, as implemented in Textacy\n",
        "print(\"SGRank output: \", [kps for kps, weights in textacy.ke.sgrank(doc, topn=5)])\n"
      ],
      "execution_count": null,
      "outputs": [
        {
          "output_type": "stream",
          "text": [
            "Textrank output:  ['successful natural language processing system', 'statistical machine translation system', 'natural language system', 'statistical natural language processing', 'natural language task']\n",
            "SGRank output:  ['natural language processing system', 'statistical machine translation', 'research', 'late 1980', 'early']\n"
          ],
          "name": "stdout"
        }
      ]
    },
    {
      "cell_type": "code",
      "metadata": {
        "id": "KrDKvRl7PYi7"
      },
      "source": [
        ""
      ],
      "execution_count": null,
      "outputs": []
    },
    {
      "cell_type": "code",
      "metadata": {
        "id": "-dd7zJ4aPYi7",
        "outputId": "280e7f4c-3887-4b9b-ddcd-422b913c2677"
      },
      "source": [
        "#To address the issue of overlapping key phrases, textacy has a function: aggregage_term_variants.\n",
        "#Choosing one of the grouped terms per item will give us a list of non-overlapping key phrases!\n",
        "terms = set([term for term,weight in textacy.ke.sgrank(doc)])\n",
        "print(textacy.ke.utils.aggregate_term_variants(terms))"
      ],
      "execution_count": null,
      "outputs": [
        {
          "output_type": "stream",
          "text": [
            "[{'natural language processing system'}, {'statistical machine translation'}, {'statistical model'}, {'late 1980'}, {'research'}, {'example'}, {'early'}, {'ELIZA'}, {'world'}, {'real'}]\n"
          ],
          "name": "stdout"
        }
      ]
    },
    {
      "cell_type": "code",
      "metadata": {
        "id": "gLCZIFb_PYi8",
        "outputId": "b672bf10-7cb0-4b3c-b4fc-5128f2d7546c"
      },
      "source": [
        "#A way to look at key phrases is just consider all noun chunks as potential ones. \n",
        "#However, keep in mind this will result in a lot of phrases, and no way to rank them!\n",
        "\n",
        "print([chunk for chunk in textacy.extract.noun_chunks(doc)])"
      ],
      "execution_count": null,
      "outputs": [
        {
          "output_type": "stream",
          "text": [
            "[history, natural language processing, 1950s, work, earlier periods, Alan Turing, article, what, criterion, intelligence, Georgetown experiment, fully automatic translation, more than sixty Russian sentences, English, authors, three or five years, machine translation, solved problem.[2, real progress, ALPAC report, ten-year-long research, expectations, machine translation, Little further research, machine translation, late 1980s, first statistical machine translation systems, notably successful natural language processing systems, 1960s, SHRDLU, natural language system, restricted \"blocks worlds, restricted vocabularies, ELIZA, simulation, Rogerian psychotherapist, Joseph Weizenbaum, almost no information, human thought, emotion, ELIZA, startlingly human-like interaction, \"patient, very small knowledge base, ELIZA, generic response, example, \"My head, you, head, 1970s, many programmers, \"conceptual ontologies, real-world information, computer-understandable data, Examples, MARGIE, (Schank, SAM, (Cullingford, PAM, (Wilensky, TaleSpin, (Meehan, QUALM, (Lehnert, Politics, (Carbonell, Plot Units, Lehnert, time, many chatterbots, PARRY, Racter, Jabberwacky, 1980s, most natural language processing systems, complex sets, hand-written rules, late 1980s, revolution, natural language processing, introduction, algorithms, language processing, the steady increase, computational power, Moore's law, gradual lessening, dominance, Chomskyan theories, linguistics, e.g. transformational grammar, theoretical underpinnings, sort, corpus linguistics, machine-learning approach, language, earliest-used machine learning algorithms, decision trees, produced systems, existing hand-written rules, speech, use, hidden Markov models, natural language processing, research, statistical models, soft, probabilistic decisions, real-valued weights, features, input data, cache language models, many speech recognition systems, examples, such statistical models, Such models, unfamiliar input, errors, real-world data, more reliable results, larger system, multiple subtasks, notable early successes, field, machine translation, IBM Research, more complicated statistical models, systems, advantage, existing multilingual textual corpora, Parliament, Canada, European Union, result, laws, translation, governmental proceedings, official languages, corresponding systems, government, However, most other systems, corpora, tasks, systems, major limitation, success, systems, result, great deal, research, methods, limited amounts, data, Recent research, unsupervised and semi-supervised learning algorithms, Such algorithms, data, desired answers, combination, annotated and non-annotated data, task, supervised learning, less accurate results, given amount, input data, enormous amount, non-annotated data, other things, entire content, World Wide Web, inferior results, algorithm, low enough time complexity, representation learning, deep neural network-style machine learning methods, natural language processing, part, flurry, results, such techniques[4][5, -art, many natural language tasks, example, language, Popular techniques, use, word embeddings, semantic properties, words, increase, end, higher-level task, (e.g., question, pipeline, separate intermediate tasks, speech, dependency parsing, areas, shift, substantial changes, NLP systems, deep neural network-based approaches, new paradigm, statistical natural language processing, instance, term neural machine translation, NMT, fact, deep learning-based approaches, machine translation, sequence, need, intermediate steps, word alignment, language modeling, statistical machine translation, SMT]\n"
          ],
          "name": "stdout"
        }
      ]
    },
    {
      "cell_type": "markdown",
      "metadata": {
        "id": "E4RPMqeWPYi8"
      },
      "source": [
        "Textacy also has a bunch of other information extraction functions, many of them based on regular expression patterns and heuristics to address extracting specific expressions such as acronyms and quotations. Apart from these, we can also extract matching custom regular expressions including POS tag patterns, or look for statements involving an entity, subject-verb-object tuples etc. We will discuss some of these as they come, in this chapter. \n",
        "\n",
        "Documentation: https://chartbeat-labs.github.io/textacy/build/html/index.html"
      ]
    },
    {
      "cell_type": "code",
      "metadata": {
        "id": "pMX0ovUyPYi8"
      },
      "source": [
        ""
      ],
      "execution_count": null,
      "outputs": []
    }
  ]
}