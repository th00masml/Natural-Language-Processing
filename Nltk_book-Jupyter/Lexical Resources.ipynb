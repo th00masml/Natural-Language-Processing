{
 "cells": [
  {
   "cell_type": "code",
   "execution_count": 2,
   "metadata": {},
   "outputs": [],
   "source": [
    "import nltk\n",
    "from nltk.corpus import stopwords"
   ]
  },
  {
   "cell_type": "code",
   "execution_count": 3,
   "metadata": {},
   "outputs": [
    {
     "data": {
      "text/plain": [
       "['i', 'me', 'my', 'myself', 'we', 'our', 'ours', 'ourselves', 'you', \"you're\"]"
      ]
     },
     "execution_count": 3,
     "metadata": {},
     "output_type": "execute_result"
    }
   ],
   "source": [
    "stop_words = stopwords.words('English')\n",
    "stop_words[:10]"
   ]
  },
  {
   "cell_type": "code",
   "execution_count": 4,
   "metadata": {},
   "outputs": [],
   "source": [
    "# Define function that prints list of unusual words\n",
    "def unusual_words(text):\n",
    "    text_vocab = set(w.lower() for w in text if w.isalpha())\n",
    "    english_vocab = set(w.lower() for w in nltk.corpus.words.words())\n",
    "    unusual = text_vocab - english_vocab\n",
    "    return sorted(unusual)"
   ]
  },
  {
   "cell_type": "code",
   "execution_count": 5,
   "metadata": {},
   "outputs": [
    {
     "name": "stdout",
     "output_type": "stream",
     "text": [
      "['neg/cv000_29416.txt', 'neg/cv001_19502.txt', 'neg/cv002_17424.txt', 'neg/cv003_12683.txt', 'neg/cv004_12641.txt']\n"
     ]
    },
    {
     "data": {
      "text/plain": [
       "['actors',\n",
       " 'apparitions',\n",
       " 'bentley',\n",
       " 'characters',\n",
       " 'confusing',\n",
       " 'continues',\n",
       " 'couples',\n",
       " 'didn',\n",
       " 'dies',\n",
       " 'disappearances']"
      ]
     },
     "execution_count": 5,
     "metadata": {},
     "output_type": "execute_result"
    }
   ],
   "source": [
    "print(nltk.corpus.movie_reviews.fileids()[:5])\n",
    "unusual_words(nltk.corpus.movie_reviews.words('neg/cv000_29416.txt'))[:10]"
   ]
  },
  {
   "cell_type": "code",
   "execution_count": 6,
   "metadata": {},
   "outputs": [
    {
     "data": {
      "text/plain": [
       "['aaaaaaaaaaaaaaaaa',\n",
       " 'aaahhhh',\n",
       " 'abortions',\n",
       " 'abou',\n",
       " 'abourted',\n",
       " 'abs',\n",
       " 'ack',\n",
       " 'acros',\n",
       " 'actualy',\n",
       " 'adams']"
      ]
     },
     "execution_count": 6,
     "metadata": {},
     "output_type": "execute_result"
    }
   ],
   "source": [
    "unusual_words(nltk.corpus.nps_chat.words())[:10]"
   ]
  },
  {
   "cell_type": "code",
   "execution_count": 7,
   "metadata": {},
   "outputs": [],
   "source": [
    "# Counts fraction of not stopwords in given text\n",
    "def content_fraction(text):\n",
    "    stopwords = nltk.corpus.stopwords.words('english')\n",
    "    content = [w for w in text if w.lower() not in stopwords]\n",
    "    return len(content) / len(text)"
   ]
  },
  {
   "cell_type": "code",
   "execution_count": 8,
   "metadata": {},
   "outputs": [
    {
     "data": {
      "text/plain": [
       "0.5642775881683731"
      ]
     },
     "execution_count": 8,
     "metadata": {},
     "output_type": "execute_result"
    }
   ],
   "source": [
    "content_fraction(nltk.corpus.movie_reviews.words('neg/cv000_29416.txt'))"
   ]
  },
  {
   "cell_type": "code",
   "execution_count": 9,
   "metadata": {},
   "outputs": [
    {
     "data": {
      "text/plain": [
       "['enrol', 'gorlin', 'norie', 'vergi', 'vireo', 'virole', 'viron']"
      ]
     },
     "execution_count": 9,
     "metadata": {},
     "output_type": "execute_result"
    }
   ],
   "source": [
    "# Creates list of words using given conditions\n",
    "puzzle_letters = nltk.FreqDist('egivrvonl')\n",
    "obligatory = 'r' # Obligatory letter\n",
    "wordlist = nltk.corpus.words.words()\n",
    "[w for w in wordlist if len(w) >= 5 # Length of word\n",
    "    and obligatory in w [2]\n",
    "    and nltk.FreqDist(w) <= puzzle_letters]"
   ]
  },
  {
   "cell_type": "code",
   "execution_count": 10,
   "metadata": {},
   "outputs": [
    {
     "data": {
      "text/plain": [
       "['female.txt', 'male.txt']"
      ]
     },
     "execution_count": 10,
     "metadata": {},
     "output_type": "execute_result"
    }
   ],
   "source": [
    "# List of names with the gender split\n",
    "names = nltk.corpus.names\n",
    "names.fileids()"
   ]
  },
  {
   "cell_type": "code",
   "execution_count": 11,
   "metadata": {},
   "outputs": [
    {
     "data": {
      "text/plain": [
       "['Abbey', 'Abbie', 'Abby', 'Addie', 'Adrian']"
      ]
     },
     "execution_count": 11,
     "metadata": {},
     "output_type": "execute_result"
    }
   ],
   "source": [
    "male_names = names.words('male.txt')\n",
    "female_names = names.words('female.txt')\n",
    "[w for w in male_names if w in female_names][:5]"
   ]
  },
  {
   "cell_type": "code",
   "execution_count": 12,
   "metadata": {},
   "outputs": [],
   "source": [
    "# Creates function to plot list of names with the gender split\n",
    "# Interesting fact: names ending in the letter \"a\" are almost always female\n",
    "cfd = nltk.ConditionalFreqDist(\n",
    "    (fileid, name[-1])\n",
    "    for fileid in names.fileids()\n",
    "    for name in names.words(fileid))"
   ]
  },
  {
   "cell_type": "code",
   "execution_count": 13,
   "metadata": {},
   "outputs": [
    {
     "data": {
      "text/plain": [
       "<Figure size 1500x600 with 1 Axes>"
      ]
     },
     "metadata": {},
     "output_type": "display_data"
    }
   ],
   "source": [
    "import matplotlib.pyplot as plt\n",
    "plt.rcParams[\"figure.figsize\"] = (15,6)\n",
    "\n",
    "cfd.plot()"
   ]
  },
  {
   "cell_type": "code",
   "execution_count": 14,
   "metadata": {},
   "outputs": [
    {
     "name": "stdout",
     "output_type": "stream",
     "text": [
      "[('abducted', ['AH0', 'B', 'D', 'AH1', 'K', 'T', 'IH0', 'D']), ('abductee', ['AE0', 'B', 'D', 'AH2', 'K', 'T', 'IY1']), ('abductees', ['AE0', 'B', 'D', 'AH2', 'K', 'T', 'IY1', 'Z']), ('abducting', ['AE0', 'B', 'D', 'AH1', 'K', 'T', 'IH0', 'NG']), ('abducting', ['AH0', 'B', 'D', 'AH1', 'K', 'T', 'IH0', 'NG'])]\n"
     ]
    }
   ],
   "source": [
    "# List of phonetic codes - phones\n",
    "# https://en.wikipedia.org/wiki/ARPABET\n",
    "entries = nltk.corpus.cmudict.entries()\n",
    "print(entries[110:115])"
   ]
  },
  {
   "cell_type": "code",
   "execution_count": 15,
   "metadata": {},
   "outputs": [
    {
     "name": "stdout",
     "output_type": "stream",
     "text": [
      "('abducted', ['AH0', 'B', 'D', 'AH1', 'K', 'T', 'IH0', 'D'])\n",
      "('abductee', ['AE0', 'B', 'D', 'AH2', 'K', 'T', 'IY1'])\n",
      "('abductees', ['AE0', 'B', 'D', 'AH2', 'K', 'T', 'IY1', 'Z'])\n",
      "('abducting', ['AE0', 'B', 'D', 'AH1', 'K', 'T', 'IH0', 'NG'])\n",
      "('abducting', ['AH0', 'B', 'D', 'AH1', 'K', 'T', 'IH0', 'NG'])\n"
     ]
    }
   ],
   "source": [
    "# This loop does pretty the same thing\n",
    "# Function prints out word and list of its phones\n",
    "for entry in entries[110:115]:\n",
    "    print(entry)"
   ]
  },
  {
   "cell_type": "code",
   "execution_count": 18,
   "metadata": {},
   "outputs": [
    {
     "data": {
      "text/plain": [
       "[\"atlantic's\", 'audiotronics', 'avionics', 'beatniks', 'calisthenics']"
      ]
     },
     "execution_count": 18,
     "metadata": {},
     "output_type": "execute_result"
    }
   ],
   "source": [
    "# Select words that ends with certain syllables\n",
    "syllable = ['N', 'IH0', 'K', 'S']\n",
    "[word for word, pron in entries if pron[-4:] == syllable][:5]"
   ]
  },
  {
   "cell_type": "code",
   "execution_count": 25,
   "metadata": {},
   "outputs": [
    {
     "data": {
      "text/plain": [
       "[['F', 'AY1', 'ER0'], ['F', 'AY1', 'R']]"
      ]
     },
     "execution_count": 25,
     "metadata": {},
     "output_type": "execute_result"
    }
   ],
   "source": [
    "prondict = nltk.corpus.cmudict.dict()\n",
    "prondict['fire']"
   ]
  },
  {
   "cell_type": "code",
   "execution_count": 27,
   "metadata": {},
   "outputs": [
    {
     "name": "stdout",
     "output_type": "stream",
     "text": [
      "['N', 'AE1', 'CH', 'ER0', 'AH0', 'L', 'L', 'AE1', 'NG', 'G', 'W', 'AH0', 'JH', 'P', 'R', 'AA1', 'S', 'EH0', 'S', 'IH0', 'NG']\n"
     ]
    }
   ],
   "source": [
    "text = ['natural', 'language', 'processing']\n",
    "print([ph for w in text for ph in prondict[w][0]])"
   ]
  },
  {
   "cell_type": "code",
   "execution_count": 32,
   "metadata": {},
   "outputs": [
    {
     "name": "stdout",
     "output_type": "stream",
     "text": [
      "['be', 'bg', 'bs', 'ca', 'cs', 'cu', 'de', 'en', 'es', 'fr', 'hr', 'it', 'la', 'mk', 'nl', 'pl', 'pt', 'ro', 'ru', 'sk', 'sl', 'sr', 'sw', 'uk']\n"
     ]
    }
   ],
   "source": [
    "# Comparative Wordlists\n",
    "# Swadesh list of about 200 common words in several languages\n",
    "from nltk.corpus import swadesh\n",
    "print(swadesh.fileids())"
   ]
  },
  {
   "cell_type": "code",
   "execution_count": 35,
   "metadata": {},
   "outputs": [
    {
     "name": "stdout",
     "output_type": "stream",
     "text": [
      "['jo', 'tu', 'ell', 'nosaltres', 'vosaltres', 'ells, elles', 'aquest', 'aquell', 'aquí', 'allà', 'qui', 'què', 'on', 'quan', 'com', 'no', 'tot', 'molt', 'algun, una mica', 'poc', 'altre', 'un', 'dos', 'tres', 'quatre', 'cinc', 'gran, gros', 'llarg', 'ample', 'gruixut', 'pesat', 'petit', 'curt', 'estret', 'prim', 'dona', 'home', 'persona', 'nen', 'muller', 'marit', 'mare', 'pare', 'animal', 'peix', 'ocell', 'gos', 'poll', 'serp', 'cuc', 'arbre', 'bosc', 'bastó', 'fruit, fruita', 'llavor', 'fulla', 'arrel', 'escorça', 'flor', 'herba', 'corda', 'pell', 'carn', 'sang', 'os', 'gras', 'ou', 'banya', 'cua', 'ploma', 'pèl, cabell', 'cap', 'orella', 'ull', 'nas', 'boca', 'dent', 'llengua', 'ungla', 'peu', 'cama', 'genoll', 'ma', 'ala', 'panxa', 'budells', 'coll', 'esquena', 'pit', 'cor', 'fetge', 'beure', 'menjar', 'mossegar', 'xuclar, llepar', 'escopir', 'vomitar', 'bufar', 'respirar', 'riure', 'veure', 'escoltar', 'saber', 'pensar', 'olorar', 'témer', 'dormir', 'viure', 'morir', 'matar', 'lluitar', 'caçar', 'colpejar, picar', 'tallar', 'partir, dividir', 'apunyalar', 'gratar, rascar, esgarrapar', 'cavar, excavar', 'nedar', 'volar', 'caminar', 'venir', 'jeure', 'seure', 'estar dret', 'girar', 'caure', 'donar', 'aguantar, sostenir', 'apretar', 'fregar', 'rentar, netejar', 'eixugar', 'estirar', 'empènyer', 'llançar, llençar', 'lligar', 'cosir', 'comptar', 'dir', 'cantar', 'jugar', 'flotar', 'fluir', 'gelar, congelar', 'inflar', 'sol', 'lluna', 'estel, estrella', 'aigua', 'pluja', 'riu', 'llac', 'mar', 'sal', 'pedra', 'sorra', 'pols', 'terra', 'núvol', 'boira', 'cel', 'vent', 'neu', 'gel, glaç', 'fum', 'foc', 'cendres', 'cremar', 'carretera', 'muntanya', 'vermell, roig', 'verd', 'groc', 'blanc', 'negre', 'nit', 'dia', 'any', 'càlid', 'fred', 'ple', 'nou', 'vell', 'bo', 'dolent', 'podrit', 'brut', 'recte', 'rodó', 'esmolat, agut', 'rom', 'llis, suau', 'humit, mullat', 'sec', 'correcte', 'prop, a prop', 'lluny', 'dreta', 'esquerra', 'a', 'dins', 'amb', 'i', 'si', 'perquè', 'nom']\n"
     ]
    }
   ],
   "source": [
    "print(swadesh.words('ca'))"
   ]
  },
  {
   "cell_type": "code",
   "execution_count": 42,
   "metadata": {},
   "outputs": [
    {
     "name": "stdout",
     "output_type": "stream",
     "text": [
      "[('я',), ('ты',), ('ён',), ('мы',), ('вы',), ('яны',), ('гэта',), ('гэны',), ('тут',), ('там',), ('хто',), ('што',), ('дзе',), ('калі',), ('як',), ('не',), ('усе',), ('шмат',), ('некалькі',), ('няшмат',), ('іншы',), ('адзін',), ('два',), ('тры',), ('чатыры',), ('пяць',), ('вялікі',), ('доўгі',), ('шырокі',), ('тоўсты',), ('цяжкі',), ('маленькі',), ('кароткі',), ('вузкі',), ('тонкі',), ('жанчына',), ('мужчына',), ('чалавек',), ('дзіця',), ('жонка',), ('муж',), ('маці',), ('бацька',), ('зьвер',), ('рыба',), ('птушка',), ('пёс',), ('вош',), ('зьмяя',), ('чарвяк',), ('дрэва',), ('лес',), ('палка',), ('садавіна',), ('насеньне',), ('ліст',), ('корань',), ('кара',), ('кветка',), ('трава',), ('шнур',), ('скура',), ('мяса',), ('кроў',), ('костка',), ('тлушч',), ('яйка',), ('рог',), ('хвост',), ('пяро',), ('валасы',), ('галава',), ('вуха',), ('вока',), ('нос',), ('вусны',), ('зуб',), ('язык',), ('пазногаць',), ('ступня',), ('нага',), ('калена',), ('рука',), ('крыло',), ('жывот',), ('вантробы',), ('шыя',), ('сьпіна',), ('грудзі',), ('сэрца',), ('печань',), ('піць',), ('есьці',), ('грызьці',), ('смактаць',), ('пляваць',), ('ванітаваць',), ('дзьмуць',), ('дыхаць',), ('сьмяяцца',), ('бачыць',), ('чуць',), ('ведаць',), ('думаць',), ('нюхаць',), ('баяцца',), ('спаць',), ('жыць',), ('паміраць',), ('забіваць',), ('змагацца',), ('паляваць',), ('ударыць',), ('рэзаць',), ('разьдзяляць',), ('калоць',), ('драпаць',), ('рыць',), ('плаваць',), ('лётаць',), ('хадзіць',), ('прыходзіць',), ('ляжаць',), ('сядзець ',), ('стаяць',), ('паварочвацца',), ('упасьці',), ('даваць',), ('трымаць',), ('сьціскаць',), ('церці',), ('мыць',), ('выціраць',), ('цягнуць',), ('штурхаць',), ('кідаць',), ('зьвязваць',), ('шыць',), ('лічыць',), ('сказаць',), ('сьпяваць',), ('гуляць',), ('плысьці',), ('цячы',), ('замерзнуць',), ('пухнуць',), ('сонца',), ('месяц',), ('зорка',), ('вада',), ('дождж',), ('рака',), ('возера',), ('мора',), ('соль',), ('камень',), ('пясок',), ('пыл',), ('зямля',), ('воблака',), ('туман',), ('неба',), ('вецер ',), ('сьнег',), ('лёд',), ('дым',), ('агонь',), ('попел',), ('гарэць',), ('шлях',), ('гара',), ('чырвоны',), ('зялёны',), ('жоўты',), ('белы',), ('чорны',), ('ноч',), ('дзень',), ('год',), ('цёплы',), ('сьцюдзёны',), ('поўны',), ('новы',), ('стары',), ('добры',), ('благі',), ('гнілы',), ('брудны',), ('просты',), ('круглы',), ('востры',), ('тупы',), ('гладкі',), ('вільготны',), ('сухі',), ('слушны',), ('блізкі',), ('далёкі',), ('правы',), ('левы',), ('пры',), ('ў',), ('з',), ('ды',), ('калі',), ('таму што',), ('назва',)]\n"
     ]
    }
   ],
   "source": [
    "fr2en = swadesh.entries(['be'])\n",
    "print(fr2en)"
   ]
  },
  {
   "cell_type": "code",
   "execution_count": 47,
   "metadata": {},
   "outputs": [
    {
     "name": "stdout",
     "output_type": "stream",
     "text": [
      "('say', 'sagen', 'zeggen', 'decir', 'dire', 'dizer', 'dicere')\n",
      "('sing', 'singen', 'zingen', 'cantar', 'chanter', 'cantar', 'canere')\n",
      "('play', 'spielen', 'spelen', 'jugar', 'jouer', 'jogar, brincar', 'ludere')\n",
      "('float', 'schweben', 'zweven', 'flotar', 'flotter', 'flutuar, boiar', 'fluctuare')\n",
      "('flow', 'fließen', 'vloeien', 'fluir', 'couler', 'fluir', 'fluere')\n"
     ]
    }
   ],
   "source": [
    "# Comparation of words in various Germanic and Romance languages\n",
    "languages = ['en', 'de', 'nl', 'es', 'fr', 'pt', 'la']\n",
    "for i in [139, 140, 141, 142, 143]:\n",
    "    print(swadesh.entries(languages)[i])"
   ]
  },
  {
   "cell_type": "code",
   "execution_count": 57,
   "metadata": {},
   "outputs": [
    {
     "name": "stdout",
     "output_type": "stream",
     "text": [
      "[('kaa', [('ps', 'V'), ('pt', 'A'), ('ge', 'gag'), ('tkp', 'nek i pas'), ('dcsv', 'true'), ('vx', '1'), ('sc', '???'), ('dt', '29/Oct/2005'), ('ex', 'Apoka ira kaaroi aioa-ia reoreopaoro.'), ('xp', 'Kaikai i pas long nek bilong Apoka bikos em i kaikai na toktok.'), ('xe', 'Apoka is gagging from food while talking.')]), ('kaa', [('ps', 'V'), ('pt', 'B'), ('ge', 'strangle'), ('tkp', 'pasim nek'), ('arg', 'O'), ('vx', '2'), ('dt', '07/Oct/2006'), ('ex', 'Rera rauroro rera kaarevoi.'), ('xp', 'Em i holim pas em na nekim em.'), ('xe', 'He is holding him and strangling him.'), ('ex', 'Iroiro-ia oirato okoearo kaaivoi uvare rirovira kaureoparoveira.'), ('xp', 'Ol i pasim nek bilong man long rop bikos em i save bikhet tumas.'), ('xe', \"They strangled the man's neck with rope because he was very stubborn and arrogant.\"), ('ex', 'Oirato okoearo kaaivoi iroiro-ia. Uva viapau uvuiparoi ra vovouparo uva kopiiroi.'), ('xp', 'Ol i pasim nek bilong man long rop. Olsem na em i no pulim win olsem na em i dai.'), ('xe', \"They strangled the man's neck with a rope. And he couldn't breathe and he died.\")])]\n"
     ]
    }
   ],
   "source": [
    "# Shoebox and Toolbox Lexicons\n",
    "from nltk.corpus import toolbox\n",
    "print(toolbox.entries('rotokas.dic')[:2])\n"
   ]
  },
  {
   "cell_type": "code",
   "execution_count": null,
   "metadata": {},
   "outputs": [],
   "source": []
  }
 ],
 "metadata": {
  "kernelspec": {
   "display_name": "Python 3",
   "language": "python",
   "name": "python3"
  },
  "language_info": {
   "codemirror_mode": {
    "name": "ipython",
    "version": 3
   },
   "file_extension": ".py",
   "mimetype": "text/x-python",
   "name": "python",
   "nbconvert_exporter": "python",
   "pygments_lexer": "ipython3",
   "version": "3.7.3"
  }
 },
 "nbformat": 4,
 "nbformat_minor": 2
}
