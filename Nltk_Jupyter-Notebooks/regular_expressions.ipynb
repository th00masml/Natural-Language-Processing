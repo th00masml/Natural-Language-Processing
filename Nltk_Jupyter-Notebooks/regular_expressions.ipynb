{
 "cells": [
  {
   "cell_type": "code",
   "execution_count": 44,
   "metadata": {
    "collapsed": true
   },
   "outputs": [],
   "source": [
    "import re # regex resource library\n",
    "\n",
    "re_test = 'Your mind will answer most questions if you learn to relax and wait for the answer'\n",
    "re_test_messy = 'Your mind will     answer most questions if you learn to relax     and wait for the answer'\n",
    "re_test_messy1 = 'Your mind will.// answer most questions>>>> if you learn to relax//* and wait for the answer'"
   ]
  },
  {
   "cell_type": "code",
   "execution_count": null,
   "metadata": {},
   "outputs": [],
   "source": [
    "# Splitting"
   ]
  },
  {
   "cell_type": "code",
   "execution_count": 27,
   "metadata": {},
   "outputs": [
    {
     "data": {
      "text/plain": [
       "['Your',\n",
       " 'mind',\n",
       " 'will',\n",
       " 'answer',\n",
       " 'most',\n",
       " 'questions',\n",
       " 'if',\n",
       " 'you',\n",
       " 'learn',\n",
       " 'to',\n",
       " 'relax',\n",
       " 'and',\n",
       " 'wait',\n",
       " 'for',\n",
       " 'the',\n",
       " 'answer']"
      ]
     },
     "execution_count": 27,
     "metadata": {},
     "output_type": "execute_result"
    }
   ],
   "source": [
    "re.split('\\s', re_test) # \\s stands for single whitespace "
   ]
  },
  {
   "cell_type": "code",
   "execution_count": 35,
   "metadata": {},
   "outputs": [
    {
     "data": {
      "text/plain": [
       "['Your',\n",
       " 'mind',\n",
       " 'will',\n",
       " '',\n",
       " '',\n",
       " '',\n",
       " '',\n",
       " 'answer',\n",
       " 'most',\n",
       " 'questions',\n",
       " 'if',\n",
       " 'you',\n",
       " 'learn',\n",
       " 'to',\n",
       " 'relax',\n",
       " '',\n",
       " '',\n",
       " '',\n",
       " '',\n",
       " 'and',\n",
       " 'wait',\n",
       " 'for',\n",
       " 'the',\n",
       " 'answer']"
      ]
     },
     "execution_count": 35,
     "metadata": {},
     "output_type": "execute_result"
    }
   ],
   "source": [
    "re.split('\\s', re_test_messy) # Won't work here"
   ]
  },
  {
   "cell_type": "code",
   "execution_count": 36,
   "metadata": {},
   "outputs": [
    {
     "data": {
      "text/plain": [
       "['Your',\n",
       " 'mind',\n",
       " 'will',\n",
       " 'answer',\n",
       " 'most',\n",
       " 'questions',\n",
       " 'if',\n",
       " 'you',\n",
       " 'learn',\n",
       " 'to',\n",
       " 'relax',\n",
       " 'and',\n",
       " 'wait',\n",
       " 'for',\n",
       " 'the',\n",
       " 'answer']"
      ]
     },
     "execution_count": 36,
     "metadata": {},
     "output_type": "execute_result"
    }
   ],
   "source": [
    "re.split('\\s+', re_test_messy) # We need to add '+' sign to search for more than one whitespaces"
   ]
  },
  {
   "cell_type": "code",
   "execution_count": 37,
   "metadata": {},
   "outputs": [
    {
     "data": {
      "text/plain": [
       "['Your',\n",
       " 'mind',\n",
       " 'will.//',\n",
       " 'answer',\n",
       " 'most',\n",
       " 'questions>>>>',\n",
       " 'if',\n",
       " 'you',\n",
       " 'learn',\n",
       " 'to',\n",
       " 'relax//*',\n",
       " 'and',\n",
       " 'wait',\n",
       " 'for',\n",
       " 'the',\n",
       " 'answer']"
      ]
     },
     "execution_count": 37,
     "metadata": {},
     "output_type": "execute_result"
    }
   ],
   "source": [
    "re.split('\\s+', re_test_messy1) # Again, won't work"
   ]
  },
  {
   "cell_type": "code",
   "execution_count": 38,
   "metadata": {},
   "outputs": [
    {
     "data": {
      "text/plain": [
       "['Your',\n",
       " 'mind',\n",
       " 'will',\n",
       " 'answer',\n",
       " 'most',\n",
       " 'questions',\n",
       " 'if',\n",
       " 'you',\n",
       " 'learn',\n",
       " 'to',\n",
       " 'relax',\n",
       " 'and',\n",
       " 'wait',\n",
       " 'for',\n",
       " 'the',\n",
       " 'answer']"
      ]
     },
     "execution_count": 38,
     "metadata": {},
     "output_type": "execute_result"
    }
   ],
   "source": [
    "re.split('\\W+', re_test_messy1) # We replace 's+' with 'W+' to search any non word characters"
   ]
  },
  {
   "cell_type": "code",
   "execution_count": 39,
   "metadata": {},
   "outputs": [
    {
     "data": {
      "text/plain": [
       "['Your',\n",
       " 'mind',\n",
       " 'will',\n",
       " 'answer',\n",
       " 'most',\n",
       " 'questions',\n",
       " 'if',\n",
       " 'you',\n",
       " 'learn',\n",
       " 'to',\n",
       " 'relax',\n",
       " 'and',\n",
       " 'wait',\n",
       " 'for',\n",
       " 'the',\n",
       " 'answer']"
      ]
     },
     "execution_count": 39,
     "metadata": {},
     "output_type": "execute_result"
    }
   ],
   "source": [
    "re.findall('\\S+', re_test) # Try different approach with 'findall' function. Find one or more non whitespace characters "
   ]
  },
  {
   "cell_type": "code",
   "execution_count": 40,
   "metadata": {},
   "outputs": [
    {
     "data": {
      "text/plain": [
       "['Your',\n",
       " 'mind',\n",
       " 'will',\n",
       " 'answer',\n",
       " 'most',\n",
       " 'questions',\n",
       " 'if',\n",
       " 'you',\n",
       " 'learn',\n",
       " 'to',\n",
       " 'relax',\n",
       " 'and',\n",
       " 'wait',\n",
       " 'for',\n",
       " 'the',\n",
       " 'answer']"
      ]
     },
     "execution_count": 40,
     "metadata": {},
     "output_type": "execute_result"
    }
   ],
   "source": [
    "re.findall('\\S+', re_test_messy) # More complicated example"
   ]
  },
  {
   "cell_type": "code",
   "execution_count": 41,
   "metadata": {},
   "outputs": [
    {
     "data": {
      "text/plain": [
       "['Your',\n",
       " 'mind',\n",
       " 'will.//',\n",
       " 'answer',\n",
       " 'most',\n",
       " 'questions>>>>',\n",
       " 'if',\n",
       " 'you',\n",
       " 'learn',\n",
       " 'to',\n",
       " 'relax//*',\n",
       " 'and',\n",
       " 'wait',\n",
       " 'for',\n",
       " 'the',\n",
       " 'answer']"
      ]
     },
     "execution_count": 41,
     "metadata": {},
     "output_type": "execute_result"
    }
   ],
   "source": [
    "re.findall('\\S+', re_test_messy1) # Won't work here"
   ]
  },
  {
   "cell_type": "code",
   "execution_count": 42,
   "metadata": {},
   "outputs": [
    {
     "data": {
      "text/plain": [
       "['Your',\n",
       " 'mind',\n",
       " 'will',\n",
       " 'answer',\n",
       " 'most',\n",
       " 'questions',\n",
       " 'if',\n",
       " 'you',\n",
       " 'learn',\n",
       " 'to',\n",
       " 'relax',\n",
       " 'and',\n",
       " 'wait',\n",
       " 'for',\n",
       " 'the',\n",
       " 'answer']"
      ]
     },
     "execution_count": 42,
     "metadata": {},
     "output_type": "execute_result"
    }
   ],
   "source": [
    "re.findall('\\w+', re_test_messy1) # Let's change 'S+' to 'w+' to find all non whitespace characters"
   ]
  },
  {
   "cell_type": "code",
   "execution_count": 43,
   "metadata": {},
   "outputs": [],
   "source": [
    "# Replacing"
   ]
  },
  {
   "cell_type": "code",
   "execution_count": 69,
   "metadata": {
    "collapsed": true
   },
   "outputs": [],
   "source": [
    "pep8_test = 'A paranoid is someone who knows a little of what PEP8 is going on' # PEP8 test\n",
    "pep7_test = 'A paranoid is someone who knows a little of what PEP7 is going on' # PEP7 test\n",
    "peep8_test = 'A paranoid is someone who knows a little of what PEEP8 is going on' # PEEP8 test"
   ]
  },
  {
   "cell_type": "code",
   "execution_count": 70,
   "metadata": {},
   "outputs": [],
   "source": [
    "import re"
   ]
  },
  {
   "cell_type": "code",
   "execution_count": 71,
   "metadata": {},
   "outputs": [
    {
     "data": {
      "text/plain": [
       "['paranoid',\n",
       " 'is',\n",
       " 'someone',\n",
       " 'who',\n",
       " 'knows',\n",
       " 'a',\n",
       " 'little',\n",
       " 'of',\n",
       " 'what',\n",
       " 'is',\n",
       " 'going',\n",
       " 'on']"
      ]
     },
     "execution_count": 71,
     "metadata": {},
     "output_type": "execute_result"
    }
   ],
   "source": [
    "re.findall('[a-z]+', pep8_test) # Some words are missing"
   ]
  },
  {
   "cell_type": "code",
   "execution_count": 72,
   "metadata": {},
   "outputs": [
    {
     "data": {
      "text/plain": [
       "['A', 'PEP']"
      ]
     },
     "execution_count": 72,
     "metadata": {},
     "output_type": "execute_result"
    }
   ],
   "source": [
    "re.findall('[A-Z]+', pep8_test) # Regex is case sensitive"
   ]
  },
  {
   "cell_type": "code",
   "execution_count": 73,
   "metadata": {},
   "outputs": [
    {
     "data": {
      "text/plain": [
       "['PEP8']"
      ]
     },
     "execution_count": 73,
     "metadata": {},
     "output_type": "execute_result"
    }
   ],
   "source": [
    "re.findall('[A-Z]+[0-9]+', pep8_test) # Regex is case sensitive, we need to add numeric values to search"
   ]
  },
  {
   "cell_type": "code",
   "execution_count": 77,
   "metadata": {},
   "outputs": [
    {
     "data": {
      "text/plain": [
       "'A paranoid is someone who knows a little of what PEP8 Python Styleguide is going on'"
      ]
     },
     "execution_count": 77,
     "metadata": {},
     "output_type": "execute_result"
    }
   ],
   "source": [
    "re.sub('[A-Z]+[0-9]+', 'PEP8 Python Styleguide', pep8_test) # Add 'PEP8 Python Styleguide' after criteria"
   ]
  },
  {
   "cell_type": "code",
   "execution_count": 83,
   "metadata": {},
   "outputs": [
    {
     "data": {
      "text/plain": [
       "'A paranoid is someone who knows a little of what PEP7 Python Styleguide is going on'"
      ]
     },
     "execution_count": 83,
     "metadata": {},
     "output_type": "execute_result"
    }
   ],
   "source": [
    "re.sub('[A-Z]+[0-9]+', 'PEP7 Python Styleguide', pep7_test) # Add 'PEP7 Python Styleguide' after criteria"
   ]
  },
  {
   "cell_type": "code",
   "execution_count": 82,
   "metadata": {},
   "outputs": [
    {
     "data": {
      "text/plain": [
       "'A paranoid is someone who knows a little of what PEEP8 Python Styleguide is going on'"
      ]
     },
     "execution_count": 82,
     "metadata": {},
     "output_type": "execute_result"
    }
   ],
   "source": [
    "re.sub('[A-Z]+[0-9]+', 'PEEP8 Python Styleguide', peep8_test) # Add 'PEEP8 Python Styleguide' after criteria"
   ]
  },
  {
   "cell_type": "markdown",
   "metadata": {},
   "source": [
    "### Other examples of regex methods\n",
    "\n",
    "- re.search()\n",
    "- re.match()\n",
    "- re.fullmatch()\n",
    "- re.finditer()\n",
    "- re.escape()"
   ]
  }
 ],
 "metadata": {
  "kernelspec": {
   "display_name": "Python 3",
   "language": "python",
   "name": "python3"
  },
  "language_info": {
   "codemirror_mode": {
    "name": "ipython",
    "version": 3
   },
   "file_extension": ".py",
   "mimetype": "text/x-python",
   "name": "python",
   "nbconvert_exporter": "python",
   "pygments_lexer": "ipython3",
   "version": "3.7.3"
  }
 },
 "nbformat": 4,
 "nbformat_minor": 2
}
