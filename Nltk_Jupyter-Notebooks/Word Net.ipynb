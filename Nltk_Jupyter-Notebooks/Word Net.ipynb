{
 "cells": [
  {
   "cell_type": "code",
   "execution_count": 80,
   "metadata": {},
   "outputs": [
    {
     "data": {
      "text/plain": [
       "[Synset('pain.n.01'),\n",
       " Synset('pain.n.02'),\n",
       " Synset('pain.n.03'),\n",
       " Synset('pain.n.04'),\n",
       " Synset('annoyance.n.04'),\n",
       " Synset('trouble.v.05'),\n",
       " Synset('pain.v.02')]"
      ]
     },
     "execution_count": 80,
     "metadata": {},
     "output_type": "execute_result"
    }
   ],
   "source": [
    "# Import wordnet\n",
    "# Synset means set of synonyms\n",
    "import nltk\n",
    "from nltk.corpus import wordnet as wn\n",
    "wn.synsets('pain')"
   ]
  },
  {
   "cell_type": "code",
   "execution_count": 12,
   "metadata": {},
   "outputs": [
    {
     "name": "stdout",
     "output_type": "stream",
     "text": [
      "['pain', 'hurting']\n",
      "a symptom of some physical hurt or disorder\n",
      "['the patient developed severe pain and distension']\n"
     ]
    }
   ],
   "source": [
    "# Prints out names, definitions and usage examples of certain lemma\n",
    "print(wn.synset('pain.n.01').lemma_names())\n",
    "print(wn.synset('pain.n.01').definition())\n",
    "print(wn.synset('pain.n.01').examples())"
   ]
  },
  {
   "cell_type": "code",
   "execution_count": 23,
   "metadata": {},
   "outputs": [
    {
     "name": "stdout",
     "output_type": "stream",
     "text": [
      "[Lemma('pain.n.01.pain'), Lemma('pain.n.01.hurting')]\n",
      "Lemma('pain.n.01.hurting')\n",
      "Synset('pain.n.01')\n",
      "pain.n.01\n"
     ]
    }
   ],
   "source": [
    "# Prints out all lemas for given synset, check particular lema,\n",
    "# Get the synset corresponding to a lemma and the name\n",
    "print(wn.synset('pain.n.01').lemmas())\n",
    "print(wn.lemma('pain.n.01.hurting'))\n",
    "print(wn.lemma('pain.n.01.hurting').synset())\n",
    "print(wn.lemma('pain.n.01.hurting').synset().name())"
   ]
  },
  {
   "cell_type": "code",
   "execution_count": 26,
   "metadata": {},
   "outputs": [
    {
     "data": {
      "text/plain": [
       "[Synset('pain.n.01'),\n",
       " Synset('pain.n.02'),\n",
       " Synset('pain.n.03'),\n",
       " Synset('pain.n.04'),\n",
       " Synset('annoyance.n.04'),\n",
       " Synset('trouble.v.05'),\n",
       " Synset('pain.v.02')]"
      ]
     },
     "execution_count": 26,
     "metadata": {},
     "output_type": "execute_result"
    }
   ],
   "source": [
    "# List of synsets for a given word\n",
    "wn.synsets('pain')"
   ]
  },
  {
   "cell_type": "code",
   "execution_count": 32,
   "metadata": {},
   "outputs": [
    {
     "name": "stdout",
     "output_type": "stream",
     "text": [
      "['pain', 'hurting']\n",
      "['pain', 'painfulness']\n",
      "['pain', 'pain_sensation', 'painful_sensation']\n",
      "['pain', 'pain_in_the_neck', 'nuisance']\n",
      "['annoyance', 'bother', 'botheration', 'pain', 'infliction', 'pain_in_the_neck', 'pain_in_the_ass']\n",
      "['trouble', 'ail', 'pain']\n",
      "['pain', 'anguish', 'hurt']\n"
     ]
    }
   ],
   "source": [
    "# Prints list of lemmas for a given word\n",
    "for synset in wn.synsets('pain'):\n",
    "    print(synset.lemma_names())"
   ]
  },
  {
   "cell_type": "code",
   "execution_count": 33,
   "metadata": {},
   "outputs": [
    {
     "data": {
      "text/plain": [
       "[Lemma('pain.n.01.pain'),\n",
       " Lemma('pain.n.02.pain'),\n",
       " Lemma('pain.n.03.pain'),\n",
       " Lemma('pain.n.04.pain'),\n",
       " Lemma('annoyance.n.04.pain'),\n",
       " Lemma('trouble.v.05.pain'),\n",
       " Lemma('pain.v.02.pain')]"
      ]
     },
     "execution_count": 33,
     "metadata": {},
     "output_type": "execute_result"
    }
   ],
   "source": [
    "wn.lemmas('pain')"
   ]
  },
  {
   "cell_type": "code",
   "execution_count": 43,
   "metadata": {},
   "outputs": [
    {
     "data": {
      "text/plain": [
       "Synset('pain.n.01')"
      ]
     },
     "execution_count": 43,
     "metadata": {},
     "output_type": "execute_result"
    }
   ],
   "source": [
    "# Hyponyms means more specific concept\n",
    "pain = wn.synset('pain.n.01')\n",
    "types_of_pain = pain.hyponyms()\n",
    "pain"
   ]
  },
  {
   "cell_type": "code",
   "execution_count": 42,
   "metadata": {},
   "outputs": [
    {
     "name": "stdout",
     "output_type": "stream",
     "text": [
      "['ache', 'aching', 'agony', 'arthralgia', 'burn', 'burning', 'causalgia', 'chest_pain', 'chiralgia', 'colic', 'costalgia', 'distress', 'dysmenorrhea', 'excruciation', 'glossalgia', 'glossodynia', 'gripes', 'griping', 'growing_pains', 'haemorrhoid', 'hemorrhoid', 'intestinal_colic', 'keratalgia', 'labor_pain', 'mastalgia', 'melagra', 'meralgia', 'metralgia', 'myalgia', 'myodynia', 'nephralgia', 'neuralgia', 'neuralgy', 'odynophagia', 'orchidalgia', 'pang', 'pang', 'photalgia', 'photophobia', 'piles', 'pleuralgia', 'pleurodynia', 'podalgia', 'proctalgia', 'rawness', 'referred_pain', 'renal_colic', 'smart', 'smarting', 'smartness', 'soreness', 'sting', 'sting', 'stinging', 'stitch', 'suffering', 'tenderness', 'thermalgesia', 'throb', 'torment', 'torture', 'ulalgia', 'urodynia']\n"
     ]
    }
   ],
   "source": [
    "# Looking at similar concepts\n",
    "print(sorted(lemma.name() for synset in types_of_pain for lemma in synset.lemmas()))"
   ]
  },
  {
   "cell_type": "code",
   "execution_count": 45,
   "metadata": {},
   "outputs": [
    {
     "data": {
      "text/plain": [
       "[Synset('symptom.n.01')]"
      ]
     },
     "execution_count": 45,
     "metadata": {},
     "output_type": "execute_result"
    }
   ],
   "source": [
    "pain.hypernyms()"
   ]
  },
  {
   "cell_type": "code",
   "execution_count": 49,
   "metadata": {},
   "outputs": [
    {
     "name": "stdout",
     "output_type": "stream",
     "text": [
      "1\n",
      "[[Synset('entity.n.01'), Synset('abstraction.n.06'), Synset('psychological_feature.n.01'), Synset('cognition.n.01'), Synset('information.n.02'), Synset('evidence.n.01'), Synset('symptom.n.01'), Synset('pain.n.01')]]\n"
     ]
    }
   ],
   "source": [
    "paths = pain.hypernym_paths()\n",
    "print(len(paths))\n",
    "print(paths)"
   ]
  },
  {
   "cell_type": "code",
   "execution_count": 54,
   "metadata": {},
   "outputs": [
    {
     "data": {
      "text/plain": [
       "['entity.n.01',\n",
       " 'abstraction.n.06',\n",
       " 'psychological_feature.n.01',\n",
       " 'cognition.n.01',\n",
       " 'information.n.02',\n",
       " 'evidence.n.01',\n",
       " 'symptom.n.01',\n",
       " 'pain.n.01']"
      ]
     },
     "execution_count": 54,
     "metadata": {},
     "output_type": "execute_result"
    }
   ],
   "source": [
    "[synset.name() for synset in paths[0]]"
   ]
  },
  {
   "cell_type": "code",
   "execution_count": 56,
   "metadata": {},
   "outputs": [
    {
     "data": {
      "text/plain": [
       "[Synset('entity.n.01')]"
      ]
     },
     "execution_count": 56,
     "metadata": {},
     "output_type": "execute_result"
    }
   ],
   "source": [
    "pain.root_hypernyms()"
   ]
  },
  {
   "cell_type": "code",
   "execution_count": 64,
   "metadata": {},
   "outputs": [
    {
     "name": "stdout",
     "output_type": "stream",
     "text": [
      "[Synset('burl.n.02'), Synset('crown.n.07'), Synset('limb.n.02'), Synset('stump.n.01'), Synset('trunk.n.01')]\n",
      "[Synset('heartwood.n.01'), Synset('sapwood.n.01')]\n",
      "[Synset('forest.n.01')]\n"
     ]
    }
   ],
   "source": [
    "# Lexical Relations\n",
    "print(wn.synset('tree.n.01').part_meronyms())\n",
    "print(wn.synset('tree.n.01').substance_meronyms())\n",
    "print(wn.synset('tree.n.01').member_holonyms())"
   ]
  },
  {
   "cell_type": "code",
   "execution_count": 65,
   "metadata": {},
   "outputs": [
    {
     "name": "stdout",
     "output_type": "stream",
     "text": [
      "batch.n.02: (often followed by `of') a large number or amount or extent\n",
      "mint.n.02: any north temperate plant of the genus Mentha with aromatic leaves and small mauve flowers\n",
      "mint.n.03: any member of the mint family of plants\n",
      "mint.n.04: the leaves of a mint plant used fresh or candied\n",
      "mint.n.05: a candy that is flavored with a mint oil\n",
      "mint.n.06: a plant where money is coined by authority of the government\n"
     ]
    }
   ],
   "source": [
    "for synset in wn.synsets('mint', wn.NOUN):\n",
    "    print(synset.name() + ':', synset.definition())"
   ]
  },
  {
   "cell_type": "code",
   "execution_count": 66,
   "metadata": {},
   "outputs": [
    {
     "data": {
      "text/plain": [
       "[Synset('mint.n.02')]"
      ]
     },
     "execution_count": 66,
     "metadata": {},
     "output_type": "execute_result"
    }
   ],
   "source": [
    "wn.synset('mint.n.04').part_holonyms()"
   ]
  },
  {
   "cell_type": "code",
   "execution_count": 67,
   "metadata": {},
   "outputs": [
    {
     "data": {
      "text/plain": [
       "[Synset('mint.n.05')]"
      ]
     },
     "execution_count": 67,
     "metadata": {},
     "output_type": "execute_result"
    }
   ],
   "source": [
    "wn.synset('mint.n.04').substance_holonyms()"
   ]
  },
  {
   "cell_type": "code",
   "execution_count": 74,
   "metadata": {},
   "outputs": [
    {
     "name": "stdout",
     "output_type": "stream",
     "text": [
      "[Synset('step.v.01')]\n",
      "[Synset('chew.v.01'), Synset('swallow.v.01')]\n",
      "[Synset('arouse.v.07'), Synset('disappoint.v.01')]\n"
     ]
    }
   ],
   "source": [
    "# Relationships between verbs\n",
    "print(wn.synset('walk.v.01').entailments())\n",
    "print(wn.synset('eat.v.01').entailments())\n",
    "print(wn.synset('tease.v.03').entailments())"
   ]
  },
  {
   "cell_type": "code",
   "execution_count": 78,
   "metadata": {},
   "outputs": [
    {
     "name": "stdout",
     "output_type": "stream",
     "text": [
      "[Lemma('demand.n.02.demand')]\n",
      "[Lemma('linger.v.04.linger')]\n",
      "[Lemma('vertical.a.01.vertical'), Lemma('inclined.a.02.inclined')]\n",
      "[Lemma('legato.r.01.legato')]\n"
     ]
    }
   ],
   "source": [
    "# Lexical relationships between lemmas\n",
    "print(wn.lemma('supply.n.02.supply').antonyms())\n",
    "print(wn.lemma('rush.v.01.rush').antonyms())\n",
    "print(wn.lemma('horizontal.a.01.horizontal').antonyms())\n",
    "print(wn.lemma('staccato.r.01.staccato').antonyms())"
   ]
  },
  {
   "cell_type": "code",
   "execution_count": 81,
   "metadata": {},
   "outputs": [],
   "source": [
    "# Semantic Similarity\n",
    "right = wn.synset('right_whale.n.01')\n",
    "orca = wn.synset('orca.n.01')\n",
    "minke = wn.synset('minke_whale.n.01')\n",
    "tortoise = wn.synset('tortoise.n.01')\n",
    "novel = wn.synset('novel.n.01')"
   ]
  },
  {
   "cell_type": "code",
   "execution_count": 82,
   "metadata": {},
   "outputs": [
    {
     "name": "stdout",
     "output_type": "stream",
     "text": [
      "[Synset('baleen_whale.n.01')]\n",
      "[Synset('whale.n.02')]\n",
      "[Synset('vertebrate.n.01')]\n",
      "[Synset('entity.n.01')]\n"
     ]
    }
   ],
   "source": [
    "print(right.lowest_common_hypernyms(minke))\n",
    "print(right.lowest_common_hypernyms(orca))\n",
    "print(right.lowest_common_hypernyms(tortoise))\n",
    "print(right.lowest_common_hypernyms(novel))"
   ]
  },
  {
   "cell_type": "code",
   "execution_count": 84,
   "metadata": {},
   "outputs": [
    {
     "name": "stdout",
     "output_type": "stream",
     "text": [
      "14\n",
      "13\n",
      "8\n",
      "0\n"
     ]
    }
   ],
   "source": [
    "# Checking the \"depth\" of each word\n",
    "print(wn.synset('baleen_whale.n.01').min_depth())\n",
    "print(wn.synset('whale.n.02').min_depth())\n",
    "print(wn.synset('vertebrate.n.01').min_depth())\n",
    "print(wn.synset('entity.n.01').min_depth())"
   ]
  },
  {
   "cell_type": "code",
   "execution_count": 85,
   "metadata": {},
   "outputs": [
    {
     "name": "stdout",
     "output_type": "stream",
     "text": [
      "0.25\n",
      "0.16666666666666666\n",
      "0.07692307692307693\n",
      "0.043478260869565216\n"
     ]
    }
   ],
   "source": [
    "# Count length of path (1-(-1))\n",
    "print(right.path_similarity(minke))\n",
    "print(right.path_similarity(orca))\n",
    "print(right.path_similarity(tortoise))\n",
    "print(right.path_similarity(novel))"
   ]
  },
  {
   "cell_type": "code",
   "execution_count": null,
   "metadata": {},
   "outputs": [],
   "source": []
  }
 ],
 "metadata": {
  "kernelspec": {
   "display_name": "Python 3",
   "language": "python",
   "name": "python3"
  },
  "language_info": {
   "codemirror_mode": {
    "name": "ipython",
    "version": 3
   },
   "file_extension": ".py",
   "mimetype": "text/x-python",
   "name": "python",
   "nbconvert_exporter": "python",
   "pygments_lexer": "ipython3",
   "version": "3.7.3"
  }
 },
 "nbformat": 4,
 "nbformat_minor": 2
}
