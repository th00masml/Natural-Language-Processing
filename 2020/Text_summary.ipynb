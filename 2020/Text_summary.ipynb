{
 "cells": [
  {
   "cell_type": "code",
   "execution_count": 1,
   "metadata": {},
   "outputs": [],
   "source": [
    "from bs4 import BeautifulSoup\n",
    "from urllib.request import urlopen\n",
    "from nltk.tokenize import sent_tokenize\n",
    "import numpy as np\n",
    "import pandas as pd\n",
    "from nltk.corpus import stopwords\n",
    "from sklearn.metrics.pairwise import cosine_similarity\n",
    "import networkx as nx"
   ]
  },
  {
   "cell_type": "code",
   "execution_count": 3,
   "metadata": {},
   "outputs": [],
   "source": [
    "def get_only_text(url):\n",
    "    \"\"\" \n",
    "    Return title and text of article defined \n",
    "    as url\n",
    "    \"\"\"\n",
    "    page = urlopen(url)\n",
    "    soup = BeautifulSoup(page, \"lxml\")\n",
    "    text = ' '.join(map(lambda p: p.text, soup.find_all('p')))\n",
    "  \n",
    "    print (\"=====================\")\n",
    "    print (text)\n",
    "    print (\"=====================\")\n",
    " \n",
    "    return soup.title.text, text  \n"
   ]
  },
  {
   "cell_type": "code",
   "execution_count": 4,
   "metadata": {},
   "outputs": [
    {
     "name": "stdout",
     "output_type": "stream",
     "text": [
      "=====================\n",
      "1000-Word Philosophy: An Introductory Anthology Philosophy, One Thousand Words at a Time Author: Erik Van Aken\n",
      "Category: Phenomenology and Existentialism, Ethics\n",
      "Word Count: 1000 “There is only one truly serious philosophical problem, and that is suicide. Judging whether life is or is not worth living amounts to answering the fundamental question of philosophy.” –  Albert Camus It might seem flippant to remark that the essential question in philosophy is “Should I kill myself?” But the question of suicide rests on what Camus considered the essential human problem: the sense in which our lives are entirely absurd. This essay will outline the origin and consequences of Camus’s notion of the absurd from his 1942 The Myth of Sisyphus.[1] There are many things we might naturally call absurd: a rude joke, an outrageous statement, or the price of a pair of designer jeans. This though is not what Camus means by “absurd.” For Camus, the absurd originates from a combination of two things: the way we want the world to be and the way the world actually is. About how we want the world to be, it just seems to be a part of human nature that we have a sense of justice and fairness, and so we want the world to be just and fair: we want evil punished and virtue rewarded. We also want to understand why bad things happen to good people, why good things happen to bad people, why we’re here, where we’re going, and what it all means. Concerning how things actually are, however, evil goes unpunished, good deeds often are not rewarded, good things happen to bad people, bad things happen to good people, and we don’t understand any of it. We just do not, and according to Camus, we cannot understand what we want to understand. Camus’s doctrine of the absurd then has both metaphysical and epistemological aspects. As a metaphysical thesis, the absurd is a confrontation between the human mind and an indifferent universe: what exists is a “mind that desires and the world that disappoints” (50). As an epistemological thesis, the absurd highlights our desire to understand and the fundamental limits of our knowledge. Having diagnosed the essential human problem, Camus shifts his interest to prognosis, determining whether and how to live in the face of the absurd. The Myth of Sisyphus is primarily a critique of existentialism, specifically the attempts by thinkers such as Kierkegaard, Jaspers, and Heidegger to overcome the absurd by appealing to God or the transcendent. These thinkers, Camus claims, contradict themselves by presupposing that life is absurd in some way, but proposing a solution to the absurd (so that life isn’t really absurd after all). For example, Kierkegaard sees life as profoundly absurd, due to its central lack of meaning. He thereby proposes that we take “a leap of faith,” essentially arguing that belief in God will ultimately provide one’s life with meaning. Camus opposes this form of escapism, claiming that existentialists “deify what crushes them and find reason to hope in what impoverishes them” (24). Camus rejects appeals to the transcendent; for him, the absurd – the “divorce” between us and the world – represents the inescapable human condition. As we’ll see, in place of the false hope of religiosity, Camus advises a vivid awareness of the absurd and a form of revolt. In Greek mythology, Sisyphus was condemned by the gods to the pointless task of rolling a large rock up a mountain, only to watch the rock roll back down, and to repeat the task for eternity. As a life filled entirely of mundane and trivial labor, Sisyphus’s existence is meant to illustrate the futility (and absurdity) we confront in our own lives. Camus observes that a person’s life can become, essentially, a mundane routine: “Rising, streetcar, four hours in the office or the factory, meal, streetcar, four hours of work, meal, sleep, and Monday Tuesday Wednesday Thursday Friday Saturday and Sunday according to the same rhythm…” (12-13). Yet, for Camus, Sisyphus is not to be pitied. Sisyphus represents the “absurd hero” because he chooses to live in the face of absurdity. This “choosing to live” is a matter of consciousness, for through his attitude and outlook, Sisyphus can free himself from his punishment and triumph over his situation without being able to change it. Sisyphus is aware of the full extent of his punishment: he is fully conscious of the fate imposed on him by the gods and the utter futility of his existence. His passion, freedom, and revolt, however, make him stronger than the punishment intended to crush him. Though it may seem odd, Camus indicates that Sisyphus is happy. By making his rock “his thing” (123), Sisyphus finds joy in being. Perhaps the climb up becomes more comfortable over time: maybe the muscles that once strained under the weight of the rock now effortlessly control it; conceivably, the rock moves so gracefully upwards that the act of moving it becomes a work of art. Through his freedom, Sisyphus revolts against the gods and refuses the futility of their punishment by consciously living with passion. The rock, the mountain, the sky, and the dirt belong to him and are his world. Sisyphus has no hope to change his situation but, nevertheless, he uses all that’s given to and available for him. Camus’s answer to the question of suicide is no. Camus insists that we must persist in the face of absurdity and not give ourselves over to false hope; he ultimately suggests that life will be lived all the better if it has no meaning. It is up to us to live our lives with passion, freedom, and revolt – three consequences of the absurd – or else we give in to false hope or even choose not to live at all. By embracing our passions and absurd freedom, we can thus throw ourselves into the world with a desire to use all that’s given. Though we can never reconcile the metaphysical and epistemological tensions that give rise to the absurd, we can remember that the “point,” after all, is “to live” (65). [1] Further quotations will be from The Myth of Sisyphus and given in the main text. The first quote is from page 3. Camus, Albert (1942), The Myth of Sisyphus, J.O’Brien (trans.). Harmondsworth: Penguin, 2018. Aronson, Ronald, “Albert Camus”, The Stanford Encyclopedia of Philosophy (Summer 2017 Edition), Edward N. Zalta (ed.), URL = <https://plato.stanford.edu/archives/sum2017/entries/camus/>. Existentialism by Addison Ellis Hope by Michael Milona & Katie Stockdale Download this essay in PDF.  The editors thank Matthew Howery and Melissa Shew for their feedback on this essay. Erik received an MSc in philosophy from the University of Edinburgh and a Ph.D. in philosophy from the University of Kent. He has taught philosophy at the University of Kent as an Assistant and Associate Lecturer.  His main interests lie at the intersection of metaphysics and the philosophy of agency. https://kent.academia.edu/Erikvanaken Comments are closed. Enter your email address to follow this page and receive notifications of new essays by email. Join 2,077 other followers  \n",
      "\n",
      "\n",
      "\n",
      "\n",
      "\n",
      " \n",
      "\t                    Follow                    \n",
      "  RSS - Posts\n",
      "=====================\n"
     ]
    }
   ],
   "source": [
    "url = \"https://1000wordphilosophy.com/2019/05/01/camus-on-the-absurd-the-myth-of-sisyphus/\"\n",
    "text = get_only_text(url)"
   ]
  },
  {
   "cell_type": "code",
   "execution_count": 5,
   "metadata": {},
   "outputs": [],
   "source": [
    "# Split by sentences\n",
    "sentences = []\n",
    "for s in text:\n",
    "    sentences.append(sent_tokenize(s))\n",
    "\n",
    "sentences = [y for x in sentences for y in x]"
   ]
  },
  {
   "cell_type": "code",
   "execution_count": 14,
   "metadata": {},
   "outputs": [
    {
     "data": {
      "text/plain": [
       "['Camus on the Absurd: The Myth of Sisyphus – 1000-Word Philosophy: An Introductory Anthology',\n",
       " '1000-Word Philosophy: An Introductory Anthology Philosophy, One Thousand Words at a Time Author: Erik Van Aken\\nCategory:\\xa0Phenomenology and Existentialism, Ethics\\nWord Count: 1000 “There is only one truly serious philosophical problem, and that is suicide.',\n",
       " 'Judging whether life is or is not worth living amounts to answering the fundamental question of philosophy.”\\xa0–\\xa0 Albert Camus It might seem flippant to remark that the essential question in philosophy is “Should I kill myself?” But the question of suicide rests on what Camus considered the essential human problem: the sense in which our lives are entirely absurd.',\n",
       " 'This essay will outline the origin and consequences of Camus’s notion of the absurd from his 1942 The Myth of Sisyphus.',\n",
       " '[1] There are many things we might naturally call absurd: a rude joke, an outrageous statement, or the price of a pair of designer jeans.',\n",
       " 'This though is not what Camus means by “absurd.” For Camus, the absurd originates from a combination of two things: the way we want the world to be and the way the world actually is.',\n",
       " 'About how we want the world to be, it just seems to be a part of human nature that we have a sense of justice and fairness, and so we want the world to be just and fair: we want evil punished and virtue rewarded.',\n",
       " 'We also want to understand why bad things happen to good people, why good things happen to bad people, why we’re here, where we’re going, and what it all means.',\n",
       " 'Concerning how things actually are, however, evil goes unpunished, good deeds often are not rewarded, good things happen to bad people, bad things happen to good people, and we don’t understand any of it.',\n",
       " 'We just do not, and according to Camus, we cannot understand what we want to understand.']"
      ]
     },
     "execution_count": 14,
     "metadata": {},
     "output_type": "execute_result"
    }
   ],
   "source": [
    "sentences[:10]"
   ]
  },
  {
   "cell_type": "code",
   "execution_count": 8,
   "metadata": {},
   "outputs": [],
   "source": [
    "# Create word vectors\n",
    "word_embeddings = {}\n",
    "f = open(r'C:\\Users\\bnawa\\Data\\glove.6B.100d.txt', encoding='utf-8')\n",
    "for line in f:\n",
    "    values = line.split()\n",
    "    word = values[0]\n",
    "    coefs = np.asarray(values[1:], dtype='float32')\n",
    "    word_embeddings[word] = coefs\n",
    "f.close()"
   ]
  },
  {
   "cell_type": "code",
   "execution_count": 10,
   "metadata": {},
   "outputs": [
    {
     "data": {
      "text/plain": [
       "_io.TextIOWrapper"
      ]
     },
     "execution_count": 10,
     "metadata": {},
     "output_type": "execute_result"
    }
   ],
   "source": [
    "type(f)"
   ]
  },
  {
   "cell_type": "code",
   "execution_count": 16,
   "metadata": {},
   "outputs": [],
   "source": [
    "# Clean the text by removing punctuations, numbers, special characters and changing to lowercase\n",
    "clean_sentences = pd.Series(sentences).str.replace(\"[^a-zA-Z]\", \" \")\n",
    "clean_sentences = [s.lower() for s in clean_sentences]\n",
    "\n",
    "\n",
    "# Remove stopwords\n",
    "stop_words = stopwords.words('english')\n",
    "def remove_stopwords(sen):\n",
    "    sen_new = \" \".join([i for i in sen if i not in stop_words])\n",
    "    return sen_new\n",
    "clean_sentences = [remove_stopwords(r.split()) for r in clean_sentences]"
   ]
  },
  {
   "cell_type": "code",
   "execution_count": 17,
   "metadata": {},
   "outputs": [
    {
     "data": {
      "text/plain": [
       "['camus absurd myth sisyphus word philosophy introductory anthology',\n",
       " 'word philosophy introductory anthology philosophy one thousand words time author erik van aken category phenomenology existentialism ethics word count one truly serious philosophical problem suicide',\n",
       " 'judging whether life worth living amounts answering fundamental question philosophy albert camus might seem flippant remark essential question philosophy kill question suicide rests camus considered essential human problem sense lives entirely absurd',\n",
       " 'essay outline origin consequences camus notion absurd myth sisyphus',\n",
       " 'many things might naturally call absurd rude joke outrageous statement price pair designer jeans',\n",
       " 'though camus means absurd camus absurd originates combination two things way want world way world actually',\n",
       " 'want world seems part human nature sense justice fairness want world fair want evil punished virtue rewarded',\n",
       " 'also want understand bad things happen good people good things happen bad people going means',\n",
       " 'concerning things actually however evil goes unpunished good deeds often rewarded good things happen bad people bad things happen good people understand',\n",
       " 'according camus cannot understand want understand']"
      ]
     },
     "execution_count": 17,
     "metadata": {},
     "output_type": "execute_result"
    }
   ],
   "source": [
    "clean_sentences[:10]"
   ]
  },
  {
   "cell_type": "code",
   "execution_count": 18,
   "metadata": {},
   "outputs": [],
   "source": [
    "# Create sentence vectors\n",
    "sentence_vectors = []\n",
    "for i in clean_sentences:\n",
    "    if len(i) != 0:\n",
    "        v = sum([word_embeddings.get(w, np.zeros((100,))) for w in i.split()])/(len(i.split())+0.001)\n",
    "    else:\n",
    "        v = np.zeros((100,))\n",
    "    sentence_vectors.append(v)"
   ]
  },
  {
   "cell_type": "code",
   "execution_count": 20,
   "metadata": {},
   "outputs": [
    {
     "data": {
      "text/plain": [
       "[array([ 0.03586977,  0.19389476,  0.2726899 ,  0.37198073,  0.11881065,\n",
       "         0.32537743,  0.17772092, -0.51747024,  0.03076473, -0.06257893,\n",
       "        -0.19501448,  0.2774534 , -0.33692163,  0.22008559,  0.14922786,\n",
       "         0.08476252, -0.01160093,  0.14273278,  0.00314447,  0.20297237,\n",
       "         0.15674804, -0.00537395, -0.23808467, -0.11559442,  0.32124484,\n",
       "        -0.15754716, -0.00678927, -0.13180065, -0.1589435 , -0.10319959,\n",
       "        -0.34406924,  0.09840905, -0.563272  , -0.19713762, -0.53251594,\n",
       "         0.355869  , -0.17206374,  0.20702286,  0.06178641, -0.43907386,\n",
       "        -0.22145805,  0.38474977, -0.27716532, -0.04895672, -0.1651226 ,\n",
       "        -0.16315897,  0.30688888,  0.04512184, -0.09164353,  0.05690426,\n",
       "         0.22659555,  0.26833156,  0.45293084,  0.3919105 , -0.52248544,\n",
       "        -0.7511448 ,  0.41199848,  0.2888591 ,  0.20851444,  0.21023372,\n",
       "         0.37528554,  0.41801775, -0.18884613, -0.4889876 ,  0.66536176,\n",
       "        -0.28472266,  0.25105888,  0.15371326, -0.08329709, -0.29411697,\n",
       "         0.03839545,  0.11457168,  0.22985615,  0.08425413, -0.43733284,\n",
       "         0.21818984,  0.21914573,  0.21483   , -0.3506165 , -0.19995199,\n",
       "        -0.4215829 , -0.04797774, -0.2408635 , -0.18414828, -0.74420196,\n",
       "         0.16764428, -0.4741211 , -0.48891512,  0.07203849, -0.1386474 ,\n",
       "         0.17072102, -0.11628834, -0.00902862,  0.1167663 ,  0.40359256,\n",
       "        -0.46981138, -0.2327784 , -0.4824855 ,  0.0716178 ,  0.4711886 ],\n",
       "       dtype=float32)]"
      ]
     },
     "execution_count": 20,
     "metadata": {},
     "output_type": "execute_result"
    }
   ],
   "source": [
    "sentence_vectors[:1]"
   ]
  },
  {
   "cell_type": "code",
   "execution_count": 21,
   "metadata": {},
   "outputs": [],
   "source": [
    "# Create an empty similarity matrix\n",
    "sim_mat = np.zeros([len(sentences), len(sentences)])"
   ]
  },
  {
   "cell_type": "code",
   "execution_count": 22,
   "metadata": {},
   "outputs": [],
   "source": [
    "# Define cosine similarity (similarity as the normalized dot product of X and Y)\n",
    "for i in range(len(sentences)):\n",
    "    for j in range(len(sentences)):\n",
    "        if i != j:\n",
    "            sim_mat[i][j] = cosine_similarity(sentence_vectors[i].reshape(1,100), sentence_vectors[j].reshape(1,100))[0,0]"
   ]
  },
  {
   "cell_type": "code",
   "execution_count": 24,
   "metadata": {},
   "outputs": [
    {
     "name": "stdout",
     "output_type": "stream",
     "text": [
      "Judging whether life is or is not worth living amounts to answering the fundamental question of philosophy.” –  Albert Camus It might seem flippant to remark that the essential question in philosophy is “Should I kill myself?” But the question of suicide rests on what Camus considered the essential human problem: the sense in which our lives are entirely absurd.\n",
      "This though is not what Camus means by “absurd.” For Camus, the absurd originates from a combination of two things: the way we want the world to be and the way the world actually is.\n",
      "Camus insists that we must persist in the face of absurdity and not give ourselves over to false hope; he ultimately suggests that life will be lived all the better if it has no meaning.\n",
      "For example, Kierkegaard sees life as profoundly absurd, due to its central lack of meaning.\n",
      "He thereby proposes that we take “a leap of faith,” essentially arguing that belief in God will ultimately provide one’s life with meaning.\n",
      "It is up to us to live our lives with passion, freedom, and revolt – three consequences of the absurd – or else we give in to false hope or even choose not to live at all.\n",
      "This “choosing to live” is a matter of consciousness, for through his attitude and outlook, Sisyphus can free himself from his punishment and triumph over his situation without being able to change it.\n",
      "About how we want the world to be, it just seems to be a part of human nature that we have a sense of justice and fairness, and so we want the world to be just and fair: we want evil punished and virtue rewarded.\n",
      "Though we can never reconcile the metaphysical and epistemological tensions that give rise to the absurd, we can remember that the “point,” after all, is “to live” (65).\n",
      "By embracing our passions and absurd freedom, we can thus throw ourselves into the world with a desire to use all that’s given.\n"
     ]
    }
   ],
   "source": [
    "# Use pagerank to create rank\n",
    "nx_graph = nx.from_numpy_array(sim_mat)\n",
    "scores = nx.pagerank(nx_graph)\n",
    "ranked_sentences = sorted(((scores[i],s) for i,s in enumerate(sentences)), reverse=True)\n",
    "\n",
    "for i in range(10):\n",
    "    print(ranked_sentences[i][1])"
   ]
  },
  {
   "cell_type": "code",
   "execution_count": null,
   "metadata": {},
   "outputs": [],
   "source": []
  }
 ],
 "metadata": {
  "kernelspec": {
   "display_name": "Python 3",
   "language": "python",
   "name": "python3"
  },
  "language_info": {
   "codemirror_mode": {
    "name": "ipython",
    "version": 3
   },
   "file_extension": ".py",
   "mimetype": "text/x-python",
   "name": "python",
   "nbconvert_exporter": "python",
   "pygments_lexer": "ipython3",
   "version": "3.7.3"
  }
 },
 "nbformat": 4,
 "nbformat_minor": 2
}
