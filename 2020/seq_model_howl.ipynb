{
 "cells": [
  {
   "cell_type": "code",
   "execution_count": 15,
   "metadata": {},
   "outputs": [],
   "source": [
    "from tensorflow.keras.preprocessing.sequence import pad_sequences\n",
    "from tensorflow.keras.layers import Embedding, LSTM, Dense, Dropout, Bidirectional, Flatten\n",
    "from tensorflow.keras.preprocessing.text import Tokenizer\n",
    "from tensorflow.keras.models import Sequential\n",
    "from tensorflow.keras.optimizers import Adam\n",
    "from tensorflow.keras.regularizers import Regularizer\n",
    "\n",
    "\n",
    "import tensorflow.keras.utils as ku \n",
    "import numpy as np"
   ]
  },
  {
   "cell_type": "markdown",
   "metadata": {},
   "source": [
    "Prepare corpus"
   ]
  },
  {
   "cell_type": "code",
   "execution_count": 16,
   "metadata": {},
   "outputs": [],
   "source": [
    "with open('howl.txt', 'r') as howl:\n",
    "  data = howl.read()\n"
   ]
  },
  {
   "cell_type": "code",
   "execution_count": 17,
   "metadata": {},
   "outputs": [],
   "source": [
    "tokenizer = Tokenizer()\n",
    "corpus = data.lower().split('\\n')"
   ]
  },
  {
   "cell_type": "code",
   "execution_count": 18,
   "metadata": {},
   "outputs": [
    {
     "name": "stdout",
     "output_type": "stream",
     "text": [
      "{'the': 1, 'of': 2, 'and': 3, 'in': 4, 'who': 5, 'to': 6, 'with': 7, 'a': 8, 'moloch': 9, 'you': 10, 'their': 11, 'on': 12, 'where': 13, 'for': 14, 'rockland': 15, 'out': 16, 'i’m': 17, 'or': 18, 'down': 19, 'whose': 20, 'were': 21, 'is': 22, 'through': 23, 'night': 24, 'up': 25, 'i': 26, 'at': 27, 'under': 28, 'all': 29, 'off': 30, 'soul': 31, 'by': 32, 'light': 33, 'time': 34, 'over': 35, 'they': 36, 'last': 37, 'your': 38, 'my': 39, 'naked': 40, 'themselves': 41, 'streets': 42, 'from': 43, 'into': 44, 'but': 45, 'that': 46, 'denver': 47, 'are': 48, 'eyed': 49, 'jazz': 50, 'eyes': 51, 'dreams': 52, 'endless': 53, 'mind': 54, 'one': 55, 'river': 56, 'an': 57, 'angels': 58, 'wall': 59, 'moon': 60, 'jumped': 61, 'roof': 62, 'love': 63, 'come': 64, 'fell': 65, 'vision': 66, 'heads': 67, 'solitude': 68, 'whom': 69, 'carl': 70, 'saw': 71, 'minds': 72, 'machinery': 73, 'sat': 74, 'cities': 75, 'heaven': 76, 'war': 77, 'windows': 78, 'new': 79, 'ate': 80, 'blind': 81, 'brooklyn': 82, 'holy': 83, 'them': 84, 'beer': 85, 'bridge': 86, 'leaving': 87, 'room': 88, 'midnight': 89, 'went': 90, 'no': 91, 'boxcars': 92, 'lonesome': 93, 'it': 94, 'thought': 95, 'mad': 96, 'soup': 97, 'eternity': 98, 'nothing': 99, 'wailed': 100, 'own': 101, 'be': 102, 'human': 103, 'morning': 104, 'old': 105, 'shrew': 106, 'consciousness': 107, 'full': 108, 'blood': 109, 'door': 110, 'open': 111, 'rose': 112, 'threw': 113, 'not': 114, 'find': 115, 'had': 116, 'its': 117, 'radio': 118, 'pingpong': 119, 'dream': 120, 'bodies': 121, 'stone': 122, 'am': 123, 'you’re': 124, 'thousand': 125, 'we': 126, 'o': 127, 'solomon': 128, 'generation': 129, 'looking': 130, 'burning': 131, 'starry': 132, 'dynamo': 133, 'poverty': 134, 'smoking': 135, 'supernatural': 136, 'darkness': 137, 'across': 138, 'brains': 139, 'tenement': 140, 'illuminated': 141, 'crazy': 142, 'skull': 143, 'underwear': 144, 'money': 145, 'listening': 146, 'beards': 147, 'returning': 148, 'fire': 149, 'death': 150, 'after': 151, 'shuddering': 152, 'cloud': 153, 'toward': 154, 'between': 155, 'halls': 156, 'tree': 157, 'roaring': 158, 'winter': 159, 'bronx': 160, 'until': 161, 'children': 162, 'bleak': 163, 'doom': 164, 'hydrogen': 165, 'hours': 166, 'lost': 167, 'jumping': 168, 'screaming': 169, 'shocks': 170, 'whole': 171, 'total': 172, 'brilliant': 173, 'meat': 174, 'cast': 175, 'atlantic': 176, 'city': 177, 'hall': 178, 'suffering': 179, 'furnished': 180, 'around': 181, 'broken': 182, 'hearts': 183, 'cigarettes': 184, 'cross': 185, 'feet': 186, 'loned': 187, 'seeking': 188, 'visionary': 189, 'indian': 190, 'only': 191, 'when': 192, 'ecstasy': 193, 'about': 194, 'america': 195, 'hopeless': 196, 'mexico': 197, 'behind': 198, 'shadow': 199, 'incomprehensible': 200, 'burned': 201, 'weeping': 202, 'while': 203, 'island': 204, 'broke': 205, 'trembling': 206, 'before': 207, 'bit': 208, 'wild': 209, 'knees': 210, 'subway': 211, 'waving': 212, 'let': 213, 'ass': 214, 'blew': 215, 'parks': 216, 'angel': 217, 'came': 218, 'three': 219, 'fate': 220, 'sit': 221, 'her': 222, 'golden': 223, 'floor': 224, 'girls': 225, 'secret': 226, 'his': 227, 'lonely': 228, 'gas': 229, 'vast': 230, 'sudden': 231, 'hung': 232, 'avenue': 233, 'iron': 234, 'walked': 235, 'waiting': 236, 'east': 237, 'great': 238, 'banks': 239, 'crowned': 240, 'imagination': 241, 'sky': 242, 'rocking': 243, 'rolling': 244, 'which': 245, 'yellow': 246, 'stanzas': 247, 'heart': 248, 'pure': 249, 'outside': 250, 'cried': 251, 'innocent': 252, 'intelligent': 253, 'run': 254, 'absolute': 255, 'reality': 256, 'this': 257, 'away': 258, 'unknown': 259, 'ghostly': 260, 'even': 261, 'free': 262, 'sang': 263, 'window': 264, 'street': 265, 'each': 266, 'other’s': 267, 'golgotha': 268, 'jail': 269, 'finally': 270, 'now': 271, 'breasts': 272, 'boys': 273, 'left': 274, 'insanity': 275, 'granite': 276, 'madhouse': 277, 'void': 278, 'electricity': 279, 'years': 280, 'tears': 281, 'fingers': 282, 'madman': 283, 'life': 284, 'nightmare': 285, 'as': 286, 'heavy': 287, 'mother': 288, 'mental': 289, 'imaginary': 290, 'safe': 291, 'animal': 292, 'measure': 293, 'images': 294, 'together': 295, 'stand': 296, 'yet': 297, 'here': 298, 'what': 299, 'eli': 300, 'lamma': 301, 'armies': 302, 'men': 303, 'ten': 304, 'tomb': 305, 'long': 306, 'body': 307, 'wake': 308, 'invisible': 309, 'bombs': 310, 'lifting': 311, 'us': 312, 'gone': 313, 'never': 314, 'will': 315, 'united': 316, 'states': 317, 'our': 318, 'howl': 319, 'allen': 320, 'ginsberg': 321, 'best': 322, 'destroyed': 323, 'madness': 324, 'starving': 325, 'hysterical': 326, 'dragging': 327, 'negro': 328, 'dawn': 329, 'angry': 330, 'fix': 331, 'angelheaded': 332, 'hipsters': 333, 'ancient': 334, 'heavenly': 335, 'connection': 336, 'tatters': 337, 'hollow': 338, 'high': 339, 'cold': 340, 'water': 341, 'flats': 342, 'floating': 343, 'tops': 344, 'contemplating': 345, 'bared': 346, 'el': 347, 'mohammedan': 348, 'staggering': 349, 'roofs': 350, 'passed': 351, 'universities': 352, 'radiant': 353, 'cool': 354, 'hallucinating': 355, 'arkansas': 356, 'blake': 357, 'tragedy': 358, 'among': 359, 'scholars': 360, 'expelled': 361, 'academies': 362, 'publishing': 363, 'obscene': 364, 'odes': 365, 'cowered': 366, 'unshaven': 367, 'rooms': 368, 'wastebaskets': 369, 'terror': 370, 'got': 371, 'busted': 372, 'pubic': 373, 'laredo': 374, 'belt': 375, 'marijuana': 376, 'york': 377, 'paint': 378, 'hotels': 379, 'drank': 380, 'turpentine': 381, 'paradise': 382, 'alley': 383, 'purgatoried': 384, 'torsos': 385, 'drugs': 386, 'waking': 387, 'nightmares': 388, 'alcohol': 389, 'cock': 390, 'balls': 391, 'incomparable': 392, 'lightning': 393, 'leaping': 394, 'poles': 395, 'canada': 396, 'paterson': 397, 'illuminating': 398, 'motionless': 399, 'world': 400, 'peyote': 401, 'solidities': 402, 'backyard': 403, 'green': 404, 'cemetery': 405, 'dawns': 406, 'wine': 407, 'drunkenness': 408, 'rooftops': 409, 'storefront': 410, 'boroughs': 411, 'teahead': 412, 'joyride': 413, 'neon': 414, 'blinking': 415, 'traffic': 416, 'sun': 417, 'vibrations': 418, 'dusks': 419, 'ashcan': 420, 'rantings': 421, 'kind': 422, 'king': 423, 'chained': 424, 'subways': 425, 'ride': 426, 'battery': 427, 'benzedrine': 428, 'noise': 429, 'wheels': 430, 'brought': 431, 'mouth': 432, 'wracked': 433, 'battered': 434, 'brain': 435, 'drained': 436, 'brilliance': 437, 'drear': 438, 'zoo': 439, 'sank': 440, 'submarine': 441, 'bickford’s': 442, 'floated': 443, 'stale': 444, 'afternoon': 445, 'desolate': 446, 'fugazzi’s': 447, 'crack': 448, 'jukebox': 449, 'talked': 450, 'continuously': 451, 'seventy': 452, 'park': 453, 'pad': 454, 'bar': 455, 'bellevue': 456, 'museum': 457, 'battalion': 458, 'platonic': 459, 'conversationalists': 460, 'stoops': 461, 'escapes': 462, 'windowsills': 463, 'empire': 464, 'state': 465, 'yacketayakking': 466, 'vomiting': 467, 'whispering': 468, 'facts': 469, 'memories': 470, 'anecdotes': 471, 'eyeball': 472, 'kicks': 473, 'hospitals': 474, 'jails': 475, 'wars': 476, 'intellects': 477, 'disgorged': 478, 'recall': 479, 'seven': 480, 'days': 481, 'nights': 482, 'synagogue': 483, 'pavement': 484, 'vanished': 485, 'nowhere': 486, 'zen': 487, 'jersey': 488, 'trail': 489, 'ambiguous': 490, 'picture': 491, 'postcards': 492, 'eastern': 493, 'sweats': 494, 'tangerian': 495, 'bone': 496, 'grindings': 497, 'migraines': 498, 'china': 499, 'junk': 500, 'withdrawal': 501, 'newark’s': 502, 'wandered': 503, 'railroad': 504, 'yard': 505, 'wondering': 506, 'go': 507, 'lit': 508, 'racketing': 509, 'snow': 510, 'farms': 511, 'grandfather': 512, 'studied': 513, 'plotinus': 514, 'poe': 515, 'st': 516, 'john': 517, 'telepathy': 518, 'bop': 519, 'kabbalah': 520, 'because': 521, 'cosmos': 522, 'instinctively': 523, 'vibrated': 524, 'kansas': 525, 'idaho': 526, 'baltimore': 527, 'gleamed': 528, 'limousines': 529, 'chinaman': 530, 'oklahoma': 531, 'impulse': 532, 'streetlight': 533, 'smalltown': 534, 'rain': 535, 'lounged': 536, 'hungry': 537, 'houston': 538, 'sex': 539, 'followed': 540, 'spaniard': 541, 'converse': 542, 'task': 543, 'so': 544, 'took': 545, 'ship': 546, 'africa': 547, 'disappeared': 548, 'volcanoes': 549, 'dungarees': 550, 'lava': 551, 'ash': 552, 'poetry': 553, 'scattered': 554, 'fireplace': 555, 'chicago': 556, 'reappeared': 557, 'west': 558, 'coast': 559, 'investigating': 560, 'fbi': 561, 'shorts': 562, 'big': 563, 'pacifist': 564, 'sexy': 565, 'dark': 566, 'skin': 567, 'passing': 568, 'leaflets': 569, 'cigarette': 570, 'holes': 571, 'arms': 572, 'protesting': 573, 'narcotic': 574, 'tobacco': 575, 'haze': 576, 'capitalism': 577, 'distributed': 578, 'supercommunist': 579, 'pamphlets': 580, 'union': 581, 'square': 582, 'undressing': 583, 'sirens': 584, 'los': 585, 'alamos': 586, 'staten': 587, 'ferry': 588, 'also': 589, 'crying': 590, 'white': 591, 'gymnasiums': 592, 'other': 593, 'skeletons': 594, 'detectives': 595, 'neck': 596, 'shrieked': 597, 'delight': 598, 'policecars': 599, 'committing': 600, 'crime': 601, 'cooking': 602, 'pederasty': 603, 'intoxication': 604, 'howled': 605, 'dragged': 606, 'genitals': 607, 'manuscripts': 608, 'fucked': 609, 'saintly': 610, 'motorcyclists': 611, 'screamed': 612, 'joy': 613, 'blown': 614, 'those': 615, 'seraphim': 616, 'sailors': 617, 'caresses': 618, 'caribbean': 619, 'balled': 620, 'evenings': 621, 'rosegardens': 622, 'grass': 623, 'public': 624, 'cemeteries': 625, 'scattering': 626, 'semen': 627, 'freely': 628, 'whomever': 629, 'may': 630, 'hiccuped': 631, 'endlessly': 632, 'trying': 633, 'giggle': 634, 'wound': 635, 'sob': 636, 'partition': 637, 'turkish': 638, 'bath': 639, 'blond': 640, 'pierce': 641, 'sword': 642, 'loveboys': 643, 'shrews': 644, 'heterosexual': 645, 'dollar': 646, 'winks': 647, 'womb': 648, 'does': 649, 'snip': 650, 'intellectual': 651, 'threads': 652, 'craftsman’s': 653, 'loom': 654, 'copulated': 655, 'ecstatic': 656, 'insatiate': 657, 'bottle': 658, 'sweetheart': 659, 'package': 660, 'candle': 661, 'bed': 662, 'continued': 663, 'along': 664, 'ended': 665, 'fainting': 666, 'ultimate': 667, 'cunt': 668, 'eluding': 669, 'gyzym': 670, 'sweetened': 671, 'snatches': 672, 'million': 673, 'sunset': 674, 'red': 675, 'prepared': 676, 'sweeten': 677, 'snatch': 678, 'sunrise': 679, 'flashing': 680, 'buttocks': 681, 'barns': 682, 'lake': 683, 'whoring': 684, 'colorado': 685, 'myriad': 686, 'stolen': 687, 'cars': 688, 'n': 689, 'c': 690, 'hero': 691, 'these': 692, 'poems': 693, 'cocksman': 694, 'adonis': 695, 'denver—joy': 696, 'memory': 697, 'innumerable': 698, 'lays': 699, 'empty': 700, 'lots': 701, 'diner': 702, 'backyards': 703, 'moviehouses’': 704, 'rickety': 705, 'rows': 706, 'mountaintops': 707, 'caves': 708, 'gaunt': 709, 'waitresses': 710, 'familiar': 711, 'roadside': 712, 'petticoat': 713, 'upliftings': 714, 'especially': 715, 'station': 716, 'solipsisms': 717, 'johns': 718, 'hometown': 719, 'alleys': 720, 'too': 721, 'faded': 722, 'sordid': 723, 'movies': 724, 'shifted': 725, 'woke': 726, 'manhattan': 727, 'picked': 728, 'basements': 729, 'heartless': 730, 'tokay': 731, 'horrors': 732, 'third': 733, 'stumbled': 734, 'unemployment': 735, 'offices': 736, 'shoes': 737, 'snowbank': 738, 'docks': 739, 'steam': 740, 'heat': 741, 'opium': 742, 'created': 743, 'suicidal': 744, 'dramas': 745, 'apartment': 746, 'cliff': 747, 'hudson': 748, 'wartime': 749, 'blue': 750, 'floodlight': 751, 'shall': 752, 'laurel': 753, 'oblivion': 754, 'lamb': 755, 'stew': 756, 'digested': 757, 'crab': 758, 'muddy': 759, 'bottom': 760, 'rivers': 761, 'bowery': 762, 'wept': 763, 'romance': 764, 'pushcarts': 765, 'onions': 766, 'bad': 767, 'music': 768, 'boxes': 769, 'breathing': 770, 'build': 771, 'harpsichords': 772, 'lofts': 773, 'coughed': 774, 'sixth': 775, 'harlem': 776, 'flame': 777, 'tubercular': 778, 'surrounded': 779, 'orange': 780, 'crates': 781, 'theology': 782, 'scribbled': 783, 'lofty': 784, 'incantations': 785, 'gibberish': 786, 'cooked': 787, 'rotten': 788, 'animals': 789, 'lung': 790, 'tail': 791, 'borsht': 792, 'tortillas': 793, 'dreaming': 794, 'vegetable': 795, 'kingdom': 796, 'plunged': 797, 'trucks': 798, 'egg': 799, 'watches': 800, 'ballot': 801, 'alarm': 802, 'clocks': 803, 'every': 804, 'day': 805, 'next': 806, 'decade': 807, 'cut': 808, 'wrists': 809, 'times': 810, 'successively': 811, 'unsuccessfully': 812, 'gave': 813, 'forced': 814, 'antique': 815, 'stores': 816, 'growing': 817, 'alive': 818, 'flannel': 819, 'suits': 820, 'madison': 821, 'amid': 822, 'blasts': 823, 'leaden': 824, 'verse': 825, 'tanked': 826, 'clatter': 827, 'regiments': 828, 'fashion': 829, 'nitroglycerine': 830, 'shrieks': 831, 'fairies': 832, 'advertising': 833, 'mustard': 834, 'sinister': 835, 'editors': 836, 'drunken': 837, 'taxicabs': 838, 'actually': 839, 'happened': 840, 'forgotten': 841, 'daze': 842, 'chinatown': 843, 'alleyways': 844, 'firetrucks': 845, 'despair': 846, 'filthy': 847, 'passaic': 848, 'leaped': 849, 'negroes': 850, 'danced': 851, 'wineglasses': 852, 'barefoot': 853, 'smashed': 854, 'phonograph': 855, 'records': 856, 'nostalgic': 857, 'european': 858, '1930s': 859, 'german': 860, 'finished': 861, 'whiskey': 862, 'groaning': 863, 'bloody': 864, 'toilet': 865, 'moans': 866, 'ears': 867, 'blast': 868, 'colossal': 869, 'steamwhistles': 870, 'barreled': 871, 'highways': 872, 'past': 873, 'journeying': 874, 'hotrod': 875, 'watch': 876, 'birmingham': 877, 'incarnation': 878, 'drove': 879, 'crosscountry': 880, 'seventytwo': 881, 'if': 882, 'he': 883, 'journeyed': 884, 'died': 885, 'back': 886, 'waited': 887, 'vain': 888, 'watched': 889, 'brooded': 890, 'heroes': 891, 'cathedrals': 892, 'praying': 893, 'salvation': 894, 'hair': 895, 'second': 896, 'crashed': 897, 'impossible': 898, 'criminals': 899, 'charm': 900, 'sweet': 901, 'blues': 902, 'alcatraz': 903, 'retired': 904, 'cultivate': 905, 'habit': 906, 'rocky': 907, 'mount': 908, 'tender': 909, 'buddha': 910, 'tangiers': 911, 'southern': 912, 'pacific': 913, 'black': 914, 'locomotive': 915, 'harvard': 916, 'narcissus': 917, 'woodlawn': 918, 'daisychain': 919, 'grave': 920, 'demanded': 921, 'sanity': 922, 'trials': 923, 'accusing': 924, 'hypnotism': 925, 'hands': 926, 'jury': 927, 'potato': 928, 'salad': 929, 'ccny': 930, 'lecturers': 931, 'dadaism': 932, 'subsequently': 933, 'presented': 934, 'steps': 935, 'shaven': 936, 'harlequin': 937, 'speech': 938, 'suicide': 939, 'demanding': 940, 'instantaneous': 941, 'lobotomy': 942, 'given': 943, 'instead': 944, 'concrete': 945, 'insulin': 946, 'metrazol': 947, 'hydrotherapy': 948, 'psychotherapy': 949, 'occupational': 950, 'therapy': 951, 'amnesia': 952, 'humorless': 953, 'protest': 954, 'overturned': 955, 'symbolic': 956, 'table': 957, 'resting': 958, 'briefly': 959, 'catatonia': 960, 'later': 961, 'truly': 962, 'bald': 963, 'except': 964, 'wig': 965, 'visible': 966, 'wards': 967, 'madtowns': 968, 'pilgrim': 969, 'state’s': 970, 'rockland’s': 971, 'greystone’s': 972, 'foetid': 973, 'bickering': 974, 'echoes': 975, 'bench': 976, 'dolmen': 977, 'realms': 978, 'turned': 979, 'fantastic': 980, 'book': 981, 'flung': 982, 'closed': 983, '4': 984, 'm': 985, 'telephone': 986, 'slammed': 987, 'reply': 988, 'emptied': 989, 'piece': 990, 'furniture': 991, 'paper': 992, 'twisted': 993, 'wire': 994, 'hanger': 995, 'closet': 996, 'hopeful': 997, 'little': 998, 'hallucination—': 999, 'ah': 1000, 'really': 1001, 'time—': 1002, 'therefore': 1003, 'ran': 1004, 'icy': 1005, 'obsessed': 1006, 'flash': 1007, 'alchemy': 1008, 'use': 1009, 'ellipsis': 1010, 'catalogue': 1011, 'variable': 1012, 'vibrating': 1013, 'plane': 1014, 'dreamt': 1015, 'made': 1016, 'incarnate': 1017, 'gaps': 1018, 'space': 1019, 'juxtaposed': 1020, 'trapped': 1021, 'archangel': 1022, '2': 1023, 'visual': 1024, 'joined': 1025, 'elemental': 1026, 'verbs': 1027, 'set': 1028, 'noun': 1029, 'dash': 1030, 'sensation': 1031, 'pater': 1032, 'omnipotens': 1033, 'aeterna': 1034, 'deus': 1035, 'recreate': 1036, 'syntax': 1037, 'poor': 1038, 'prose': 1039, 'speechless': 1040, 'shaking': 1041, 'shame': 1042, 'rejected': 1043, 'confessing': 1044, 'conform': 1045, 'rhythm': 1046, 'head': 1047, 'bum': 1048, 'beat': 1049, 'putting': 1050, 'might': 1051, 'say': 1052, 'reincarnate': 1053, 'clothes': 1054, 'goldhorn': 1055, 'band': 1056, 'america’s': 1057, 'sabacthani': 1058, 'saxophone': 1059, 'cry': 1060, 'shivered': 1061, 'poem': 1062, 'butchered': 1063, 'good': 1064, 'eat': 1065, 'ii': 1066, 'sphinx': 1067, 'cement': 1068, 'aluminum': 1069, 'bashed': 1070, 'skulls': 1071, 'filth': 1072, 'ugliness': 1073, 'ashcans': 1074, 'unobtainable': 1075, 'dollars': 1076, 'stairways': 1077, 'sobbing': 1078, 'loveless': 1079, 'judger': 1080, 'prison': 1081, 'crossbone': 1082, 'soulless': 1083, 'jailhouse': 1084, 'congress': 1085, 'sorrows': 1086, 'buildings': 1087, 'judgment': 1088, 'stunned': 1089, 'governments': 1090, 'running': 1091, 'breast': 1092, 'cannibal': 1093, 'ear': 1094, 'skyscrapers': 1095, 'like': 1096, 'jehovahs': 1097, 'factories': 1098, 'croak': 1099, 'fog': 1100, 'smoke': 1101, 'stacks': 1102, 'antennae': 1103, 'crown': 1104, 'oil': 1105, 'specter': 1106, 'genius': 1107, 'sexless': 1108, 'name': 1109, 'cocksucker': 1110, 'lacklove': 1111, 'manless': 1112, 'entered': 1113, 'early': 1114, 'without': 1115, 'frightened': 1116, 'me': 1117, 'natural': 1118, 'abandon': 1119, 'streaming': 1120, 'robot': 1121, 'apartments': 1122, 'suburbs': 1123, 'skeleton': 1124, 'treasuries': 1125, 'capitals': 1126, 'demonic': 1127, 'industries': 1128, 'spectral': 1129, 'nations': 1130, 'invincible': 1131, 'madhouses': 1132, 'cocks': 1133, 'monstrous': 1134, 'backs': 1135, 'pavements': 1136, 'trees': 1137, 'radios': 1138, 'tons': 1139, 'exists': 1140, 'everywhere': 1141, 'visions': 1142, 'omens': 1143, 'hallucinations': 1144, 'miracles': 1145, 'ecstasies': 1146, 'american': 1147, 'adorations': 1148, 'illuminations': 1149, 'religions': 1150, 'boatload': 1151, 'sensitive': 1152, 'bullshit': 1153, 'breakthroughs': 1154, 'flips': 1155, 'crucifixions': 1156, 'flood': 1157, 'highs': 1158, 'epiphanies': 1159, 'despairs': 1160, 'years’': 1161, 'screams': 1162, 'suicides': 1163, 'loves': 1164, 'rocks': 1165, 'real': 1166, 'laughter': 1167, 'yells': 1168, 'bade': 1169, 'farewell': 1170, 'carrying': 1171, 'flowers': 1172, 'iii': 1173, 'madder': 1174, 'than': 1175, 'must': 1176, 'feel': 1177, 'very': 1178, 'strange': 1179, 'imitate': 1180, 'shade': 1181, 'you’ve': 1182, 'murdered': 1183, 'twelve': 1184, 'secretaries': 1185, 'laugh': 1186, 'humor': 1187, 'writers': 1188, 'same': 1189, 'dreadful': 1190, 'typewriter': 1191, 'condition': 1192, 'has': 1193, 'become': 1194, 'serious': 1195, 'reported': 1196, 'faculties': 1197, 'longer': 1198, 'admit': 1199, 'worms': 1200, 'senses': 1201, \"i'm\": 1202, 'drink': 1203, 'tea': 1204, 'spinsters': 1205, 'utica': 1206, 'pun': 1207, 'nurses': 1208, 'harpies': 1209, 'scream': 1210, 'straightjacket': 1211, 'losing': 1212, 'game': 1213, 'actual': 1214, 'abyss': 1215, 'bang': 1216, 'catatonic': 1217, 'piano': 1218, 'immortal': 1219, 'should': 1220, 'die': 1221, 'ungodly': 1222, 'armed': 1223, 'fifty': 1224, 'more': 1225, 'return': 1226, 'again': 1227, 'pilgrimage': 1228, 'accuse': 1229, 'doctors': 1230, 'plot': 1231, 'hebrew': 1232, 'socialist': 1233, 'revolution': 1234, 'against': 1235, 'fascist': 1236, 'national': 1237, 'split': 1238, 'heavens': 1239, 'resurrect': 1240, 'living': 1241, 'jesus': 1242, 'superhuman': 1243, 'there': 1244, 'twentyfive': 1245, 'comrades': 1246, 'singing': 1247, 'final': 1248, 'internationale': 1249, 'hug': 1250, 'kiss': 1251, 'bedsheets': 1252, 'coughs': 1253, 'won’t': 1254, 'sleep': 1255, 'electrified': 1256, 'coma': 1257, 'souls’': 1258, 'airplanes': 1259, 'they’ve': 1260, 'drop': 1261, 'angelic': 1262, 'hospital': 1263, 'illuminates': 1264, 'itself': 1265, 'walls': 1266, 'collapse': 1267, 'skinny': 1268, 'legions': 1269, 'spangled': 1270, 'shock': 1271, 'mercy': 1272, 'eternal': 1273, 'victory': 1274, 'forget': 1275, 'we’re': 1276, 'walk': 1277, 'dripping': 1278, 'sea': 1279, 'journey': 1280, 'highway': 1281, 'cottage': 1282, 'western': 1283, 'san': 1284, 'francisco': 1285, '1955—1956': 1286}\n"
     ]
    }
   ],
   "source": [
    "tokenizer.fit_on_texts(corpus)\n",
    "total_words = len(tokenizer.word_index) + 1\n",
    "print(tokenizer.word_index)"
   ]
  },
  {
   "cell_type": "markdown",
   "metadata": {},
   "source": [
    "Convert simple corpus into training data"
   ]
  },
  {
   "cell_type": "code",
   "execution_count": 19,
   "metadata": {},
   "outputs": [],
   "source": [
    "input_sequences = []\n",
    "for line in corpus:\n",
    "    token_list = tokenizer.texts_to_sequences([line])[0]\n",
    "    for i in range(1, len(token_list)):\n",
    "        n_gram_sequence = token_list[:i+1]\n",
    "        input_sequences.append(n_gram_sequence)"
   ]
  },
  {
   "cell_type": "markdown",
   "metadata": {},
   "source": [
    "Pad sequences and create labels"
   ]
  },
  {
   "cell_type": "code",
   "execution_count": 20,
   "metadata": {},
   "outputs": [],
   "source": [
    "max_sequence_len = max([len(x) for x in input_sequences])\n",
    "input_sequences = np.array(pad_sequences(input_sequences, maxlen=max_sequence_len, padding='pre'))\n",
    "\n",
    "# Create predictors and labels\n",
    "predictors, label = input_sequences[:,:-1],input_sequences[:,-1]\n",
    "\n",
    "label = ku.to_categorical(label, num_classes=total_words)"
   ]
  },
  {
   "cell_type": "markdown",
   "metadata": {},
   "source": [
    "Create a model with 2 lstms"
   ]
  },
  {
   "cell_type": "code",
   "execution_count": 21,
   "metadata": {
    "scrolled": true
   },
   "outputs": [
    {
     "name": "stdout",
     "output_type": "stream",
     "text": [
      "Train on 2771 samples\n",
      "Epoch 1/100\n",
      "2771/2771 [==============================] - 12s 4ms/sample - loss: 6.7606 - accuracy: 0.0617\n",
      "Epoch 2/100\n",
      "2771/2771 [==============================] - 12s 4ms/sample - loss: 5.7963 - accuracy: 0.1162\n",
      "Epoch 3/100\n",
      "2771/2771 [==============================] - 12s 4ms/sample - loss: 4.9683 - accuracy: 0.1718\n",
      "Epoch 4/100\n",
      "2771/2771 [==============================] - 11s 4ms/sample - loss: 3.9933 - accuracy: 0.2447\n",
      "Epoch 5/100\n",
      "2771/2771 [==============================] - 11s 4ms/sample - loss: 2.8730 - accuracy: 0.3757\n",
      "Epoch 6/100\n",
      "2771/2771 [==============================] - 11s 4ms/sample - loss: 1.7947 - accuracy: 0.5955\n",
      "Epoch 7/100\n",
      "2771/2771 [==============================] - 11s 4ms/sample - loss: 1.0324 - accuracy: 0.7741\n",
      "Epoch 8/100\n",
      "2771/2771 [==============================] - 11s 4ms/sample - loss: 0.5871 - accuracy: 0.8849\n",
      "Epoch 9/100\n",
      "2771/2771 [==============================] - 12s 4ms/sample - loss: 0.3611 - accuracy: 0.9275\n",
      "Epoch 10/100\n",
      "2771/2771 [==============================] - 12s 4ms/sample - loss: 0.2499 - accuracy: 0.9495\n",
      "Epoch 11/100\n",
      "2771/2771 [==============================] - 11s 4ms/sample - loss: 0.2050 - accuracy: 0.9538\n",
      "Epoch 12/100\n",
      "2771/2771 [==============================] - 11s 4ms/sample - loss: 0.1880 - accuracy: 0.9589\n",
      "Epoch 13/100\n",
      "2771/2771 [==============================] - 11s 4ms/sample - loss: 0.1692 - accuracy: 0.9617\n",
      "Epoch 14/100\n",
      "2771/2771 [==============================] - 11s 4ms/sample - loss: 0.1617 - accuracy: 0.9628\n",
      "Epoch 15/100\n",
      "2771/2771 [==============================] - 11s 4ms/sample - loss: 0.1602 - accuracy: 0.9617\n",
      "Epoch 16/100\n",
      "2771/2771 [==============================] - 11s 4ms/sample - loss: 0.1579 - accuracy: 0.9621\n",
      "Epoch 17/100\n",
      "2771/2771 [==============================] - 12s 4ms/sample - loss: 0.1502 - accuracy: 0.9628\n",
      "Epoch 18/100\n",
      "2771/2771 [==============================] - 12s 4ms/sample - loss: 0.1492 - accuracy: 0.9625\n",
      "Epoch 19/100\n",
      "2771/2771 [==============================] - 11s 4ms/sample - loss: 0.1465 - accuracy: 0.9636\n",
      "Epoch 20/100\n",
      "2771/2771 [==============================] - 11s 4ms/sample - loss: 0.1469 - accuracy: 0.9628\n",
      "Epoch 21/100\n",
      "2771/2771 [==============================] - 12s 4ms/sample - loss: 0.1459 - accuracy: 0.9632\n",
      "Epoch 22/100\n",
      "2771/2771 [==============================] - 12s 4ms/sample - loss: 0.1438 - accuracy: 0.9636\n",
      "Epoch 23/100\n",
      "2771/2771 [==============================] - 11s 4ms/sample - loss: 0.1431 - accuracy: 0.9639\n",
      "Epoch 24/100\n",
      "2771/2771 [==============================] - 11s 4ms/sample - loss: 0.1441 - accuracy: 0.9636\n",
      "Epoch 25/100\n",
      "2771/2771 [==============================] - 11s 4ms/sample - loss: 0.1417 - accuracy: 0.9632\n",
      "Epoch 26/100\n",
      "2771/2771 [==============================] - 12s 4ms/sample - loss: 0.1429 - accuracy: 0.9628\n",
      "Epoch 27/100\n",
      "2771/2771 [==============================] - 12s 4ms/sample - loss: 0.1402 - accuracy: 0.9636\n",
      "Epoch 28/100\n",
      "2771/2771 [==============================] - 12s 4ms/sample - loss: 0.1415 - accuracy: 0.9632\n",
      "Epoch 29/100\n",
      "2771/2771 [==============================] - 12s 4ms/sample - loss: 0.1398 - accuracy: 0.9654\n",
      "Epoch 30/100\n",
      "2771/2771 [==============================] - 12s 4ms/sample - loss: 0.1414 - accuracy: 0.9625\n",
      "Epoch 31/100\n",
      "2771/2771 [==============================] - 12s 4ms/sample - loss: 0.1386 - accuracy: 0.9628\n",
      "Epoch 32/100\n",
      "2771/2771 [==============================] - 14s 5ms/sample - loss: 0.1424 - accuracy: 0.9628\n",
      "Epoch 33/100\n",
      "2771/2771 [==============================] - 11s 4ms/sample - loss: 0.1388 - accuracy: 0.9636\n",
      "Epoch 34/100\n",
      "2771/2771 [==============================] - 11s 4ms/sample - loss: 0.1399 - accuracy: 0.9639\n",
      "Epoch 35/100\n",
      "2771/2771 [==============================] - 12s 4ms/sample - loss: 0.1403 - accuracy: 0.9643\n",
      "Epoch 36/100\n",
      "2771/2771 [==============================] - 13s 5ms/sample - loss: 0.1397 - accuracy: 0.9632\n",
      "Epoch 37/100\n",
      "2771/2771 [==============================] - 12s 4ms/sample - loss: 0.1383 - accuracy: 0.9632\n",
      "Epoch 38/100\n",
      "2771/2771 [==============================] - 13s 5ms/sample - loss: 0.1388 - accuracy: 0.9632\n",
      "Epoch 39/100\n",
      "2771/2771 [==============================] - 11s 4ms/sample - loss: 0.1378 - accuracy: 0.9628\n",
      "Epoch 40/100\n",
      "2771/2771 [==============================] - 11s 4ms/sample - loss: 0.1377 - accuracy: 0.9628\n",
      "Epoch 41/100\n",
      "2771/2771 [==============================] - 11s 4ms/sample - loss: 0.1368 - accuracy: 0.9636\n",
      "Epoch 42/100\n",
      "2771/2771 [==============================] - 11s 4ms/sample - loss: 0.1354 - accuracy: 0.9654\n",
      "Epoch 43/100\n",
      "2771/2771 [==============================] - 11s 4ms/sample - loss: 0.1364 - accuracy: 0.9628\n",
      "Epoch 44/100\n",
      "2771/2771 [==============================] - 11s 4ms/sample - loss: 0.1379 - accuracy: 0.9628\n",
      "Epoch 45/100\n",
      "2771/2771 [==============================] - 11s 4ms/sample - loss: 0.1362 - accuracy: 0.9632\n",
      "Epoch 46/100\n",
      "2771/2771 [==============================] - 11s 4ms/sample - loss: 0.1346 - accuracy: 0.9625\n",
      "Epoch 47/100\n",
      "2771/2771 [==============================] - 11s 4ms/sample - loss: 0.1368 - accuracy: 0.9643\n",
      "Epoch 48/100\n",
      "2771/2771 [==============================] - 12s 4ms/sample - loss: 0.1356 - accuracy: 0.9632\n",
      "Epoch 49/100\n",
      "2771/2771 [==============================] - 12s 4ms/sample - loss: 0.1363 - accuracy: 0.9636\n",
      "Epoch 50/100\n",
      "2771/2771 [==============================] - 11s 4ms/sample - loss: 0.1361 - accuracy: 0.9632\n",
      "Epoch 51/100\n",
      "2771/2771 [==============================] - 11s 4ms/sample - loss: 0.1351 - accuracy: 0.9643\n",
      "Epoch 52/100\n",
      "2771/2771 [==============================] - 11s 4ms/sample - loss: 0.1351 - accuracy: 0.9636\n",
      "Epoch 53/100\n",
      "2771/2771 [==============================] - 11s 4ms/sample - loss: 0.1372 - accuracy: 0.9632\n",
      "Epoch 54/100\n",
      "2771/2771 [==============================] - 11s 4ms/sample - loss: 0.2189 - accuracy: 0.9426\n",
      "Epoch 55/100\n",
      "2771/2771 [==============================] - 12s 4ms/sample - loss: 4.7034 - accuracy: 0.2310\n",
      "Epoch 56/100\n",
      "2771/2771 [==============================] - 12s 4ms/sample - loss: 3.3256 - accuracy: 0.3547\n",
      "Epoch 57/100\n",
      "2771/2771 [==============================] - 13s 5ms/sample - loss: 1.4975 - accuracy: 0.6294\n",
      "Epoch 58/100\n",
      "2771/2771 [==============================] - 12s 4ms/sample - loss: 0.6943 - accuracy: 0.8297\n",
      "Epoch 59/100\n",
      "2771/2771 [==============================] - 11s 4ms/sample - loss: 0.3392 - accuracy: 0.9257\n",
      "Epoch 60/100\n",
      "2771/2771 [==============================] - 12s 4ms/sample - loss: 0.2086 - accuracy: 0.9553\n",
      "Epoch 61/100\n",
      "2771/2771 [==============================] - 13s 5ms/sample - loss: 0.1801 - accuracy: 0.9581\n",
      "Epoch 62/100\n",
      "2771/2771 [==============================] - 12s 4ms/sample - loss: 0.1614 - accuracy: 0.9632\n",
      "Epoch 63/100\n",
      "2771/2771 [==============================] - 12s 4ms/sample - loss: 0.1559 - accuracy: 0.9614\n",
      "Epoch 64/100\n",
      "2771/2771 [==============================] - 11s 4ms/sample - loss: 0.1540 - accuracy: 0.9621\n",
      "Epoch 65/100\n",
      "2771/2771 [==============================] - 11s 4ms/sample - loss: 0.1504 - accuracy: 0.9628\n",
      "Epoch 66/100\n",
      "2771/2771 [==============================] - 11s 4ms/sample - loss: 0.1450 - accuracy: 0.9632\n",
      "Epoch 67/100\n",
      "2771/2771 [==============================] - 11s 4ms/sample - loss: 0.1475 - accuracy: 0.9621\n",
      "Epoch 68/100\n",
      "2771/2771 [==============================] - 11s 4ms/sample - loss: 0.1479 - accuracy: 0.9628\n",
      "Epoch 69/100\n",
      "2771/2771 [==============================] - 11s 4ms/sample - loss: 0.1449 - accuracy: 0.9646\n",
      "Epoch 70/100\n",
      "2771/2771 [==============================] - 11s 4ms/sample - loss: 0.1426 - accuracy: 0.9643\n",
      "Epoch 71/100\n",
      "2771/2771 [==============================] - 11s 4ms/sample - loss: 0.1455 - accuracy: 0.9628\n",
      "Epoch 72/100\n",
      "2771/2771 [==============================] - 11s 4ms/sample - loss: 0.1401 - accuracy: 0.9654\n",
      "Epoch 73/100\n",
      "2771/2771 [==============================] - 11s 4ms/sample - loss: 0.1413 - accuracy: 0.9628\n",
      "Epoch 74/100\n",
      "2771/2771 [==============================] - 11s 4ms/sample - loss: 0.1429 - accuracy: 0.9639\n",
      "Epoch 75/100\n",
      "2771/2771 [==============================] - 12s 4ms/sample - loss: 0.1429 - accuracy: 0.9625\n",
      "Epoch 76/100\n",
      "2771/2771 [==============================] - 11s 4ms/sample - loss: 0.1422 - accuracy: 0.9636\n",
      "Epoch 77/100\n"
     ]
    },
    {
     "name": "stdout",
     "output_type": "stream",
     "text": [
      "2771/2771 [==============================] - 11s 4ms/sample - loss: 0.1405 - accuracy: 0.9636\n",
      "Epoch 78/100\n",
      "2771/2771 [==============================] - 11s 4ms/sample - loss: 0.1404 - accuracy: 0.9625\n",
      "Epoch 79/100\n",
      "2771/2771 [==============================] - 11s 4ms/sample - loss: 0.1401 - accuracy: 0.9625\n",
      "Epoch 80/100\n",
      "2771/2771 [==============================] - 11s 4ms/sample - loss: 0.1409 - accuracy: 0.9625\n",
      "Epoch 81/100\n",
      "2771/2771 [==============================] - 11s 4ms/sample - loss: 0.1402 - accuracy: 0.9650\n",
      "Epoch 82/100\n",
      "2771/2771 [==============================] - 11s 4ms/sample - loss: 0.1376 - accuracy: 0.9632\n",
      "Epoch 83/100\n",
      "2771/2771 [==============================] - 11s 4ms/sample - loss: 0.1411 - accuracy: 0.9621\n",
      "Epoch 84/100\n",
      "2771/2771 [==============================] - 11s 4ms/sample - loss: 0.1377 - accuracy: 0.9628\n",
      "Epoch 85/100\n",
      "2771/2771 [==============================] - 11s 4ms/sample - loss: 0.1395 - accuracy: 0.9632\n",
      "Epoch 86/100\n",
      "2771/2771 [==============================] - 11s 4ms/sample - loss: 0.1379 - accuracy: 0.9628\n",
      "Epoch 87/100\n",
      "2771/2771 [==============================] - 11s 4ms/sample - loss: 0.1391 - accuracy: 0.9632\n",
      "Epoch 88/100\n",
      "2771/2771 [==============================] - 11s 4ms/sample - loss: 0.1379 - accuracy: 0.9632\n",
      "Epoch 89/100\n",
      "2771/2771 [==============================] - 11s 4ms/sample - loss: 0.1382 - accuracy: 0.9628\n",
      "Epoch 90/100\n",
      "2771/2771 [==============================] - 11s 4ms/sample - loss: 0.1369 - accuracy: 0.9628\n",
      "Epoch 91/100\n",
      "2771/2771 [==============================] - 11s 4ms/sample - loss: 0.1377 - accuracy: 0.9625\n",
      "Epoch 92/100\n",
      "2771/2771 [==============================] - 11s 4ms/sample - loss: 0.1383 - accuracy: 0.9625\n",
      "Epoch 93/100\n",
      "2771/2771 [==============================] - 11s 4ms/sample - loss: 0.1380 - accuracy: 0.9617\n",
      "Epoch 94/100\n",
      "2771/2771 [==============================] - 11s 4ms/sample - loss: 0.1403 - accuracy: 0.9625\n",
      "Epoch 95/100\n",
      "2771/2771 [==============================] - 11s 4ms/sample - loss: 0.1358 - accuracy: 0.9625\n",
      "Epoch 96/100\n",
      "2771/2771 [==============================] - 11s 4ms/sample - loss: 0.1393 - accuracy: 0.9632\n",
      "Epoch 97/100\n",
      "2771/2771 [==============================] - 11s 4ms/sample - loss: 0.1368 - accuracy: 0.9639\n",
      "Epoch 98/100\n",
      "2771/2771 [==============================] - 11s 4ms/sample - loss: 0.1377 - accuracy: 0.9625\n",
      "Epoch 99/100\n",
      "2771/2771 [==============================] - 11s 4ms/sample - loss: 0.1381 - accuracy: 0.9621\n",
      "Epoch 100/100\n",
      "2771/2771 [==============================] - 11s 4ms/sample - loss: 0.1382 - accuracy: 0.9625\n"
     ]
    }
   ],
   "source": [
    "model = Sequential()\n",
    "model.add(Embedding(total_words, 100, input_length=max_sequence_len-1))  \n",
    "model.add(Bidirectional(LSTM(150)))\n",
    "model.add(Flatten())\n",
    "model.add(Dense(total_words, activation='softmax'))  \n",
    "adam = Adam(lr=0.01)\n",
    "\n",
    "model.compile(loss='categorical_crossentropy', optimizer=adam, metrics=['accuracy'])  \n",
    "history = model.fit(predictors, label, epochs=100, verbose=1)"
   ]
  },
  {
   "cell_type": "code",
   "execution_count": 28,
   "metadata": {},
   "outputs": [
    {
     "data": {
      "image/png": "[encoded data removed]",
      "text/plain": [
       "<Figure size 432x288 with 1 Axes>"
      ]
     },
     "metadata": {
      "needs_background": "light"
     },
     "output_type": "display_data"
    },
    {
     "data": {
      "image/png": "[encoded data removed]",
      "text/plain": [
       "<Figure size 432x288 with 1 Axes>"
      ]
     },
     "metadata": {
      "needs_background": "light"
     },
     "output_type": "display_data"
    }
   ],
   "source": [
    "import matplotlib.pyplot as plt\n",
    "acc = history.history['accuracy']\n",
    "loss = history.history['loss']\n",
    "\n",
    "epochs = range(len(acc))\n",
    "\n",
    "plt.plot(epochs, acc, 'b', label='Training accuracy')\n",
    "plt.title('Training accuracy')\n",
    "\n",
    "plt.figure()\n",
    "\n",
    "plt.plot(epochs, loss, 'b', label='Training Loss')\n",
    "plt.title('Training loss')\n",
    "plt.legend()\n",
    "\n",
    "plt.show()"
   ]
  },
  {
   "cell_type": "markdown",
   "metadata": {},
   "source": [
    "We could set no epochs to 51 without loosing accuracy"
   ]
  },
  {
   "cell_type": "code",
   "execution_count": 88,
   "metadata": {},
   "outputs": [
    {
     "data": {
      "text/plain": [
       "'I think'"
      ]
     },
     "execution_count": 88,
     "metadata": {},
     "output_type": "execute_result"
    }
   ],
   "source": [
    "seed_text = \"I think\"\n",
    "next_words = 100\n",
    "seed_text"
   ]
  },
  {
   "cell_type": "markdown",
   "metadata": {},
   "source": [
    "Text to sequences and pad"
   ]
  },
  {
   "cell_type": "code",
   "execution_count": 89,
   "metadata": {},
   "outputs": [
    {
     "name": "stdout",
     "output_type": "stream",
     "text": [
      "I think saw the best minds of my generation destroyed by madness starving hysterical naked angel came to pierce them with a sword in their with gaunt waitresses in familiar roadside lonely petticoat upliftings especially secret gas station solipsisms of johns hometown alleys too moloch whose name is the mind leaping toward poles of canada paterson illuminating all the motionless world of time between realms of love dream of life a nightmare bodies turned to stone as heavy as big no crime but their skulls their torsos night after night after night streaming rows of love dream tragedy tangiers eluding barns electrified\n"
     ]
    }
   ],
   "source": [
    "for _ in range(next_words):\n",
    "    token_list = tokenizer.texts_to_sequences([seed_text])[0]\n",
    "    token_list = pad_sequences([token_list], maxlen=max_sequence_len-1, padding='pre')\n",
    "    predicted = model.predict_classes(token_list, verbose=0)\n",
    "    output_word = \"\"\n",
    "    for word, index in tokenizer.word_index.items():\n",
    "        if index == predicted:\n",
    "            output_word = word\n",
    "            break\n",
    "    seed_text += \" \" + output_word\n",
    "print(seed_text)"
   ]
  },
  {
   "cell_type": "code",
   "execution_count": null,
   "metadata": {},
   "outputs": [],
   "source": []
  }
 ],
 "metadata": {
  "kernelspec": {
   "display_name": "TensorFlow-GPU",
   "language": "python",
   "name": "tf-gpu"
  },
  "language_info": {
   "codemirror_mode": {
    "name": "ipython",
    "version": 3
   },
   "file_extension": ".py",
   "mimetype": "text/x-python",
   "name": "python",
   "nbconvert_exporter": "python",
   "pygments_lexer": "ipython3",
   "version": "3.7.6"
  }
 },
 "nbformat": 4,
 "nbformat_minor": 2
}
