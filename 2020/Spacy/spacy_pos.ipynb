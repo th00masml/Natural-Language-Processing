{
 "cells": [
  {
   "cell_type": "code",
   "execution_count": 1,
   "metadata": {},
   "outputs": [],
   "source": [
    "import spacy\n",
    "\n",
    "nlp = spacy.load('en_core_web_sm')"
   ]
  },
  {
   "cell_type": "code",
   "execution_count": 2,
   "metadata": {},
   "outputs": [
    {
     "name": "stdout",
     "output_type": "stream",
     "text": [
      "Change NOUN\n",
      "is AUX\n",
      "certain ADJ\n",
      ". PUNCT\n",
      "Peace NOUN\n",
      "is AUX\n",
      "followed VERB\n",
      "by ADP\n",
      "disturbances NOUN\n",
      "; PUNCT\n",
      "departure NOUN\n",
      "of ADP\n",
      "evil ADJ\n",
      "men NOUN\n",
      "by ADP\n",
      "their DET\n",
      "return NOUN\n",
      ". PUNCT\n",
      "Such ADJ\n",
      "recurrences NOUN\n",
      "should VERB\n",
      "not PART\n",
      "constitute VERB\n",
      "occasions NOUN\n",
      "for ADP\n",
      "sadness NOUN\n",
      "but CCONJ\n",
      "realities NOUN\n",
      "for ADP\n",
      "awareness NOUN\n",
      ", PUNCT\n",
      "so SCONJ\n",
      "that SCONJ\n",
      "one PRON\n",
      "may VERB\n",
      "be AUX\n",
      "happy ADJ\n",
      "in ADP\n",
      "the DET\n",
      "interim NOUN\n",
      ". PUNCT\n"
     ]
    }
   ],
   "source": [
    "# Process a text\n",
    "doc = nlp(\"Change is certain. Peace is followed by disturbances; departure of evil men by their return. Such recurrences should not constitute occasions for sadness but realities for awareness, so that one may be happy in the interim.\")\n",
    "\n",
    "# Iterate over the tokens\n",
    "for token in doc:\n",
    "    # Print the text and the predicted part-of-speech tag\n",
    "    print(token.text, token.pos_)"
   ]
  },
  {
   "cell_type": "markdown",
   "metadata": {},
   "source": [
    "Syntactic Dependencies"
   ]
  },
  {
   "cell_type": "code",
   "execution_count": 3,
   "metadata": {},
   "outputs": [
    {
     "name": "stdout",
     "output_type": "stream",
     "text": [
      "Change NOUN nsubj is\n",
      "is AUX ROOT is\n",
      "certain ADJ acomp is\n",
      ". PUNCT punct is\n",
      "Peace NOUN nsubjpass followed\n",
      "is AUX auxpass followed\n",
      "followed VERB ROOT followed\n",
      "by ADP agent followed\n",
      "disturbances NOUN pobj by\n",
      "; PUNCT punct followed\n",
      "departure NOUN appos Peace\n",
      "of ADP prep departure\n",
      "evil ADJ amod men\n",
      "men NOUN pobj of\n",
      "by ADP prep departure\n",
      "their DET poss return\n",
      "return NOUN pobj by\n",
      ". PUNCT punct followed\n",
      "Such ADJ amod recurrences\n",
      "recurrences NOUN nsubj constitute\n",
      "should VERB aux constitute\n",
      "not PART neg constitute\n",
      "constitute VERB ROOT constitute\n",
      "occasions NOUN dobj constitute\n",
      "for ADP prep occasions\n",
      "sadness NOUN pobj for\n",
      "but CCONJ cc sadness\n",
      "realities NOUN conj sadness\n",
      "for ADP prep constitute\n",
      "awareness NOUN pobj for\n",
      ", PUNCT punct constitute\n",
      "so SCONJ mark be\n",
      "that SCONJ mark be\n",
      "one PRON nsubj be\n",
      "may VERB aux be\n",
      "be AUX advcl constitute\n",
      "happy ADJ acomp be\n",
      "in ADP prep happy\n",
      "the DET det interim\n",
      "interim NOUN pobj in\n",
      ". PUNCT punct constitute\n"
     ]
    }
   ],
   "source": [
    "for token in doc:\n",
    "    print(token.text, token.pos_, token.dep_, token.head.text)"
   ]
  },
  {
   "cell_type": "code",
   "execution_count": null,
   "metadata": {},
   "outputs": [],
   "source": []
  }
 ],
 "metadata": {
  "kernelspec": {
   "display_name": "TensorFlow-GPU",
   "language": "python",
   "name": "tf-gpu"
  },
  "language_info": {
   "codemirror_mode": {
    "name": "ipython",
    "version": 3
   },
   "file_extension": ".py",
   "mimetype": "text/x-python",
   "name": "python",
   "nbconvert_exporter": "python",
   "pygments_lexer": "ipython3",
   "version": "3.7.6"
  }
 },
 "nbformat": 4,
 "nbformat_minor": 4
}
