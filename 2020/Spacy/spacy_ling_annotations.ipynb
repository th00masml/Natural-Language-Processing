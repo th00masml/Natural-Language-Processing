{
 "cells": [
  {
   "cell_type": "code",
   "execution_count": 7,
   "metadata": {},
   "outputs": [
    {
     "name": "stdout",
     "output_type": "stream",
     "text": [
      "He          PRON      compound  \n",
      "ne'er       NOUN      nsubjpass \n",
      "is          AUX       auxpass   \n",
      "crowned     VERB      ROOT      \n",
      "with        ADP       prep      \n",
      "immortality NOUN      pobj      \n",
      "Who         PRON      nsubj     \n",
      "fears       VERB      relcl     \n",
      "to          PART      aux       \n",
      "follow      VERB      xcomp     \n",
      "where       ADV       advmod    \n",
      "airy        NOUN      compound  \n",
      "voices      NOUN      nsubj     \n",
      "lead        VERB      ccomp     \n",
      ".           PUNCT     punct     \n"
     ]
    }
   ],
   "source": [
    "import spacy\n",
    "\n",
    "nlp = spacy.load(\"en_core_web_sm\")\n",
    "\n",
    "text = \"He ne'er is crowned with immortality Who fears to follow where airy voices lead.\"\n",
    "doc = nlp(text)\n",
    "\n",
    "for token in doc:\n",
    "    # Get the token text, part-of-speech tag and dependency label\n",
    "    token_text = token.text\n",
    "    token_pos = token.pos_\n",
    "    token_dep = token.dep_\n",
    "    # This is for formatting only\n",
    "    print(\"{:<12}{:<10}{:<10}\".format(token_text, token_pos, token_dep))\n",
    "    "
   ]
  }
 ],
 "metadata": {
  "kernelspec": {
   "display_name": "TensorFlow-GPU",
   "language": "python",
   "name": "tf-gpu"
  },
  "language_info": {
   "codemirror_mode": {
    "name": "ipython",
    "version": 3
   },
   "file_extension": ".py",
   "mimetype": "text/x-python",
   "name": "python",
   "nbconvert_exporter": "python",
   "pygments_lexer": "ipython3",
   "version": "3.7.6"
  }
 },
 "nbformat": 4,
 "nbformat_minor": 4
}
