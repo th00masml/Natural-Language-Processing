{
 "cells": [
  {
   "cell_type": "code",
   "execution_count": 9,
   "metadata": {},
   "outputs": [
    {
     "name": "stdout",
     "output_type": "stream",
     "text": [
      "Ireland GPE\n",
      "Duns Scotus ORG\n",
      "Bishop Berkeley ORG\n",
      "Beckett PERSON\n",
      "Wittgenstein PERSON\n",
      "Ireland GPE\n",
      "1936 DATE\n",
      "1938 DATE\n",
      "The years 1947 to 1949 DATE\n",
      "Wittgenstein PERSON\n",
      "months DATE\n",
      "Dublin GPE\n",
      "Co Wicklow PERSON\n",
      "Ireland GPE\n",
      "Ireland GPE\n"
     ]
    }
   ],
   "source": [
    "import spacy\n",
    "\n",
    "nlp = spacy.load(\"en_core_web_sm\")\n",
    "\n",
    "text = \"Is it the ever-changing light and the dark seas? Ireland has long been home to solitudes and to the kind of logical and metaphysical play that breeds on solitude. The lineage stretches from Duns Scotus (the name is, in fact, a misnomer) to Bishop Berkeley and Beckett, that virtuoso of aloneness and negativity. Wittgenstein's visits to Ireland began in 1936 and resumed in 1938. The years 1947 to 1949 found Wittgenstein spending months in Dublin and Co Wicklow. Time and again, he considered establishing himself in Ireland, possibly to practise psychiatric medicine. Much of the work which led to the Philosophical Investigations was done in Ireland\"\n",
    "\n",
    "# Process the text\n",
    "doc = nlp(text)\n",
    "\n",
    "# Iterate over the entities\n",
    "for ent in doc.ents:\n",
    "    # Print the entity text and label\n",
    "    print(ent.text, ent.label_)"
   ]
  },
  {
   "cell_type": "markdown",
   "metadata": {},
   "source": [
    "Are Duns Scotus and Bishop Berkeley really ORGs?"
   ]
  },
  {
   "cell_type": "code",
   "execution_count": null,
   "metadata": {},
   "outputs": [],
   "source": []
  }
 ],
 "metadata": {
  "kernelspec": {
   "display_name": "TensorFlow-GPU",
   "language": "python",
   "name": "tf-gpu"
  },
  "language_info": {
   "codemirror_mode": {
    "name": "ipython",
    "version": 3
   },
   "file_extension": ".py",
   "mimetype": "text/x-python",
   "name": "python",
   "nbconvert_exporter": "python",
   "pygments_lexer": "ipython3",
   "version": "3.7.6"
  }
 },
 "nbformat": 4,
 "nbformat_minor": 4
}
