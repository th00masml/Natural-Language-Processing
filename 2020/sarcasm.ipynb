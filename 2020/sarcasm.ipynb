{
 "cells": [
  {
   "cell_type": "code",
   "execution_count": 10,
   "metadata": {},
   "outputs": [],
   "source": [
    "import numpy as np\n",
    "import json\n",
    "import pandas as pd\n",
    "\n",
    "import tensorflow as tf\n",
    "from tensorflow.keras.preprocessing.text import Tokenizer\n",
    "from tensorflow.keras.preprocessing.sequence import pad_sequences"
   ]
  },
  {
   "cell_type": "code",
   "execution_count": 42,
   "metadata": {},
   "outputs": [],
   "source": [
    "vocab_size = 10000\n",
    "embedding_dim = 32\n",
    "max_length = 16\n",
    "trunc_type = 'post'\n",
    "oov_tok = \"<OOV>\"\n",
    "training_size = 20000"
   ]
  },
  {
   "cell_type": "code",
   "execution_count": 16,
   "metadata": {},
   "outputs": [
    {
     "data": {
      "text/html": [
       "<div>\n",
       "<style scoped>\n",
       "    .dataframe tbody tr th:only-of-type {\n",
       "        vertical-align: middle;\n",
       "    }\n",
       "\n",
       "    .dataframe tbody tr th {\n",
       "        vertical-align: top;\n",
       "    }\n",
       "\n",
       "    .dataframe thead th {\n",
       "        text-align: right;\n",
       "    }\n",
       "</style>\n",
       "<table border=\"1\" class=\"dataframe\">\n",
       "  <thead>\n",
       "    <tr style=\"text-align: right;\">\n",
       "      <th></th>\n",
       "      <th>headline</th>\n",
       "      <th>is_sarcastic</th>\n",
       "    </tr>\n",
       "  </thead>\n",
       "  <tbody>\n",
       "    <tr>\n",
       "      <th>0</th>\n",
       "      <td>former versace store clerk sues over secret 'b...</td>\n",
       "      <td>0</td>\n",
       "    </tr>\n",
       "    <tr>\n",
       "      <th>1</th>\n",
       "      <td>the 'roseanne' revival catches up to our thorn...</td>\n",
       "      <td>0</td>\n",
       "    </tr>\n",
       "    <tr>\n",
       "      <th>2</th>\n",
       "      <td>mom starting to fear son's web series closest ...</td>\n",
       "      <td>1</td>\n",
       "    </tr>\n",
       "    <tr>\n",
       "      <th>3</th>\n",
       "      <td>boehner just wants wife to listen, not come up...</td>\n",
       "      <td>1</td>\n",
       "    </tr>\n",
       "    <tr>\n",
       "      <th>4</th>\n",
       "      <td>j.k. rowling wishes snape happy birthday in th...</td>\n",
       "      <td>0</td>\n",
       "    </tr>\n",
       "    <tr>\n",
       "      <th>5</th>\n",
       "      <td>advancing the world's women</td>\n",
       "      <td>0</td>\n",
       "    </tr>\n",
       "    <tr>\n",
       "      <th>6</th>\n",
       "      <td>the fascinating case for eating lab-grown meat</td>\n",
       "      <td>0</td>\n",
       "    </tr>\n",
       "    <tr>\n",
       "      <th>7</th>\n",
       "      <td>this ceo will send your kids to school, if you...</td>\n",
       "      <td>0</td>\n",
       "    </tr>\n",
       "    <tr>\n",
       "      <th>8</th>\n",
       "      <td>top snake handler leaves sinking huckabee camp...</td>\n",
       "      <td>1</td>\n",
       "    </tr>\n",
       "    <tr>\n",
       "      <th>9</th>\n",
       "      <td>friday's morning email: inside trump's presser...</td>\n",
       "      <td>0</td>\n",
       "    </tr>\n",
       "  </tbody>\n",
       "</table>\n",
       "</div>"
      ],
      "text/plain": [
       "                                            headline  is_sarcastic\n",
       "0  former versace store clerk sues over secret 'b...             0\n",
       "1  the 'roseanne' revival catches up to our thorn...             0\n",
       "2  mom starting to fear son's web series closest ...             1\n",
       "3  boehner just wants wife to listen, not come up...             1\n",
       "4  j.k. rowling wishes snape happy birthday in th...             0\n",
       "5                        advancing the world's women             0\n",
       "6     the fascinating case for eating lab-grown meat             0\n",
       "7  this ceo will send your kids to school, if you...             0\n",
       "8  top snake handler leaves sinking huckabee camp...             1\n",
       "9  friday's morning email: inside trump's presser...             0"
      ]
     },
     "execution_count": 16,
     "metadata": {},
     "output_type": "execute_result"
    }
   ],
   "source": [
    "file_path = 'C:\\Sarcasm_Headlines_Dataset.json'\n",
    "sarcasm = pd.read_json(file_path1,lines=True)\n",
    "sarcasm = sarcasm[['headline','is_sarcastic']]\n",
    "sarcasm.head(10)"
   ]
  },
  {
   "cell_type": "code",
   "execution_count": 19,
   "metadata": {},
   "outputs": [],
   "source": [
    "training_sentences = sarcasm['headline'][0:training_size]\n",
    "testing_sentences = sarcasm['headline'][training_size:]\n",
    "\n",
    "training_labels = sarcasm['is_sarcastic'][0:training_size]\n",
    "testing_labels = sarcasm['is_sarcastic'][training_size:]"
   ]
  },
  {
   "cell_type": "code",
   "execution_count": 20,
   "metadata": {},
   "outputs": [],
   "source": [
    "tokenizer = Tokenizer(num_words=vocab_size, oov_token=oov_tok)\n",
    "tokenizer.fit_on_texts(training_sentences)\n",
    "word_index = tokenizer.word_index\n",
    "sequences = tokenizer.texts_to_sequences(training_sentences)\n",
    "padded = pad_sequences(sequences,maxlen=max_length, truncating=trunc_type)\n",
    "\n",
    "testing_sequences = tokenizer.texts_to_sequences(testing_sentences)\n",
    "testing_padded = pad_sequences(testing_sequences, maxlen=max_length)"
   ]
  },
  {
   "cell_type": "code",
   "execution_count": 21,
   "metadata": {},
   "outputs": [
    {
     "name": "stdout",
     "output_type": "stream",
     "text": [
      "Model: \"sequential\"\n",
      "_________________________________________________________________\n",
      "Layer (type)                 Output Shape              Param #   \n",
      "=================================================================\n",
      "embedding (Embedding)        (None, 32, 16)            160000    \n",
      "_________________________________________________________________\n",
      "flatten (Flatten)            (None, 512)               0         \n",
      "_________________________________________________________________\n",
      "dense (Dense)                (None, 24)                12312     \n",
      "_________________________________________________________________\n",
      "dense_1 (Dense)              (None, 1)                 25        \n",
      "=================================================================\n",
      "Total params: 172,337\n",
      "Trainable params: 172,337\n",
      "Non-trainable params: 0\n",
      "_________________________________________________________________\n"
     ]
    }
   ],
   "source": [
    "model = tf.keras.Sequential([\n",
    "    tf.keras.layers.Embedding(vocab_size, embedding_dim, input_length=max_length),\n",
    "    tf.keras.layers.Flatten(),\n",
    "    tf.keras.layers.Dense(24, activation='relu'),\n",
    "    tf.keras.layers.Dense(1, activation='sigmoid')\n",
    "])\n",
    "\n",
    "model.compile(loss='binary_crossentropy',optimizer='adam',metrics=['accuracy'])\n",
    "model.summary()"
   ]
  },
  {
   "cell_type": "code",
   "execution_count": 43,
   "metadata": {},
   "outputs": [
    {
     "name": "stdout",
     "output_type": "stream",
     "text": [
      "Train on 20000 samples, validate on 6709 samples\n",
      "Epoch 1/30\n",
      "20000/20000 - 1s - loss: 3.8001e-04 - accuracy: 0.9998 - val_loss: 2.4825 - val_accuracy: 0.8000\n",
      "Epoch 2/30\n",
      "20000/20000 - 1s - loss: 3.8006e-04 - accuracy: 0.9998 - val_loss: 2.4955 - val_accuracy: 0.8007\n",
      "Epoch 3/30\n",
      "20000/20000 - 1s - loss: 3.7981e-04 - accuracy: 0.9998 - val_loss: 2.5073 - val_accuracy: 0.8006\n",
      "Epoch 4/30\n",
      "20000/20000 - 1s - loss: 3.8007e-04 - accuracy: 0.9998 - val_loss: 2.5233 - val_accuracy: 0.8010\n",
      "Epoch 5/30\n",
      "20000/20000 - 1s - loss: 3.8020e-04 - accuracy: 0.9998 - val_loss: 2.5366 - val_accuracy: 0.8009\n",
      "Epoch 6/30\n",
      "20000/20000 - 1s - loss: 3.8016e-04 - accuracy: 0.9998 - val_loss: 2.5502 - val_accuracy: 0.8004\n",
      "Epoch 7/30\n",
      "20000/20000 - 1s - loss: 3.7987e-04 - accuracy: 0.9998 - val_loss: 2.5630 - val_accuracy: 0.8003\n",
      "Epoch 8/30\n",
      "20000/20000 - 1s - loss: 3.8032e-04 - accuracy: 0.9998 - val_loss: 2.5798 - val_accuracy: 0.8012\n",
      "Epoch 9/30\n",
      "20000/20000 - 1s - loss: 3.7999e-04 - accuracy: 0.9998 - val_loss: 2.5917 - val_accuracy: 0.8016\n",
      "Epoch 10/30\n",
      "20000/20000 - 1s - loss: 4.0803e-04 - accuracy: 0.9998 - val_loss: 2.2860 - val_accuracy: 0.7980\n",
      "Epoch 11/30\n",
      "20000/20000 - 1s - loss: 4.5233e-04 - accuracy: 0.9997 - val_loss: 2.7247 - val_accuracy: 0.8032\n",
      "Epoch 12/30\n",
      "20000/20000 - 1s - loss: 4.0081e-04 - accuracy: 0.9998 - val_loss: 2.6387 - val_accuracy: 0.8012\n",
      "Epoch 13/30\n",
      "20000/20000 - 1s - loss: 3.8031e-04 - accuracy: 0.9998 - val_loss: 2.6565 - val_accuracy: 0.8018\n",
      "Epoch 14/30\n",
      "20000/20000 - 1s - loss: 3.7990e-04 - accuracy: 0.9998 - val_loss: 2.6728 - val_accuracy: 0.8024\n",
      "Epoch 15/30\n",
      "20000/20000 - 1s - loss: 3.7993e-04 - accuracy: 0.9998 - val_loss: 2.6877 - val_accuracy: 0.8027\n",
      "Epoch 16/30\n",
      "20000/20000 - 1s - loss: 3.7986e-04 - accuracy: 0.9998 - val_loss: 2.7013 - val_accuracy: 0.8028\n",
      "Epoch 17/30\n",
      "20000/20000 - 1s - loss: 3.7991e-04 - accuracy: 0.9998 - val_loss: 2.7136 - val_accuracy: 0.8028\n",
      "Epoch 18/30\n",
      "20000/20000 - 1s - loss: 3.8003e-04 - accuracy: 0.9998 - val_loss: 2.7258 - val_accuracy: 0.8028\n",
      "Epoch 19/30\n",
      "20000/20000 - 1s - loss: 3.8012e-04 - accuracy: 0.9998 - val_loss: 2.7370 - val_accuracy: 0.8032\n",
      "Epoch 20/30\n",
      "20000/20000 - 1s - loss: 3.8003e-04 - accuracy: 0.9998 - val_loss: 2.7463 - val_accuracy: 0.8031\n",
      "Epoch 21/30\n",
      "20000/20000 - 1s - loss: 3.8013e-04 - accuracy: 0.9998 - val_loss: 2.7561 - val_accuracy: 0.8031\n",
      "Epoch 22/30\n",
      "20000/20000 - 1s - loss: 3.7993e-04 - accuracy: 0.9998 - val_loss: 2.7644 - val_accuracy: 0.8031\n",
      "Epoch 23/30\n",
      "20000/20000 - 1s - loss: 3.7990e-04 - accuracy: 0.9998 - val_loss: 2.7732 - val_accuracy: 0.8028\n",
      "Epoch 24/30\n",
      "20000/20000 - 1s - loss: 3.8002e-04 - accuracy: 0.9998 - val_loss: 2.7814 - val_accuracy: 0.8031\n",
      "Epoch 25/30\n",
      "20000/20000 - 1s - loss: 3.8021e-04 - accuracy: 0.9998 - val_loss: 2.7892 - val_accuracy: 0.8030\n",
      "Epoch 26/30\n",
      "20000/20000 - 1s - loss: 3.7996e-04 - accuracy: 0.9998 - val_loss: 2.7961 - val_accuracy: 0.8031\n",
      "Epoch 27/30\n",
      "20000/20000 - 1s - loss: 3.8025e-04 - accuracy: 0.9998 - val_loss: 2.8040 - val_accuracy: 0.8030\n",
      "Epoch 28/30\n",
      "20000/20000 - 1s - loss: 3.8018e-04 - accuracy: 0.9998 - val_loss: 2.8109 - val_accuracy: 0.8030\n",
      "Epoch 29/30\n",
      "20000/20000 - 1s - loss: 3.7990e-04 - accuracy: 0.9998 - val_loss: 2.8188 - val_accuracy: 0.8032\n",
      "Epoch 30/30\n",
      "20000/20000 - 1s - loss: 3.7996e-04 - accuracy: 0.9998 - val_loss: 2.8249 - val_accuracy: 0.8032\n"
     ]
    },
    {
     "data": {
      "text/plain": [
       "<tensorflow.python.keras.callbacks.History at 0x2b1da1b2b08>"
      ]
     },
     "execution_count": 43,
     "metadata": {},
     "output_type": "execute_result"
    }
   ],
   "source": [
    "num_epochs = 30\n",
    "model.fit(padded, training_labels, epochs=num_epochs, \n",
    "          validation_data=(testing_padded, testing_labels), verbose=2)"
   ]
  },
  {
   "cell_type": "code",
   "execution_count": null,
   "metadata": {},
   "outputs": [],
   "source": []
  }
 ],
 "metadata": {
  "kernelspec": {
   "display_name": "TensorFlow-GPU",
   "language": "python",
   "name": "tf-gpu"
  },
  "language_info": {
   "codemirror_mode": {
    "name": "ipython",
    "version": 3
   },
   "file_extension": ".py",
   "mimetype": "text/x-python",
   "name": "python",
   "nbconvert_exporter": "python",
   "pygments_lexer": "ipython3",
   "version": "3.7.6"
  }
 },
 "nbformat": 4,
 "nbformat_minor": 2
}
