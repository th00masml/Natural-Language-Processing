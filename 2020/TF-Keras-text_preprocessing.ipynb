{
 "cells": [
  {
   "cell_type": "code",
   "execution_count": 2,
   "metadata": {},
   "outputs": [
    {
     "name": "stderr",
     "output_type": "stream",
     "text": [
      "/home/th00masml/anaconda3/lib/python3.6/importlib/_bootstrap.py:205: RuntimeWarning: numpy.ufunc size changed, may indicate binary incompatibility. Expected 192 from C header, got 216 from PyObject\n",
      "  return f(*args, **kwds)\n",
      "/home/th00masml/anaconda3/lib/python3.6/importlib/_bootstrap.py:205: RuntimeWarning: numpy.ufunc size changed, may indicate binary incompatibility. Expected 192 from C header, got 216 from PyObject\n",
      "  return f(*args, **kwds)\n",
      "/home/th00masml/anaconda3/lib/python3.6/importlib/_bootstrap.py:205: RuntimeWarning: numpy.ufunc size changed, may indicate binary incompatibility. Expected 192 from C header, got 216 from PyObject\n",
      "  return f(*args, **kwds)\n",
      "/home/th00masml/anaconda3/lib/python3.6/importlib/_bootstrap.py:205: RuntimeWarning: numpy.ufunc size changed, may indicate binary incompatibility. Expected 192 from C header, got 216 from PyObject\n",
      "  return f(*args, **kwds)\n"
     ]
    }
   ],
   "source": [
    "from bs4 import BeautifulSoup\n",
    "from urllib.request import urlopen\n",
    "from nltk.tokenize import sent_tokenize\n",
    "import numpy as np\n",
    "import pandas as pd\n",
    "from nltk.corpus import stopwords\n",
    "from sklearn.metrics.pairwise import cosine_similarity\n",
    "import networkx as nx"
   ]
  },
  {
   "cell_type": "code",
   "execution_count": 3,
   "metadata": {},
   "outputs": [],
   "source": [
    "def get_only_text(url):\n",
    "    \"\"\" \n",
    "    Return title and text of article defined \n",
    "    as url\n",
    "    \"\"\"\n",
    "    page = urlopen(url)\n",
    "    soup = BeautifulSoup(page, \"lxml\")\n",
    "    text = ' '.join(map(lambda p: p.text, soup.find_all('p')))\n",
    "  \n",
    "    print (\"=====================\")\n",
    "    print (text)\n",
    "    print (\"=====================\")\n",
    " \n",
    "    return soup.title.text, text"
   ]
  },
  {
   "cell_type": "code",
   "execution_count": 9,
   "metadata": {},
   "outputs": [
    {
     "name": "stdout",
     "output_type": "stream",
     "text": [
      "=====================\n",
      "The philosopher's greatest work, Tractatus Logico-Philosophicus, only makes sense in the light of mysticism If you bring together two enigmas, do you get a bigger enigma, or do they cancel each other out, like multiplied negative numbers, to produce clarity? The latter, I hope, as I take on Wittgenstein and mysticism. I’ve been puzzling over these topics since my philosophy salon met to discuss “The Mysticism of the Tractatus,” written in 1966 by B.F. McGuinness. The salon consists of eight or so people, most with graduate degrees in philosophy, who gather in the salon-runner’s living room to jaw over a paper. Ludwig Wittgenstein, whom Bertrand Russell described as “the most perfect example I have ever known of genius as traditionally conceived,” published only one book during his lifetime, Tractatus Logico-Philosophicus. First issued in German in 1921, Tractatus is a cryptic meditation on what is knowable and unknowable. “Mysticism” is often used as a derogatory term to describe obscure, fuzzy thinking, or woo. But in “The Mysticism of the Tractatus,” McGuiness uses the term to refer to an extraordinary form of perception described by sages east and west. In Varieties of Religious Experience, still the best scholarly treatment of mysticism, William James notes that during a mystical experience you feel as though you are encountering absolute truth, the ground of being, God. These revelations are laden with spiritual significance and accompanied by intense emotions. You often feel a sense of blissful timelessness and oneness with everything (although the experience can also be hellish). The knowledge imparted by the vision seems to transcend philosophy, science and reason itself. James calls mystical experiences ineffable, which means that they cannot be expressed in ordinary language. The author of the mystical ancient Chinese text Tao Te Ching expressed this idea when he wrote, “Those who know do not speak. Those who speak do not know.” The author violates the rule in stating it. The Tao Te Ching and other mystical tracts seethe with these sorts of Godelian, “this-sentence-is-false” paradoxes, and so does Tractatus. Wittgenstein writes, “Not how the world is the mystical, but that it is.” He elaborates: “We feel that even if all possible scientific questions be answered, the problems of life have still not been touched at all. Of course there is then no question left, and just this is the answer. The solution of the problem of life is seen in the vanishing of the problem.” Even when the world has been thoroughly explained by science, Wittgenstein seems to be saying, it hasn’t really been explained at all. The answer to the riddle of life is that there is no answer. In his 1966 paper, McGuiness notes that in a “Lecture on Ethics” published after his death in 1951, Wittgenstein described personal experiences with mystical overtones. In one he felt “absolutely safe” and “in the hands of God.” In another he was filled with astonishment at existence and saw “the world as a miracle.” McGuinness explores analogies between Wittgenstein’s experiences and ones described by James, the philosopher Schopenhauer, the Catholic monk Meister Eckhart and the Muslim sage al-Qushayri. McGuiness also mentions Aldous Huxley, whose Doors of Perception describes mystical experience induced by mescaline. As I mention in my book Rational Mysticism, Huxley and psychedelics were formative influences on me. Bertrand Russell, who was fascinated by both Wittgenstein and mysticism, described Wittgenstein as a mystic. In a letter to a friend in 1919 Russell wrote: [Wittgenstein] seriously contemplates becoming a monk. It all started from William James's Varieties of Religious Experience, and grew (not unnaturally) during the winter he spent alone in Norway before the war, when he was nearly mad. Then during the war a curious thing happened. He went on duty to the town of Tarnov in Galicia, and happened to come upon a bookshop, which, however, seemed to contain nothing but picture postcards. However, he went inside and found that it contained just one book: Tolstoy on the Gospels… He has penetrated deep into mystical ways of thought and feeling, but I think (though he wouldn't agree) that what he likes best in mysticism is its power to make him stop thinking. I like that final sardonic twist. I found this quote from Russell in a 2009 essay on Wittgenstein’s mysticism by philosopher Russell Nieli. Nieli warns that most philosophical commentary on Tractatus “has focused on the book's technical system of logic and language with little concern for its overarching moral and spiritual thematic.” Tractatus “remains misunderstood largely because of interpreters’ failure to appreciate the importance of the mystical and the ecstatic as they are interwoven into the text.” For a similar reading, see “Understanding the Mysticism of Wittgenstein’s Tractatus,” an essay on the website EPISTEMIC EPISTLES. The writer asserts that “properly understanding Wittgenstein’s intention in the Tractatus requires conceiving of the Tractatus as a mystical project, intended to acquaint us with mystical experience, rather than an attempt to communicate analytic ‘truths’.” Failure to recognize Wittgenstein’s mystical intentions results in “a misconceived superficial reading.” The problem is, if you haven’t had a mystical experience, mystical writings seem like, well, woo. Based on their reactions to McGuiness’s paper “The Mysticism of the Tractatus,” the philosophers in my salon haven’t had mystical experiences. They read Tractatus as an extreme, idiosyncratic expression of logical positivism, a philosophical school, popular in the early 20th century, that imposes strict constraints on what is knowable. My salon mates expressed puzzlement and even disdain for the “incoherent” and “juvenile” (their words) mystical elements of Tractatus. They noted that Wittgenstein distanced himself from Tractatus in his later work Philosophical Investigations (published posthumously). I felt like blurting out, Haven’t you ever dropped acid? Haven’t you ever been overcome by the weirdness of the world? To my mind, Tractatus is best viewed as a work of negative theology. This mystical branch of theology begins with the premise that God transcends understanding and description. Tractatus recalls the negative theology of Lao Tzu, Eckhart, Saint Theresa and the 6th-century monk Pseudo-Dionysius. The latter once wrote (and I found this passage in Nieli): The higher we soar in contemplation the more limited become our expressions of that which is purely intelligible … We pass not merely into brevity of speech, but even into absolute silence, of thoughts as well as of words… . We mount upwards from below to that which is the highest, and according to the degree of transcendence, our speech is restrained until, the entire ascent being accomplished, we become wholly voiceless, in as much as we are absorbed in Him who is totally ineffable. So the answer to my headline’s question is: Yes. If a mystic is someone who has been transformed by mystical experiences, then Wittgenstein was a mystic, who was exceptionally eloquent, in his own gnomic way, at expressing the inexpressible. I’ll give him the last word. He concludes Tractatus with this mystical passage: My propositions are elucidatory in this way: he who understands me finally recognizes them as senseless, when he has climbed out through them, on them, over them. (He must so to speak throw away the ladder, after he has climbed up on it.) He must surmount these propositions; then he sees the world rightly. Whereof one cannot speak, thereof one must remain silent. Further Reading: The Weirdness of Weirdness Meta-Post: Horgan Posts on Psychedelics Science Will Never Explain Why There's Something Rather Than Nothing Can Science Solve--Really Solve--the Problem of Beauty? Does Buddhism Give Us Answers or Questions? What Is Philosophy's Point?, Part 5--A Call for \"Negative Philosophy\" Rational Mysticism: Spirituality Meets Science in the Search for Enlightenment The views expressed are those of the author(s) and are not necessarily those of Scientific American.  John Horgan directs the Center for Science Writings at the Stevens Institute of Technology. His books include The End of Science, The End of War and Mind-Body Problems, available for free at mindbodyproblems.com. 1 hour ago  —  Caleb A. Scharf 4 hours ago  —  Curtis Brainard 4 hours ago  —  Riley Black |  Opinion 20 hours ago  —  Eric Boodman and STAT 22 hours ago  —  John Horgan |  Opinion February 29, 2020  —  Caleb A. Scharf Discover new insights into neuroscience, human behavior and mental health with Scientific American Mind. Follow us Scientific american arabic © 2020 Scientific American, a Division of Nature America, Inc. All Rights Reserved. You have  free articles left. Support our award-winning coverage of advances in science & technology. Already a subscriber? Sign in. Subscribers get more award-winning coverage of advances in science & technology. See Subscription Options\n",
      "=====================\n"
     ]
    }
   ],
   "source": [
    "url = \"https://blogs.scientificamerican.com/cross-check/was-wittgenstein-a-mystic/\"\n",
    "text = get_only_text(url)"
   ]
  },
  {
   "cell_type": "code",
   "execution_count": 106,
   "metadata": {},
   "outputs": [],
   "source": [
    "# Split by sentences. \n",
    "sentences = []\n",
    "for s in text:\n",
    "    sentences.append(sent_tokenize(s))\n",
    "\n",
    "sentences = [y for x in sentences for y in x]\n",
    "\n",
    "train_sentences = sentences[:47]\n",
    "test_sentences = sentences[48:]"
   ]
  },
  {
   "cell_type": "code",
   "execution_count": 107,
   "metadata": {},
   "outputs": [],
   "source": [
    "from tensorflow.keras.preprocessing.text import Tokenizer\n",
    "from tensorflow.keras.preprocessing.sequence import pad_sequences"
   ]
  },
  {
   "cell_type": "code",
   "execution_count": 99,
   "metadata": {},
   "outputs": [],
   "source": [
    "tokenizer = Tokenizer(num_words=1000, oov_token=\"OOV\")\n",
    "tokenizer.fit_on_texts(train_sentences)\n",
    "word_index = tokenizer.word_index"
   ]
  },
  {
   "cell_type": "code",
   "execution_count": 103,
   "metadata": {},
   "outputs": [],
   "source": [
    "# Loop through words\n",
    "from collections import defaultdict\n",
    "\n",
    "def sort_it(_dict, n):\n",
    "    result = defaultdict(list)\n",
    "    for name, num in _dict.items():\n",
    "        result[num].append(name)\n",
    "    return sorted(result.items(), reverse=False)[:n]\n",
    "\n",
    "top3 = sort_it(word_index, 10)"
   ]
  },
  {
   "cell_type": "code",
   "execution_count": 104,
   "metadata": {},
   "outputs": [
    {
     "data": {
      "text/plain": [
       "[(1, ['OOV']),\n",
       " (2, ['the']),\n",
       " (3, ['of']),\n",
       " (4, ['in']),\n",
       " (5, ['and']),\n",
       " (6, ['to']),\n",
       " (7, ['a']),\n",
       " (8, ['is']),\n",
       " (9, ['mystical']),\n",
       " (10, ['tractatus'])]"
      ]
     },
     "execution_count": 104,
     "metadata": {},
     "output_type": "execute_result"
    }
   ],
   "source": [
    "top3"
   ]
  },
  {
   "cell_type": "code",
   "execution_count": 117,
   "metadata": {},
   "outputs": [
    {
     "name": "stdout",
     "output_type": "stream",
     "text": [
      "\n",
      "Test sequence =  [[52, 7, 83, 8, 1, 28, 128, 24, 1, 18, 9, 45, 125, 17, 37, 7, 83, 28, 37, 1, 1, 4, 41, 1, 1, 1, 73, 1, 2, 1], [1, 1, 138, 2, 1, 1], [16, 1, 10, 20, 32, 9, 490, 25, 1, 43, 1, 4, 32, 1, 16, 28, 1, 330, 1, 1, 1, 11, 1, 70, 16, 128, 1, 89, 1, 1, 14, 1, 91, 1], [16, 1, 94, 6, 123, 1, 1, 2, 1, 291, 16, 128, 1, 1, 14, 34], [16, 1, 1, 55, 1, 125, 16, 1, 2, 47, 1], [1, 61, 249, 123, 1, 61, 1, 1, 1], [1, 141, 2, 473, 3, 473, 1, 1, 1, 1, 14, 326, 114, 1, 1, 1, 1, 1, 1, 424, 425, 361, 239, 114, 1, 287, 1, 2, 75, 3, 1], [267, 1, 1, 423, 1, 53, 274], [63, 8, 1, 1, 1, 1, 7, 1, 81, 54, 56, 325, 15, 1, 1, 114, 4, 2, 1, 81, 1, 2, 1, 69, 43, 255, 3, 2, 117, 1, 5, 43, 33, 1, 255, 3, 84, 151], [1, 1, 1, 2, 1, 81, 114, 436, 73, 2, 1, 1, 3, 1], [41, 1, 1, 2, 1, 3, 114, 2, 1, 3, 133, 5, 474, 1, 276, 1, 81, 1, 73, 1, 1], [1, 1, 1, 1, 1, 7, 1, 1, 1, 1, 1, 1, 1, 1, 1, 1, 1, 1, 1, 1, 1, 1, 1, 1, 1, 1, 5, 1, 1, 1, 1, 1, 1, 1, 1, 1, 1, 1, 1, 1, 7, 1, 1, 1, 1, 50, 1, 1, 1, 5, 1, 1, 20, 84, 151, 474], [1, 423, 84, 151, 1, 1, 1, 84, 151, 7, 1, 3, 1, 1, 1, 49, 1, 1], [21, 96, 1, 1, 280], [1, 149, 1, 1, 1, 3, 1, 4, 114, 1], [1, 7, 1], [1, 4], [1, 163, 494, 1, 1, 1, 3, 1, 4, 114, 1], [409, 1, 1]]\n",
      "\n",
      "Padded sequence =  [[ 41   1   1   1  73   1   2   1]\n",
      " [  0   0   1   1 138   2   1   1]\n",
      " [  1  89   1   1  14   1  91   1]\n",
      " [  1 291  16 128   1   1  14  34]\n",
      " [ 55   1 125  16   1   2  47   1]\n",
      " [ 61 249 123   1  61   1   1   1]\n",
      " [114   1 287   1   2  75   3   1]\n",
      " [  0 267   1   1 423   1  53 274]\n",
      " [  5  43  33   1 255   3  84 151]\n",
      " [114 436  73   2   1   1   3   1]\n",
      " [  1 276   1  81   1  73   1   1]\n",
      " [  1   5   1   1  20  84 151 474]\n",
      " [  1   3   1   1   1  49   1   1]\n",
      " [  0   0   0  21  96   1   1 280]\n",
      " [  1   1   1   3   1   4 114   1]\n",
      " [  0   0   0   0   0   1   7   1]\n",
      " [  0   0   0   0   0   0   1   4]\n",
      " [  1   1   1   3   1   4 114   1]\n",
      " [  0   0   0   0   0 409   1   1]]\n"
     ]
    }
   ],
   "source": [
    "sequences = tokenizer.texts_to_sequences(test_sentences)\n",
    "padded = pad_sequences(sequences, maxlen=8)\n",
    "\n",
    "print('\\nTest sequence = ', sequences)\n",
    "print('\\nPadded sequence = ', padded)"
   ]
  }
 ],
 "metadata": {
  "kernelspec": {
   "display_name": "Python 3",
   "language": "python",
   "name": "python3"
  },
  "language_info": {
   "codemirror_mode": {
    "name": "ipython",
    "version": 3
   },
   "file_extension": ".py",
   "mimetype": "text/x-python",
   "name": "python",
   "nbconvert_exporter": "python",
   "pygments_lexer": "ipython3",
   "version": "3.6.2"
  }
 },
 "nbformat": 4,
 "nbformat_minor": 2
}
