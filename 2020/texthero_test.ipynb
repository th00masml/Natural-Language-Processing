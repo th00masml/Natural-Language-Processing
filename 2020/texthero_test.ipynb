{
 "cells": [
  {
   "cell_type": "code",
   "execution_count": 27,
   "metadata": {},
   "outputs": [],
   "source": [
    "import texthero as hero\n",
    "import pandas as pd\n",
    "import matplotlib.pyplot as plt"
   ]
  },
  {
   "cell_type": "markdown",
   "metadata": {},
   "source": [
    "Preprocessing"
   ]
  },
  {
   "cell_type": "code",
   "execution_count": 3,
   "metadata": {},
   "outputs": [
    {
     "name": "stdout",
     "output_type": "stream",
     "text": [
      "(737, 2)\n"
     ]
    }
   ],
   "source": [
    "df = pd.read_csv(\n",
    "   \"https://github.com/jbesomi/texthero/raw/master/dataset/bbcsport.csv\"\n",
    ")\n",
    "\n",
    "print(df.shape)"
   ]
  },
  {
   "cell_type": "code",
   "execution_count": 4,
   "metadata": {},
   "outputs": [
    {
     "data": {
      "text/html": [
       "<div>\n",
       "<style scoped>\n",
       "    .dataframe tbody tr th:only-of-type {\n",
       "        vertical-align: middle;\n",
       "    }\n",
       "\n",
       "    .dataframe tbody tr th {\n",
       "        vertical-align: top;\n",
       "    }\n",
       "\n",
       "    .dataframe thead th {\n",
       "        text-align: right;\n",
       "    }\n",
       "</style>\n",
       "<table border=\"1\" class=\"dataframe\">\n",
       "  <thead>\n",
       "    <tr style=\"text-align: right;\">\n",
       "      <th></th>\n",
       "      <th>text</th>\n",
       "      <th>topic</th>\n",
       "    </tr>\n",
       "  </thead>\n",
       "  <tbody>\n",
       "    <tr>\n",
       "      <th>0</th>\n",
       "      <td>Claxton hunting first major medal\\n\\nBritish h...</td>\n",
       "      <td>athletics</td>\n",
       "    </tr>\n",
       "    <tr>\n",
       "      <th>1</th>\n",
       "      <td>O'Sullivan could run in Worlds\\n\\nSonia O'Sull...</td>\n",
       "      <td>athletics</td>\n",
       "    </tr>\n",
       "    <tr>\n",
       "      <th>2</th>\n",
       "      <td>Greene sets sights on world title\\n\\nMaurice G...</td>\n",
       "      <td>athletics</td>\n",
       "    </tr>\n",
       "    <tr>\n",
       "      <th>3</th>\n",
       "      <td>IAAF launches fight against drugs\\n\\nThe IAAF ...</td>\n",
       "      <td>athletics</td>\n",
       "    </tr>\n",
       "    <tr>\n",
       "      <th>4</th>\n",
       "      <td>Dibaba breaks 5,000m world record\\n\\nEthiopia'...</td>\n",
       "      <td>athletics</td>\n",
       "    </tr>\n",
       "  </tbody>\n",
       "</table>\n",
       "</div>"
      ],
      "text/plain": [
       "                                                text      topic\n",
       "0  Claxton hunting first major medal\\n\\nBritish h...  athletics\n",
       "1  O'Sullivan could run in Worlds\\n\\nSonia O'Sull...  athletics\n",
       "2  Greene sets sights on world title\\n\\nMaurice G...  athletics\n",
       "3  IAAF launches fight against drugs\\n\\nThe IAAF ...  athletics\n",
       "4  Dibaba breaks 5,000m world record\\n\\nEthiopia'...  athletics"
      ]
     },
     "execution_count": 4,
     "metadata": {},
     "output_type": "execute_result"
    }
   ],
   "source": [
    "df.head()"
   ]
  },
  {
   "cell_type": "code",
   "execution_count": 7,
   "metadata": {},
   "outputs": [],
   "source": [
    "df['clean_text'] = hero.clean(df['text'])"
   ]
  },
  {
   "cell_type": "code",
   "execution_count": 8,
   "metadata": {},
   "outputs": [
    {
     "data": {
      "text/html": [
       "<div>\n",
       "<style scoped>\n",
       "    .dataframe tbody tr th:only-of-type {\n",
       "        vertical-align: middle;\n",
       "    }\n",
       "\n",
       "    .dataframe tbody tr th {\n",
       "        vertical-align: top;\n",
       "    }\n",
       "\n",
       "    .dataframe thead th {\n",
       "        text-align: right;\n",
       "    }\n",
       "</style>\n",
       "<table border=\"1\" class=\"dataframe\">\n",
       "  <thead>\n",
       "    <tr style=\"text-align: right;\">\n",
       "      <th></th>\n",
       "      <th>text</th>\n",
       "      <th>topic</th>\n",
       "      <th>clean_text</th>\n",
       "    </tr>\n",
       "  </thead>\n",
       "  <tbody>\n",
       "    <tr>\n",
       "      <th>0</th>\n",
       "      <td>Claxton hunting first major medal\\n\\nBritish h...</td>\n",
       "      <td>athletics</td>\n",
       "      <td>claxton hunting first major medal british hurd...</td>\n",
       "    </tr>\n",
       "    <tr>\n",
       "      <th>1</th>\n",
       "      <td>O'Sullivan could run in Worlds\\n\\nSonia O'Sull...</td>\n",
       "      <td>athletics</td>\n",
       "      <td>sullivan could run worlds sonia sullivan indic...</td>\n",
       "    </tr>\n",
       "    <tr>\n",
       "      <th>2</th>\n",
       "      <td>Greene sets sights on world title\\n\\nMaurice G...</td>\n",
       "      <td>athletics</td>\n",
       "      <td>greene sets sights world title maurice greene ...</td>\n",
       "    </tr>\n",
       "    <tr>\n",
       "      <th>3</th>\n",
       "      <td>IAAF launches fight against drugs\\n\\nThe IAAF ...</td>\n",
       "      <td>athletics</td>\n",
       "      <td>iaaf launches fight drugs iaaf athletics world...</td>\n",
       "    </tr>\n",
       "    <tr>\n",
       "      <th>4</th>\n",
       "      <td>Dibaba breaks 5,000m world record\\n\\nEthiopia'...</td>\n",
       "      <td>athletics</td>\n",
       "      <td>dibaba breaks 000m world record ethiopia tirun...</td>\n",
       "    </tr>\n",
       "  </tbody>\n",
       "</table>\n",
       "</div>"
      ],
      "text/plain": [
       "                                                text      topic  \\\n",
       "0  Claxton hunting first major medal\\n\\nBritish h...  athletics   \n",
       "1  O'Sullivan could run in Worlds\\n\\nSonia O'Sull...  athletics   \n",
       "2  Greene sets sights on world title\\n\\nMaurice G...  athletics   \n",
       "3  IAAF launches fight against drugs\\n\\nThe IAAF ...  athletics   \n",
       "4  Dibaba breaks 5,000m world record\\n\\nEthiopia'...  athletics   \n",
       "\n",
       "                                          clean_text  \n",
       "0  claxton hunting first major medal british hurd...  \n",
       "1  sullivan could run worlds sonia sullivan indic...  \n",
       "2  greene sets sights world title maurice greene ...  \n",
       "3  iaaf launches fight drugs iaaf athletics world...  \n",
       "4  dibaba breaks 000m world record ethiopia tirun...  "
      ]
     },
     "execution_count": 8,
     "metadata": {},
     "output_type": "execute_result"
    }
   ],
   "source": [
    "df.head()"
   ]
  },
  {
   "cell_type": "code",
   "execution_count": 5,
   "metadata": {},
   "outputs": [],
   "source": [
    "# The same result with 'pipe' pandas function\n",
    "df['clean_text'] = df['text'].pipe(hero.clean)"
   ]
  },
  {
   "cell_type": "code",
   "execution_count": 6,
   "metadata": {},
   "outputs": [
    {
     "data": {
      "text/html": [
       "<div>\n",
       "<style scoped>\n",
       "    .dataframe tbody tr th:only-of-type {\n",
       "        vertical-align: middle;\n",
       "    }\n",
       "\n",
       "    .dataframe tbody tr th {\n",
       "        vertical-align: top;\n",
       "    }\n",
       "\n",
       "    .dataframe thead th {\n",
       "        text-align: right;\n",
       "    }\n",
       "</style>\n",
       "<table border=\"1\" class=\"dataframe\">\n",
       "  <thead>\n",
       "    <tr style=\"text-align: right;\">\n",
       "      <th></th>\n",
       "      <th>text</th>\n",
       "      <th>topic</th>\n",
       "      <th>clean_text</th>\n",
       "    </tr>\n",
       "  </thead>\n",
       "  <tbody>\n",
       "    <tr>\n",
       "      <th>0</th>\n",
       "      <td>Claxton hunting first major medal\\n\\nBritish h...</td>\n",
       "      <td>athletics</td>\n",
       "      <td>claxton hunting first major medal british hurd...</td>\n",
       "    </tr>\n",
       "    <tr>\n",
       "      <th>1</th>\n",
       "      <td>O'Sullivan could run in Worlds\\n\\nSonia O'Sull...</td>\n",
       "      <td>athletics</td>\n",
       "      <td>sullivan could run worlds sonia sullivan indic...</td>\n",
       "    </tr>\n",
       "    <tr>\n",
       "      <th>2</th>\n",
       "      <td>Greene sets sights on world title\\n\\nMaurice G...</td>\n",
       "      <td>athletics</td>\n",
       "      <td>greene sets sights world title maurice greene ...</td>\n",
       "    </tr>\n",
       "    <tr>\n",
       "      <th>3</th>\n",
       "      <td>IAAF launches fight against drugs\\n\\nThe IAAF ...</td>\n",
       "      <td>athletics</td>\n",
       "      <td>iaaf launches fight drugs iaaf athletics world...</td>\n",
       "    </tr>\n",
       "    <tr>\n",
       "      <th>4</th>\n",
       "      <td>Dibaba breaks 5,000m world record\\n\\nEthiopia'...</td>\n",
       "      <td>athletics</td>\n",
       "      <td>dibaba breaks 000m world record ethiopia tirun...</td>\n",
       "    </tr>\n",
       "  </tbody>\n",
       "</table>\n",
       "</div>"
      ],
      "text/plain": [
       "                                                text      topic  \\\n",
       "0  Claxton hunting first major medal\\n\\nBritish h...  athletics   \n",
       "1  O'Sullivan could run in Worlds\\n\\nSonia O'Sull...  athletics   \n",
       "2  Greene sets sights on world title\\n\\nMaurice G...  athletics   \n",
       "3  IAAF launches fight against drugs\\n\\nThe IAAF ...  athletics   \n",
       "4  Dibaba breaks 5,000m world record\\n\\nEthiopia'...  athletics   \n",
       "\n",
       "                                          clean_text  \n",
       "0  claxton hunting first major medal british hurd...  \n",
       "1  sullivan could run worlds sonia sullivan indic...  \n",
       "2  greene sets sights world title maurice greene ...  \n",
       "3  iaaf launches fight drugs iaaf athletics world...  \n",
       "4  dibaba breaks 000m world record ethiopia tirun...  "
      ]
     },
     "execution_count": 6,
     "metadata": {},
     "output_type": "execute_result"
    }
   ],
   "source": [
    "df.head()"
   ]
  },
  {
   "cell_type": "code",
   "execution_count": 9,
   "metadata": {},
   "outputs": [],
   "source": [
    "# Create tfidf representation\n",
    "df['tfidf_clean_text'] = hero.tfidf(df['clean_text'])"
   ]
  },
  {
   "cell_type": "code",
   "execution_count": 10,
   "metadata": {},
   "outputs": [
    {
     "data": {
      "text/html": [
       "<div>\n",
       "<style scoped>\n",
       "    .dataframe tbody tr th:only-of-type {\n",
       "        vertical-align: middle;\n",
       "    }\n",
       "\n",
       "    .dataframe tbody tr th {\n",
       "        vertical-align: top;\n",
       "    }\n",
       "\n",
       "    .dataframe thead th {\n",
       "        text-align: right;\n",
       "    }\n",
       "</style>\n",
       "<table border=\"1\" class=\"dataframe\">\n",
       "  <thead>\n",
       "    <tr style=\"text-align: right;\">\n",
       "      <th></th>\n",
       "      <th>text</th>\n",
       "      <th>topic</th>\n",
       "      <th>clean_text</th>\n",
       "      <th>tfidf_clean_text</th>\n",
       "    </tr>\n",
       "  </thead>\n",
       "  <tbody>\n",
       "    <tr>\n",
       "      <th>0</th>\n",
       "      <td>Claxton hunting first major medal\\n\\nBritish h...</td>\n",
       "      <td>athletics</td>\n",
       "      <td>claxton hunting first major medal british hurd...</td>\n",
       "      <td>[0.0, 0.0, 0.0, 0.0, 0.0, 0.0, 0.0, 0.0, 0.0, ...</td>\n",
       "    </tr>\n",
       "    <tr>\n",
       "      <th>1</th>\n",
       "      <td>O'Sullivan could run in Worlds\\n\\nSonia O'Sull...</td>\n",
       "      <td>athletics</td>\n",
       "      <td>sullivan could run worlds sonia sullivan indic...</td>\n",
       "      <td>[0.0, 0.0, 0.0, 0.0, 0.0, 0.0, 0.0, 0.0, 0.0, ...</td>\n",
       "    </tr>\n",
       "    <tr>\n",
       "      <th>2</th>\n",
       "      <td>Greene sets sights on world title\\n\\nMaurice G...</td>\n",
       "      <td>athletics</td>\n",
       "      <td>greene sets sights world title maurice greene ...</td>\n",
       "      <td>[0.0, 0.0, 0.0, 0.0, 0.0, 0.0, 0.0533678197008...</td>\n",
       "    </tr>\n",
       "    <tr>\n",
       "      <th>3</th>\n",
       "      <td>IAAF launches fight against drugs\\n\\nThe IAAF ...</td>\n",
       "      <td>athletics</td>\n",
       "      <td>iaaf launches fight drugs iaaf athletics world...</td>\n",
       "      <td>[0.0, 0.0, 0.0, 0.0, 0.0, 0.0, 0.0, 0.0, 0.0, ...</td>\n",
       "    </tr>\n",
       "    <tr>\n",
       "      <th>4</th>\n",
       "      <td>Dibaba breaks 5,000m world record\\n\\nEthiopia'...</td>\n",
       "      <td>athletics</td>\n",
       "      <td>dibaba breaks 000m world record ethiopia tirun...</td>\n",
       "      <td>[0.24734311047947527, 0.0, 0.0, 0.0, 0.0, 0.0,...</td>\n",
       "    </tr>\n",
       "  </tbody>\n",
       "</table>\n",
       "</div>"
      ],
      "text/plain": [
       "                                                text      topic  \\\n",
       "0  Claxton hunting first major medal\\n\\nBritish h...  athletics   \n",
       "1  O'Sullivan could run in Worlds\\n\\nSonia O'Sull...  athletics   \n",
       "2  Greene sets sights on world title\\n\\nMaurice G...  athletics   \n",
       "3  IAAF launches fight against drugs\\n\\nThe IAAF ...  athletics   \n",
       "4  Dibaba breaks 5,000m world record\\n\\nEthiopia'...  athletics   \n",
       "\n",
       "                                          clean_text  \\\n",
       "0  claxton hunting first major medal british hurd...   \n",
       "1  sullivan could run worlds sonia sullivan indic...   \n",
       "2  greene sets sights world title maurice greene ...   \n",
       "3  iaaf launches fight drugs iaaf athletics world...   \n",
       "4  dibaba breaks 000m world record ethiopia tirun...   \n",
       "\n",
       "                                    tfidf_clean_text  \n",
       "0  [0.0, 0.0, 0.0, 0.0, 0.0, 0.0, 0.0, 0.0, 0.0, ...  \n",
       "1  [0.0, 0.0, 0.0, 0.0, 0.0, 0.0, 0.0, 0.0, 0.0, ...  \n",
       "2  [0.0, 0.0, 0.0, 0.0, 0.0, 0.0, 0.0533678197008...  \n",
       "3  [0.0, 0.0, 0.0, 0.0, 0.0, 0.0, 0.0, 0.0, 0.0, ...  \n",
       "4  [0.24734311047947527, 0.0, 0.0, 0.0, 0.0, 0.0,...  "
      ]
     },
     "execution_count": 10,
     "metadata": {},
     "output_type": "execute_result"
    }
   ],
   "source": [
    "df.head()"
   ]
  },
  {
   "cell_type": "code",
   "execution_count": 11,
   "metadata": {},
   "outputs": [],
   "source": [
    "# Reduce the dimensions with pca\n",
    "df['pca_tfidf_clean_text'] = hero.pca(df['tfidf_clean_text'])"
   ]
  },
  {
   "cell_type": "code",
   "execution_count": 12,
   "metadata": {},
   "outputs": [
    {
     "data": {
      "text/html": [
       "<div>\n",
       "<style scoped>\n",
       "    .dataframe tbody tr th:only-of-type {\n",
       "        vertical-align: middle;\n",
       "    }\n",
       "\n",
       "    .dataframe tbody tr th {\n",
       "        vertical-align: top;\n",
       "    }\n",
       "\n",
       "    .dataframe thead th {\n",
       "        text-align: right;\n",
       "    }\n",
       "</style>\n",
       "<table border=\"1\" class=\"dataframe\">\n",
       "  <thead>\n",
       "    <tr style=\"text-align: right;\">\n",
       "      <th></th>\n",
       "      <th>text</th>\n",
       "      <th>topic</th>\n",
       "      <th>clean_text</th>\n",
       "      <th>tfidf_clean_text</th>\n",
       "      <th>pca_tfidf_clean_text</th>\n",
       "    </tr>\n",
       "  </thead>\n",
       "  <tbody>\n",
       "    <tr>\n",
       "      <th>0</th>\n",
       "      <td>Claxton hunting first major medal\\n\\nBritish h...</td>\n",
       "      <td>athletics</td>\n",
       "      <td>claxton hunting first major medal british hurd...</td>\n",
       "      <td>[0.0, 0.0, 0.0, 0.0, 0.0, 0.0, 0.0, 0.0, 0.0, ...</td>\n",
       "      <td>[-0.09105618651566255, 0.10359327018795876]</td>\n",
       "    </tr>\n",
       "    <tr>\n",
       "      <th>1</th>\n",
       "      <td>O'Sullivan could run in Worlds\\n\\nSonia O'Sull...</td>\n",
       "      <td>athletics</td>\n",
       "      <td>sullivan could run worlds sonia sullivan indic...</td>\n",
       "      <td>[0.0, 0.0, 0.0, 0.0, 0.0, 0.0, 0.0, 0.0, 0.0, ...</td>\n",
       "      <td>[-0.00015383816876505052, 0.02479013652859095]</td>\n",
       "    </tr>\n",
       "    <tr>\n",
       "      <th>2</th>\n",
       "      <td>Greene sets sights on world title\\n\\nMaurice G...</td>\n",
       "      <td>athletics</td>\n",
       "      <td>greene sets sights world title maurice greene ...</td>\n",
       "      <td>[0.0, 0.0, 0.0, 0.0, 0.0, 0.0, 0.0533678197008...</td>\n",
       "      <td>[-0.11772663835993022, 0.12863948982269394]</td>\n",
       "    </tr>\n",
       "    <tr>\n",
       "      <th>3</th>\n",
       "      <td>IAAF launches fight against drugs\\n\\nThe IAAF ...</td>\n",
       "      <td>athletics</td>\n",
       "      <td>iaaf launches fight drugs iaaf athletics world...</td>\n",
       "      <td>[0.0, 0.0, 0.0, 0.0, 0.0, 0.0, 0.0, 0.0, 0.0, ...</td>\n",
       "      <td>[-0.09133836611807246, 0.15401348515675647]</td>\n",
       "    </tr>\n",
       "    <tr>\n",
       "      <th>4</th>\n",
       "      <td>Dibaba breaks 5,000m world record\\n\\nEthiopia'...</td>\n",
       "      <td>athletics</td>\n",
       "      <td>dibaba breaks 000m world record ethiopia tirun...</td>\n",
       "      <td>[0.24734311047947527, 0.0, 0.0, 0.0, 0.0, 0.0,...</td>\n",
       "      <td>[-0.09122629300897496, 0.13507449766160295]</td>\n",
       "    </tr>\n",
       "  </tbody>\n",
       "</table>\n",
       "</div>"
      ],
      "text/plain": [
       "                                                text      topic  \\\n",
       "0  Claxton hunting first major medal\\n\\nBritish h...  athletics   \n",
       "1  O'Sullivan could run in Worlds\\n\\nSonia O'Sull...  athletics   \n",
       "2  Greene sets sights on world title\\n\\nMaurice G...  athletics   \n",
       "3  IAAF launches fight against drugs\\n\\nThe IAAF ...  athletics   \n",
       "4  Dibaba breaks 5,000m world record\\n\\nEthiopia'...  athletics   \n",
       "\n",
       "                                          clean_text  \\\n",
       "0  claxton hunting first major medal british hurd...   \n",
       "1  sullivan could run worlds sonia sullivan indic...   \n",
       "2  greene sets sights world title maurice greene ...   \n",
       "3  iaaf launches fight drugs iaaf athletics world...   \n",
       "4  dibaba breaks 000m world record ethiopia tirun...   \n",
       "\n",
       "                                    tfidf_clean_text  \\\n",
       "0  [0.0, 0.0, 0.0, 0.0, 0.0, 0.0, 0.0, 0.0, 0.0, ...   \n",
       "1  [0.0, 0.0, 0.0, 0.0, 0.0, 0.0, 0.0, 0.0, 0.0, ...   \n",
       "2  [0.0, 0.0, 0.0, 0.0, 0.0, 0.0, 0.0533678197008...   \n",
       "3  [0.0, 0.0, 0.0, 0.0, 0.0, 0.0, 0.0, 0.0, 0.0, ...   \n",
       "4  [0.24734311047947527, 0.0, 0.0, 0.0, 0.0, 0.0,...   \n",
       "\n",
       "                             pca_tfidf_clean_text  \n",
       "0     [-0.09105618651566255, 0.10359327018795876]  \n",
       "1  [-0.00015383816876505052, 0.02479013652859095]  \n",
       "2     [-0.11772663835993022, 0.12863948982269394]  \n",
       "3     [-0.09133836611807246, 0.15401348515675647]  \n",
       "4     [-0.09122629300897496, 0.13507449766160295]  "
      ]
     },
     "execution_count": 12,
     "metadata": {},
     "output_type": "execute_result"
    }
   ],
   "source": [
    "df.head()"
   ]
  },
  {
   "cell_type": "code",
   "execution_count": 13,
   "metadata": {},
   "outputs": [],
   "source": [
    "# Sum all of the previous actions with one step\n",
    "df['pca'] = (\n",
    "            df['text']\n",
    "            .pipe(hero.clean)\n",
    "            .pipe(hero.tfidf)\n",
    "            .pipe(hero.pca)\n",
    "   )"
   ]
  },
  {
   "cell_type": "code",
   "execution_count": 14,
   "metadata": {},
   "outputs": [
    {
     "data": {
      "text/html": [
       "<div>\n",
       "<style scoped>\n",
       "    .dataframe tbody tr th:only-of-type {\n",
       "        vertical-align: middle;\n",
       "    }\n",
       "\n",
       "    .dataframe tbody tr th {\n",
       "        vertical-align: top;\n",
       "    }\n",
       "\n",
       "    .dataframe thead th {\n",
       "        text-align: right;\n",
       "    }\n",
       "</style>\n",
       "<table border=\"1\" class=\"dataframe\">\n",
       "  <thead>\n",
       "    <tr style=\"text-align: right;\">\n",
       "      <th></th>\n",
       "      <th>text</th>\n",
       "      <th>topic</th>\n",
       "      <th>clean_text</th>\n",
       "      <th>tfidf_clean_text</th>\n",
       "      <th>pca_tfidf_clean_text</th>\n",
       "      <th>pca</th>\n",
       "    </tr>\n",
       "  </thead>\n",
       "  <tbody>\n",
       "    <tr>\n",
       "      <th>0</th>\n",
       "      <td>Claxton hunting first major medal\\n\\nBritish h...</td>\n",
       "      <td>athletics</td>\n",
       "      <td>claxton hunting first major medal british hurd...</td>\n",
       "      <td>[0.0, 0.0, 0.0, 0.0, 0.0, 0.0, 0.0, 0.0, 0.0, ...</td>\n",
       "      <td>[-0.09105618651566255, 0.10359327018795876]</td>\n",
       "      <td>[-0.09110180923322267, 0.10369181953891997]</td>\n",
       "    </tr>\n",
       "    <tr>\n",
       "      <th>1</th>\n",
       "      <td>O'Sullivan could run in Worlds\\n\\nSonia O'Sull...</td>\n",
       "      <td>athletics</td>\n",
       "      <td>sullivan could run worlds sonia sullivan indic...</td>\n",
       "      <td>[0.0, 0.0, 0.0, 0.0, 0.0, 0.0, 0.0, 0.0, 0.0, ...</td>\n",
       "      <td>[-0.00015383816876505052, 0.02479013652859095]</td>\n",
       "      <td>[-0.00028192417558177234, 0.024555518119895647]</td>\n",
       "    </tr>\n",
       "    <tr>\n",
       "      <th>2</th>\n",
       "      <td>Greene sets sights on world title\\n\\nMaurice G...</td>\n",
       "      <td>athletics</td>\n",
       "      <td>greene sets sights world title maurice greene ...</td>\n",
       "      <td>[0.0, 0.0, 0.0, 0.0, 0.0, 0.0, 0.0533678197008...</td>\n",
       "      <td>[-0.11772663835993022, 0.12863948982269394]</td>\n",
       "      <td>[-0.1175571259871432, 0.1286029965545729]</td>\n",
       "    </tr>\n",
       "    <tr>\n",
       "      <th>3</th>\n",
       "      <td>IAAF launches fight against drugs\\n\\nThe IAAF ...</td>\n",
       "      <td>athletics</td>\n",
       "      <td>iaaf launches fight drugs iaaf athletics world...</td>\n",
       "      <td>[0.0, 0.0, 0.0, 0.0, 0.0, 0.0, 0.0, 0.0, 0.0, ...</td>\n",
       "      <td>[-0.09133836611807246, 0.15401348515675647]</td>\n",
       "      <td>[-0.09128248458678502, 0.1538346649446441]</td>\n",
       "    </tr>\n",
       "    <tr>\n",
       "      <th>4</th>\n",
       "      <td>Dibaba breaks 5,000m world record\\n\\nEthiopia'...</td>\n",
       "      <td>athletics</td>\n",
       "      <td>dibaba breaks 000m world record ethiopia tirun...</td>\n",
       "      <td>[0.24734311047947527, 0.0, 0.0, 0.0, 0.0, 0.0,...</td>\n",
       "      <td>[-0.09122629300897496, 0.13507449766160295]</td>\n",
       "      <td>[-0.09123347052428832, 0.13495164319866687]</td>\n",
       "    </tr>\n",
       "  </tbody>\n",
       "</table>\n",
       "</div>"
      ],
      "text/plain": [
       "                                                text      topic  \\\n",
       "0  Claxton hunting first major medal\\n\\nBritish h...  athletics   \n",
       "1  O'Sullivan could run in Worlds\\n\\nSonia O'Sull...  athletics   \n",
       "2  Greene sets sights on world title\\n\\nMaurice G...  athletics   \n",
       "3  IAAF launches fight against drugs\\n\\nThe IAAF ...  athletics   \n",
       "4  Dibaba breaks 5,000m world record\\n\\nEthiopia'...  athletics   \n",
       "\n",
       "                                          clean_text  \\\n",
       "0  claxton hunting first major medal british hurd...   \n",
       "1  sullivan could run worlds sonia sullivan indic...   \n",
       "2  greene sets sights world title maurice greene ...   \n",
       "3  iaaf launches fight drugs iaaf athletics world...   \n",
       "4  dibaba breaks 000m world record ethiopia tirun...   \n",
       "\n",
       "                                    tfidf_clean_text  \\\n",
       "0  [0.0, 0.0, 0.0, 0.0, 0.0, 0.0, 0.0, 0.0, 0.0, ...   \n",
       "1  [0.0, 0.0, 0.0, 0.0, 0.0, 0.0, 0.0, 0.0, 0.0, ...   \n",
       "2  [0.0, 0.0, 0.0, 0.0, 0.0, 0.0, 0.0533678197008...   \n",
       "3  [0.0, 0.0, 0.0, 0.0, 0.0, 0.0, 0.0, 0.0, 0.0, ...   \n",
       "4  [0.24734311047947527, 0.0, 0.0, 0.0, 0.0, 0.0,...   \n",
       "\n",
       "                             pca_tfidf_clean_text  \\\n",
       "0     [-0.09105618651566255, 0.10359327018795876]   \n",
       "1  [-0.00015383816876505052, 0.02479013652859095]   \n",
       "2     [-0.11772663835993022, 0.12863948982269394]   \n",
       "3     [-0.09133836611807246, 0.15401348515675647]   \n",
       "4     [-0.09122629300897496, 0.13507449766160295]   \n",
       "\n",
       "                                               pca  \n",
       "0      [-0.09110180923322267, 0.10369181953891997]  \n",
       "1  [-0.00028192417558177234, 0.024555518119895647]  \n",
       "2        [-0.1175571259871432, 0.1286029965545729]  \n",
       "3       [-0.09128248458678502, 0.1538346649446441]  \n",
       "4      [-0.09123347052428832, 0.13495164319866687]  "
      ]
     },
     "execution_count": 14,
     "metadata": {},
     "output_type": "execute_result"
    }
   ],
   "source": [
    "df.head()"
   ]
  },
  {
   "cell_type": "markdown",
   "metadata": {},
   "source": [
    "Visualization"
   ]
  },
  {
   "cell_type": "code",
   "execution_count": 15,
   "metadata": {},
   "outputs": [
    {
     "data": {
      "application/vnd.plotly.v1+json": {
       "config": {
        "plotlyServerURL": "https://plot.ly"
       },
       "data": [
        {
         "hovertemplate": "topic=athletics<br>x=%{x}<br>y=%{y}<extra></extra>",
         "legendgroup": "athletics",
         "marker": {
          "color": "#636efa",
          "symbol": "circle"
         },
         "mode": "markers",
         "name": "athletics",
         "orientation": "v",
         "showlegend": true,
         "type": "scatter",
         "x": [
          -0.09110180923322267,
          -0.00028192417558177234,
          -0.1175571259871432,
          -0.09128248458678502,
          -0.09123347052428832,
          -0.110387238041532,
          -0.028991824672936397,
          -0.04307167858326579,
          -0.1289229954795234,
          -0.1575376827229142,
          -0.09560024448649397,
          -0.10798842733914525,
          -0.0894478202602351,
          -0.08055368995486364,
          -0.0779907266983889,
          -0.1204252592259249,
          -0.14084990757005383,
          -0.10521627549712136,
          -0.11110753396584622,
          -0.10798842733914525,
          -0.09671848293580682,
          -0.10713436224450175,
          -0.14563297739689546,
          -0.07450748135044077,
          -0.1087560250778801,
          -0.08580783370770022,
          -0.09927100101281525,
          -0.11471031321736475,
          -0.10918116432081838,
          -0.0742789093152767,
          -0.049745731097511375,
          -0.13234231582669365,
          -0.15101275192665153,
          -0.13138070968421828,
          -0.08923210261382213,
          -0.05466452684198308,
          -0.10211309696325989,
          -0.10177890075962386,
          -0.057833761926693365,
          -0.07919411716462209,
          -0.06947265081250392,
          -0.0899966555881016,
          -0.06169192869764345,
          -0.05635526988455156,
          -0.09411337339451291,
          -0.08155772211787636,
          -0.11256439695518838,
          -0.1270007880756212,
          -0.05467354307951808,
          -0.12113760362588229,
          -0.1280548174420855,
          -0.09400179370831341,
          -0.096149872971208,
          -0.1434274659925042,
          -0.09690829786722874,
          -0.10464601311614864,
          -0.12819357633751782,
          -0.13839501509234065,
          -0.11364779039895893,
          -0.10014880750911091,
          -0.1121475533002955,
          -0.061815351631219664,
          -0.12160334420951362,
          -0.06481800277066058,
          -0.10989890797595271,
          -0.15986960858016058,
          -0.11221975815035047,
          -0.030326421601805546,
          -0.17666861989182997,
          -0.107139175978051,
          -0.10595475109956866,
          -0.05908296554193688,
          -0.10779664368714846,
          -0.10505362696358213,
          -0.10482465442655389,
          -0.06404717513862894,
          -0.014927509577367382,
          -0.08086274753918606,
          -0.13525333292571273,
          -0.13037309053905052,
          -0.14634042755495577,
          -0.12777713562232831,
          -0.06363017176924293,
          -0.09400179370831341,
          -0.07467934032241468,
          -0.0802600292795846,
          -0.08360400836973801,
          -0.05467354307951808,
          -0.13192950077401383,
          -0.09220712414261156,
          -0.06988920821440747,
          -0.07752522111833297,
          -0.02253333692596307,
          -0.08830808895422801,
          -0.15264902322178706,
          -0.11294015525351851,
          -0.044348466347678646,
          -0.10725416558849682,
          -0.13799530855473532,
          -0.06299640369689276,
          -0.05845846490521307
         ],
         "xaxis": "x",
         "y": [
          0.10369181953891997,
          0.024555518119895647,
          0.1286029965545729,
          0.1538346649446441,
          0.13495164319866687,
          0.1576651986997494,
          0.07032766821863691,
          0.034914415990250545,
          0.17077378947481603,
          0.24040145099487806,
          0.11468224812295234,
          0.10907373062325512,
          0.11649480726725517,
          0.048822813233938216,
          0.13011535599841287,
          0.3315662531904817,
          0.33408841446848303,
          0.17694480886905573,
          0.1344586126724059,
          0.10907373062325512,
          0.15687484515311748,
          0.13108261567471932,
          0.3346206783683313,
          0.11072776356218442,
          0.15263580864951662,
          0.179703596279823,
          0.1587521845627859,
          0.1362351638053019,
          0.16128947281358677,
          0.1037129718104169,
          0.07711818890053515,
          0.20834801255502644,
          0.33691737481963885,
          0.15831277556441267,
          0.16890072394886566,
          0.12873401897526635,
          0.13618047430812708,
          0.08883993306904743,
          0.12249317718562708,
          0.08315747721456078,
          0.09683049524918498,
          0.12480632179906227,
          0.12037601319167966,
          0.079150585812713,
          0.15954034874085712,
          0.1129435805174279,
          0.25890618088155687,
          0.3036134596563035,
          0.13411100601421452,
          0.3225459353433104,
          0.3441368390853403,
          0.15327283756091994,
          0.11256492412279756,
          0.31475850908620234,
          0.13861928222632627,
          0.13390472043909515,
          0.15068411802880927,
          0.16411346860935982,
          0.08916136878313598,
          0.13711266857022977,
          0.15029654373620294,
          0.08606461580551726,
          0.15622797220317125,
          0.10154423434964913,
          0.1309478286935661,
          0.2944822941872785,
          0.15632050218928314,
          0.08166244558653449,
          0.2498479146098168,
          0.08375230651513199,
          0.11860242355733445,
          0.0651933824656309,
          0.08505862246043053,
          0.12838024888077132,
          0.1854960836591549,
          0.10149080642257782,
          0.050264766662664204,
          0.11141721300976973,
          0.32710453103918447,
          0.2780655041312074,
          0.3430479473483132,
          0.338145803929779,
          0.10753268176431635,
          0.15327283756091994,
          0.10385297502509423,
          0.09767885215790129,
          0.12002382179154605,
          0.13411100601421452,
          0.308449802791812,
          0.09756741777985059,
          0.1338458098843174,
          0.10328781619553747,
          0.013098954227931786,
          0.11312993798668453,
          0.22092498978047573,
          0.12451135585619028,
          0.056575800635889344,
          0.1523358976741329,
          0.17992670325646537,
          0.017629772420081725,
          0.11544638877787726
         ],
         "yaxis": "y"
        },
        {
         "hovertemplate": "topic=cricket<br>x=%{x}<br>y=%{y}<extra></extra>",
         "legendgroup": "cricket",
         "marker": {
          "color": "#EF553B",
          "symbol": "circle"
         },
         "mode": "markers",
         "name": "cricket",
         "orientation": "v",
         "showlegend": true,
         "type": "scatter",
         "x": [
          0.25310436672316416,
          0.21416866233991871,
          0.2260378893558524,
          0.21767461249765563,
          0.11994252055521976,
          0.1396740502758709,
          0.12128525460045854,
          0.10641318923483574,
          0.14963493725536142,
          0.10152962422680478,
          0.12015338687011702,
          0.05249536133895282,
          0.3133465506303858,
          0.06327482669880295,
          0.20958081091525105,
          0.032160582869466575,
          0.061709923961756584,
          0.14897948413134812,
          0.22533056216193592,
          0.1760009788130145,
          0.061709923961756584,
          0.18919695444824777,
          0.13973917146784387,
          0.1621332983066459,
          0.07285260993480681,
          0.21505416471171854,
          0.23011681198178918,
          0.211365631277734,
          0.13991341142760688,
          0.10528375682136236,
          0.2521110324281284,
          0.1621332983066459,
          0.07285260993480681,
          0.19235394132081873,
          0.09288506638196492,
          0.11199488291866046,
          0.08193554426464626,
          0.16455069669365013,
          0.11121821879457286,
          0.18276580495853942,
          0.1294188175237397,
          0.24589606398391128,
          0.25085515426504246,
          0.2143108813708221,
          0.26267651100517475,
          0.16651141873282418,
          0.06150707792026813,
          0.1978753506204652,
          0.13302857500160845,
          0.18828040779768687,
          0.031206282252125097,
          0.26573018232975154,
          0.2662419368519745,
          0.23018051204204976,
          0.1280019380790689,
          0.2237624749218067,
          0.11959792427337143,
          0.05641658535980671,
          0.20590515432865947,
          0.16739163042937366,
          0.16726630502891326,
          0.22951933103072225,
          0.2980750795358264,
          0.20878130427167463,
          0.15744661193122958,
          0.1286062047971048,
          0.19281671554737598,
          0.3712071421722314,
          0.13081890894962356,
          0.2572902692708359,
          0.34187187228294463,
          0.1552012399190225,
          0.30507713165880984,
          0.24917518020270052,
          0.35144416505567694,
          0.1960603695492927,
          0.16883688921133855,
          0.06187016479852937,
          0.18973335734412916,
          0.24695583294925305,
          0.17376161173515103,
          0.2753507733670834,
          0.3269711721138792,
          0.3274709593458794,
          0.10490328958310008,
          0.2663014691205538,
          0.27968343262417766,
          0.2829760642698462,
          0.27705793215817787,
          0.13880907607600337,
          -0.026189040460208174,
          0.08991977735976525,
          0.20747779481802672,
          0.031197955170858632,
          0.14540688884879918,
          0.17718168319542466,
          0.11104397585348476,
          0.17807726175292887,
          0.1002079720767975,
          0.1686166324975182,
          0.08764066663824677,
          0.017477896660700407,
          0.0897220055555789,
          0.09382505521143643,
          0.06745017822932838,
          0.04722689968534547,
          0.20539682457807223,
          0.03917970355514615,
          0.28622335256482334,
          0.20416581246325027,
          0.11369793316454939,
          -0.033511400522066054,
          0.16632714068340385,
          0.12959315636183175,
          0.10136999266920957,
          0.02841714381682065,
          0.20885389963500456,
          0.11366580103058442,
          0.23120492627086617,
          0.1037835889469195,
          0.13501188331816052,
          0.08436262201409159,
          0.11035798966212078,
          0.11971880405196744
         ],
         "xaxis": "x",
         "y": [
          0.11920118922042915,
          0.05708660207371195,
          0.09682443350679672,
          0.17746170415144585,
          0.008891436515224732,
          0.02879416181660422,
          0.10688660763916531,
          0.07316582445505933,
          0.14640760826406157,
          0.05950781550957081,
          0.10380758832653827,
          -0.006105413751133376,
          0.07148159312539712,
          0.02847774739263902,
          0.07554573257354914,
          0.0019504984193920597,
          0.06373486143942984,
          0.0469356274118128,
          0.06470432884282964,
          0.03177983526124054,
          0.06373486143942984,
          0.17121465879253253,
          0.10989022870909268,
          0.1402071392773386,
          0.11224433762456919,
          0.17317287755484453,
          0.09084913750123753,
          0.13323398588975768,
          0.10961577030159686,
          0.03174354777521356,
          0.07442440943053856,
          0.1402071392773386,
          0.11224433762456919,
          0.17613315611600008,
          0.07625981247737193,
          0.04335774265942918,
          0.0941269457690518,
          0.0945752978235444,
          0.06082899595205078,
          0.04121196733558427,
          0.12267174949258942,
          0.03078772450682344,
          0.05982743691011597,
          0.16267152915466046,
          0.1758262785668492,
          0.09024793734510671,
          0.07741633709879012,
          0.03482649029865343,
          0.06972555643418209,
          0.05023233766412745,
          0.008145992039785034,
          0.11452999511805702,
          0.11560772190178396,
          0.1564166318629325,
          0.11063963571777122,
          0.1109396345222108,
          0.10192397938726398,
          0.08043638557278071,
          0.11266126303330969,
          0.16249288742885837,
          0.1619903172147696,
          0.16586421202645954,
          0.01717752116750113,
          0.054506982267163044,
          0.15530871708291413,
          0.0770758199045767,
          0.02682441958200497,
          0.0688211175511899,
          0.028444082081242893,
          0.20647053464735227,
          0.016367433675522302,
          0.09804769679312568,
          0.07090310480610566,
          0.2031026287988375,
          0.06666940728412725,
          -0.000317126154318239,
          0.13910822370915307,
          0.059547414545367015,
          0.03870251865377348,
          0.060064461384442734,
          0.1291180113041583,
          0.17881959419774995,
          0.06334123507805621,
          0.06599074457498,
          0.09622470894974793,
          0.2143179527233472,
          0.204437102423602,
          0.20602967161783434,
          0.018757997162770147,
          0.11359127076481321,
          0.06435555093072484,
          0.05039307435694156,
          0.060033122910278014,
          0.06985655495495358,
          0.015736189736577956,
          0.028569973264739087,
          -0.019315167146884037,
          0.12793907512784627,
          0.05392263960003619,
          0.13658315843932667,
          0.07614039960610199,
          0.06464790091981697,
          0.06607821469264995,
          0.12295200872364237,
          0.06437537539382353,
          0.056997780761994174,
          0.031260845954785337,
          0.011606731023479212,
          0.022213103519070927,
          0.12193595081145046,
          0.1074766287737783,
          0.0627756409803716,
          0.11695987340133916,
          0.12301643363393115,
          0.07398183529392748,
          -0.004366743260360921,
          0.027344045860206202,
          0.04948784625216254,
          0.021488379868549103,
          0.07425071312815155,
          0.10291749217986622,
          -0.0022555433608523285,
          -0.04208439949578518,
          0.08184762082419383
         ],
         "yaxis": "y"
        },
        {
         "hovertemplate": "topic=football<br>x=%{x}<br>y=%{y}<extra></extra>",
         "legendgroup": "football",
         "marker": {
          "color": "#00cc96",
          "symbol": "circle"
         },
         "mode": "markers",
         "name": "football",
         "orientation": "v",
         "showlegend": true,
         "type": "scatter",
         "x": [
          -0.04708603605284194,
          -0.1138393138373332,
          -0.08350689139228969,
          -0.09712665362995,
          0.07296125380321075,
          -0.03378071277121658,
          -0.07634076072860967,
          -0.19881483941262357,
          -0.09990544986604848,
          -0.1265630500467176,
          -0.006025859959443429,
          -0.016379747537397,
          -0.011262107896500615,
          -0.001958581693476396,
          -0.005033926509452644,
          -0.054836260518200224,
          -0.12296157468636953,
          -0.17166644403417752,
          -0.004678372035757481,
          -0.04140239471011101,
          -0.038190199327238536,
          -0.04728393603711544,
          -0.0519082827993807,
          -0.1386606595649725,
          -0.023880816023772084,
          -0.01112903166375653,
          -0.17178863283971427,
          -0.10770633842227491,
          0.004811059450155003,
          -0.06771391275335166,
          -0.1372417946975413,
          -0.06456782957281512,
          -0.017216786646790744,
          0.01650017519809084,
          0.006576567699170099,
          -0.060018960054507284,
          -0.04321213011787384,
          0.003098469903267917,
          0.015062649419327436,
          0.02147858670227898,
          -0.03142694822499155,
          -0.060010343404689914,
          -0.07746628011077354,
          -0.06609995573393808,
          -0.06357326459976127,
          -0.10961022664107127,
          -0.14881909450937772,
          -0.04890814205268949,
          -0.05653528611517996,
          -0.08689724853386414,
          -0.024176897008754854,
          -0.02701590247375226,
          -0.04025160129249879,
          -0.05411587023029529,
          -0.04762240971264921,
          -0.04744867061780164,
          -0.05521371379973324,
          -0.10676467076901923,
          -0.06083839679606808,
          -0.1270724474125251,
          -0.08870986028047298,
          -0.07417576282023226,
          -0.11302780264003096,
          -0.09684958193889978,
          -0.1844443212036445,
          -0.05502702961226178,
          -0.08296634551367044,
          -0.050213967541999534,
          -0.07067212834499746,
          -0.05953659588608423,
          -0.087792987881496,
          -0.06605893135537455,
          -0.10979013429214683,
          -0.13237258067915325,
          -0.20188713843546252,
          -0.0861507363498241,
          -0.03337616971707192,
          -0.07543847704273339,
          -0.008716081633376112,
          -0.1270056033717355,
          -0.07655947984536451,
          -0.07540371712157572,
          -0.18279907248598895,
          -0.0867874069902042,
          -0.05201016830290478,
          -0.07317387051923765,
          -0.13009271804751107,
          -0.13009271804751107,
          -0.14906955367733762,
          -0.11823755237312972,
          -0.03613406932167036,
          -0.08007941599050741,
          -0.07827392010974256,
          -0.10673731158685246,
          -0.07602150345989316,
          0.02194343099716208,
          -0.038621123698238974,
          -0.09049173698869335,
          -0.10636460083879506,
          -0.05029237423044988,
          -0.07619074961969852,
          -0.11819851481962865,
          -0.09965179568772851,
          -0.11970918050625029,
          -0.1406148376471113,
          -0.06870628123319286,
          -0.12763479630789445,
          -0.05134433538969038,
          -0.0708881719890322,
          -0.049310013278598866,
          -0.060026703704917146,
          -0.11705259864622805,
          -0.04547990862569482,
          -0.054604034828418364,
          -0.16260592844787905,
          -0.040343596237608595,
          -0.11240065564177061,
          -0.0318665602743662,
          -0.02555977216935006,
          -8.703009961426674e-05,
          -0.014106974390064817,
          -0.032479270589222974,
          -0.021760005938599312,
          -0.17462662913812396,
          0.01712887683694263,
          -0.06181036635174085,
          -0.051531302907824844,
          -0.046248163413028225,
          -0.09498258855079361,
          -0.020951054721528476,
          0.005063765749321507,
          -0.03910141080806638,
          -0.11305396129299093,
          -0.11359990460378172,
          -0.060476137428551964,
          -0.05481463506696407,
          -0.13200208576423003,
          -0.032711363892468884,
          -0.05778053022419835,
          -0.06964880619557609,
          -0.13104770041368063,
          -0.1058409418349501,
          -0.11643090312216625,
          -0.09558184955189794,
          -0.1311135857480227,
          -0.018054612613922983,
          -0.06380892449843295,
          -0.10092489985242496,
          -0.19386790823786879,
          -0.06336087448164178,
          -0.05293278888147889,
          -0.11569337271060605,
          -0.05115174703988116,
          -0.09767515143422699,
          -0.07222518932662464,
          -0.05707384339193032,
          -0.07903076318334558,
          -0.14648180606666017,
          -0.04458855861242507,
          -0.1139813664281907,
          -0.14648180606666017,
          -0.06718177542079515,
          -0.0684210619408657,
          -0.0684210619408657,
          -0.09314311502011695,
          -0.0694836140437478,
          -0.06022166288556732,
          -0.05186815902675257,
          -0.03610613227251927,
          -0.060362602588213715,
          -0.08736327811144902,
          -0.13380201265708988,
          -0.07240397088591677,
          -0.04053011211050673,
          -0.040184722822761164,
          -0.06042251711651349,
          -0.07179879260203202,
          -0.15697390685819207,
          -0.0747352009793749,
          -0.17022130914471068,
          -0.09034582248826246,
          -0.05525436519629191,
          -0.040164144867880947,
          -0.06148469635556757,
          -0.08171170619442418,
          -0.12797244784629203,
          -0.0866609242749356,
          -0.09588146740414386,
          -0.07968414255475019,
          -0.16084082627432114,
          -0.15652849803626417,
          -0.11901615962994343,
          -0.07939309399236891,
          -0.07294735733565225,
          -0.05926419076324822,
          0.00515550162116323,
          -0.03695953804007972,
          -0.10063301512962725,
          -0.07648838037936545,
          -0.06772328376712547,
          -0.053635501355218614,
          -0.19573435348537066,
          -0.055086822846148874,
          -0.06534331747214832,
          -0.07674730768294535,
          -0.042719621231603215,
          -0.2000883497874827,
          -0.051930313788174046,
          -0.1445516817796858,
          -0.08350689139228969,
          -0.06645406562185638,
          -0.0776775475346194,
          -0.035344336470314534,
          -0.04736796259020744,
          -0.12156629800084014,
          -0.06998843347732304,
          -0.03034074482357809,
          -0.059909866990302714,
          -0.022871268984286253,
          0.0025398247967200254,
          -0.1337446192007463,
          -0.005715165511166126,
          -0.10053325504554704,
          -0.03251552391142061,
          -0.042274443813620645,
          -0.09701997543439644,
          -0.03227374085945705,
          -0.0822285781458538,
          -0.18119308715670823,
          -0.12562076525500618,
          -0.060249375501569134,
          -0.08697216564242549,
          -0.09192803374499141,
          -0.06038418474094652,
          -0.04891974046272246,
          -0.02453938232883939,
          -0.08931452375569968,
          -0.06673344756546865,
          -0.1853643939924803,
          -0.1138809172127211,
          -0.12245374239260137,
          -0.06406942242319728,
          -0.17216672024825774,
          -0.08071409664972905,
          -0.129839942684825,
          -0.07551595530346482,
          -0.025401750050327885,
          -0.04544337520633832,
          -0.058095138895198024,
          -0.14890100371023302,
          -0.07925899534109357,
          -0.12661247304755155,
          -0.0787599841446287,
          -0.04092005072445681,
          -0.0399676035148281,
          -0.054924346307182695,
          -0.10159022496597668,
          -0.009434885238058681,
          -0.051650577715570134,
          -0.0829111191201791,
          -0.021656116349413154,
          -0.0986162815360702,
          -0.06494281369594143,
          -0.03567663034074683,
          -0.0027676109000173885
         ],
         "xaxis": "x",
         "y": [
          -0.08550165161774999,
          -0.11547953771895048,
          -0.06974294837232334,
          -0.0675865315900932,
          -0.0619191648492206,
          -0.008987758860899574,
          -0.09488307201330763,
          -0.2180555915113525,
          -0.12050689397721152,
          -0.16705258282258084,
          -0.056410116796008256,
          -0.04602568406885669,
          -0.043111904727836235,
          -0.027199723912189687,
          -0.018151230561450706,
          -0.058496657523927256,
          -0.1997761947751842,
          -0.17013911651676114,
          -0.045088275926139995,
          -0.043311563796614945,
          -0.10367634709029085,
          -0.03328405413871569,
          -0.015266683776852065,
          -0.1266783906973155,
          -0.1285858738013466,
          -0.07933145433347125,
          -0.16986472794075894,
          -0.12141954258940606,
          -0.07059506659947089,
          -0.03265723768796112,
          -0.14257770972202277,
          -0.0783722970890887,
          -0.014265900550216922,
          -0.042693922200271184,
          -0.04892542776332189,
          -0.008910751736063824,
          0.014950937322501481,
          -0.020208122453931797,
          -0.11225837226737123,
          -0.009491729570366382,
          -0.020181067070205276,
          0.036818706882580834,
          -0.07441897445516439,
          -0.05782002704445808,
          -0.08316858736108072,
          -0.10165747856121846,
          -0.17325038250516608,
          -0.1422352782245108,
          -0.03381188212490387,
          -0.08135158173082056,
          -0.05162220573242989,
          -0.018711992738058642,
          -0.031617539408149355,
          -0.0073226785283893115,
          0.006396768478784698,
          -0.0858031446173753,
          -0.11041508903848397,
          -0.11043839222057263,
          -0.013112333165689497,
          -0.08849533409967256,
          -0.11314548389357729,
          -0.07732552551554532,
          -0.11381411037047481,
          -0.06924322205675787,
          -0.24198381491314616,
          -0.11244819222909383,
          -0.05721171435537178,
          -0.058175747284305385,
          -0.07299172484803991,
          -0.028148862469280354,
          -0.07375870545238898,
          -0.03499295295114477,
          -0.09083755888508795,
          -0.08557404818178846,
          -0.1832140665886092,
          -0.005811318733052872,
          -0.004992709100240516,
          -0.06827624097598463,
          0.013806369860770287,
          -0.08196238435374899,
          -0.018764683062238385,
          -0.07463367203389547,
          -0.16535148082785595,
          -0.06487354212993371,
          -0.06227300997628548,
          -0.1039864642017043,
          -0.1419382341378898,
          -0.1419382341378898,
          -0.15636430477416366,
          -0.12218103784034871,
          -0.03882885286980711,
          -0.06114349392171669,
          -0.04734064218302841,
          -0.08016316898350087,
          -0.059683413203846986,
          0.038350367211352716,
          -0.005690752116361556,
          -0.09522854177749636,
          -0.05554691105021477,
          -0.0131606640871225,
          -0.06920602684807897,
          -0.10469328122408715,
          -0.06997121012314496,
          -0.0970699934590247,
          -0.0013464827911587093,
          -0.08907156732139627,
          -0.05076789064057822,
          -0.020746437726190968,
          -0.016844252494934344,
          0.00467168043045266,
          -0.0667330697863314,
          -0.08640728961325693,
          -0.025458923291471914,
          -0.07601406201106871,
          -0.17300086758818972,
          -0.0054573411737654405,
          -0.06905243691208018,
          -0.046864677784332946,
          -0.0077482625930579314,
          0.010103587611624474,
          0.0017631510423706928,
          -0.07622310241683886,
          -0.08153437205115684,
          -0.20056482949661708,
          -0.006572477296797644,
          -0.029840514224303463,
          -0.041702098312302184,
          -0.06744897217416759,
          -0.13556158906679583,
          0.011173622623291399,
          0.00029076364471218043,
          -0.0555232389891384,
          -0.12266535256038241,
          -0.14449293524363152,
          -0.06897842236115136,
          -0.026043305173087658,
          -0.14944813233732035,
          -0.0556061642989423,
          -0.033675730084355704,
          -0.003933491686942851,
          -0.14988956894700295,
          -0.15924819207445592,
          -0.09420203641871175,
          -0.11972402272812437,
          -0.13202856875925875,
          -0.053415781685740786,
          0.04305705053411633,
          -0.08894546198642367,
          -0.19751995808508604,
          -0.050330401879456955,
          -0.037043803183277824,
          -0.13718931226769582,
          -0.06673398443348609,
          -0.11103870763219374,
          -0.035082061604224474,
          -0.0643508135742961,
          -0.03961417795083577,
          -0.1670893587809801,
          0.0017713188405177702,
          -0.09152056939639899,
          -0.1670893587809801,
          -0.05476549270933648,
          -0.014153344934895864,
          -0.014153344934895864,
          -0.09680972696316362,
          -0.06482732308597851,
          -0.03256096816549607,
          -0.0010887279506710933,
          -0.05199131338400541,
          -0.03328806546731544,
          -0.02877008684135833,
          -0.10565434961980796,
          -0.09211518940386952,
          -0.08700873967005605,
          -0.06593364310944538,
          -0.07156572420175945,
          0.018156230192806426,
          -0.09381886205126967,
          -0.04747189893629026,
          -0.19720412115433894,
          -0.06660512868789822,
          -0.030631504088501,
          -0.020333048032955478,
          -0.09055056742111463,
          -0.06358725023265356,
          -0.13755183421888376,
          -0.12923400151727066,
          -0.11127185588133252,
          -0.11895644481543055,
          -0.13220610417993614,
          -0.19437890715107592,
          -0.1691319181822206,
          -0.08995150535762796,
          -0.09241629653318979,
          -0.03366486151467507,
          -0.03757347203239803,
          0.005491391432527224,
          -0.149471412582558,
          -0.17766432974798368,
          -0.14966964412469533,
          -0.06195540902616105,
          -0.24834359593660785,
          -0.07309644403506224,
          -0.06575619044964796,
          -0.11735874752525194,
          -0.027084556174881466,
          -0.21819730965882186,
          -0.043283351509248856,
          -0.1725848573689638,
          -0.06974294837232334,
          -0.12608476297735238,
          -0.12804750231565903,
          -0.02957155877739753,
          -0.05594434962573161,
          -0.13731996524504372,
          -0.09142613948685122,
          -0.010663810696155395,
          -0.061822474148376216,
          -0.010216681818551265,
          0.008962520418309533,
          -0.1863592545715117,
          -0.05293311680251329,
          -0.06316810960984322,
          -0.0004121773180047017,
          -0.008276407664619964,
          -0.1188570183048923,
          -0.012964921225540202,
          -0.05788328967351661,
          -0.1887266347885353,
          -0.10198956179858383,
          0.051897129845306096,
          -0.05725286626459561,
          -0.06451182295424068,
          -0.038525800410986265,
          -0.014670424721192513,
          -0.08421983102506095,
          -0.09267814501240176,
          -0.08476510937035411,
          -0.16936910013045853,
          -0.13196753322761862,
          -0.10827121168654234,
          -0.024279269925504717,
          -0.2040626378856459,
          -0.03496374015209877,
          -0.11530924311517309,
          -0.06477647400659192,
          -0.07021661991962716,
          0.02348401178335554,
          -0.09681519792564587,
          -0.15293810203110014,
          -0.09434174848138333,
          -0.12210081032605842,
          -0.09542571446023554,
          -0.05340188255430337,
          -0.010836419933409482,
          0.02313107647088838,
          -0.006575146479122251,
          0.03088880196731622,
          -0.04378790445552737,
          -0.1113035785339675,
          -0.023066018946959616,
          -0.10832920793956245,
          -0.028363054042515518,
          -0.022234282862000798,
          -0.021199736100225814
         ],
         "yaxis": "y"
        },
        {
         "hovertemplate": "topic=rugby<br>x=%{x}<br>y=%{y}<extra></extra>",
         "legendgroup": "rugby",
         "marker": {
          "color": "#ab63fa",
          "symbol": "circle"
         },
         "mode": "markers",
         "name": "rugby",
         "orientation": "v",
         "showlegend": true,
         "type": "scatter",
         "x": [
          0.13176268417373785,
          0.191054949140244,
          0.1373440553674211,
          0.0569820016110139,
          0.0668194985975868,
          0.15175692635381083,
          0.1353649171182764,
          0.12865432266328344,
          0.10039142496724249,
          0.03999620671471677,
          0.009798270780293323,
          0.06041008259458701,
          0.08259635099742249,
          0.030196302131226066,
          0.03811607897194749,
          0.15782813833589182,
          0.1964860308858413,
          0.0853445073565078,
          0.15935908249740502,
          0.15246497570114342,
          0.1622791254514354,
          0.09153813212921062,
          0.062182660502603716,
          0.09347812359695842,
          0.14893075794820207,
          0.0275943039318274,
          0.13525429264822458,
          0.1872037428474852,
          0.2229320735245791,
          0.10953905366589124,
          0.15650906604245296,
          0.21088451476498574,
          0.06189477934800317,
          -0.008970800616754244,
          0.040551148000300775,
          -0.007437835630173408,
          0.21149801989548214,
          0.034748746891928646,
          0.18248202012962414,
          0.2789466838975183,
          0.025194724685245876,
          0.03644582164215505,
          0.13888639840333192,
          0.0443232553151009,
          0.12269352363752715,
          0.1213728364023437,
          0.13730071843766875,
          0.23959732815895327,
          0.1038848329531904,
          0.13250930914709516,
          0.18288039413745202,
          0.09521093958425296,
          0.1266282447731741,
          0.11121113862549571,
          0.13414340432449193,
          0.268703585924685,
          0.12774052510948722,
          0.06990770837443361,
          0.20717849848484118,
          0.10938023263713252,
          0.1038848329531904,
          0.14106107330892523,
          0.06399252703244937,
          0.10093613952256483,
          0.10402317842747055,
          0.15185996985451408,
          0.04715799770347382,
          0.2115617722816688,
          0.10307262009934229,
          0.04495984683792199,
          0.03889541956539639,
          0.11915462939776048,
          0.14609355695590823,
          0.06698174534313313,
          0.08631875850235989,
          0.058734232454703696,
          0.05724790237693909,
          -0.02497793957400347,
          0.053221176370117536,
          0.004139486082240533,
          0.09032146362962032,
          -0.0020988323545554862,
          0.0250341779025375,
          0.05767258749363494,
          0.1730226116606706,
          0.09531393732798081,
          0.11905176329991791,
          0.17182335486119402,
          -0.01663031361348627,
          0.20453760833695356,
          0.021146995660699733,
          0.11880449824615442,
          0.05127637995456446,
          0.17664200068992184,
          0.10938874291657272,
          0.05789178135282539,
          0.0662429318584763,
          0.09401229881926183,
          0.06379654976970633,
          0.16254430966726754,
          0.015185726805402528,
          0.13217870089382963,
          0.044568247251416435,
          0.13184564860471726,
          0.12976653617606396,
          0.11242575800379388,
          0.035460344213560056,
          0.04510826356847366,
          0.08214774920500427,
          0.022438143835638545,
          0.002096841986173599,
          -0.055266174676039156,
          -0.05408465886907594,
          0.028844433568441342,
          0.02707283141972424,
          -0.04084026954855841,
          0.18430735884004704,
          0.06365609346913918,
          0.05204297516928689,
          -0.0024919492091148854,
          0.12998678400849903,
          0.13860144713780354,
          0.09660300954689024,
          -0.031283247153096674,
          -0.022037969154276495,
          -0.04809728227675557,
          0.1103158206258036,
          0.11754196769221588,
          0.1437105492300572,
          0.18060876618917715,
          0.15151830100519073,
          0.2629688978676746,
          0.15181748582542343,
          0.15200002279464392,
          0.09521093958425296,
          0.11916504378857332,
          0.11909049986626287,
          0.036177031199984076,
          0.12701546732832933,
          0.06966278431937674,
          0.22533882893985419,
          0.14064686903231297,
          0.22362272164904123,
          0.12452033446124268,
          0.13734389695027674,
          0.08012966604364075,
          0.04609346486240876
         ],
         "xaxis": "x",
         "y": [
          -0.18078400271479295,
          -0.20473403617993294,
          -0.16556825431528593,
          -0.04930251731275859,
          -0.10353728791193505,
          -0.2016153266876899,
          -0.17723935218295944,
          -0.14548308417208555,
          -0.12949243082071213,
          -0.04248762166925718,
          -0.05584819740210284,
          -0.03374120005626366,
          -0.10266455391640689,
          -0.08559377587949636,
          -0.03996647741934982,
          -0.1597407453299562,
          -0.16103830594203614,
          -0.10741371538540699,
          -0.11361800187197585,
          -0.1580241487647318,
          -0.14659874357293923,
          -0.0996062916430271,
          -0.048307732280061584,
          -0.08044396306302504,
          -0.1583304175899921,
          -0.09836404774923214,
          -0.09723280740968593,
          -0.1255742575490419,
          -0.11763495572970388,
          -0.1478129475821096,
          -0.1112430406686946,
          -0.1609676163118659,
          -0.1249350084180219,
          -0.012447122628018743,
          -0.06473402364353692,
          0.019251003273101277,
          -0.12402756983845098,
          -0.05415346277130857,
          -0.08253923260012751,
          -0.21980951956468528,
          0.006786963082616219,
          0.008043918352097798,
          -0.17840107905124522,
          -0.11686936187844213,
          -0.07771199645015821,
          -0.07665641850942138,
          -0.14964296143516753,
          -0.13975031523251874,
          -0.08429082262427313,
          -0.08964786191342972,
          -0.15497879004539183,
          -0.08962638272266146,
          -0.15022812219291776,
          -0.0917157254333729,
          -0.16719828531514513,
          -0.09766010544769453,
          -0.12904470855561165,
          -0.06771179574979379,
          -0.18675380668468478,
          -0.10800431683925611,
          -0.08429082262427313,
          -0.11671814906489206,
          -0.10157156347318437,
          -0.11742088506499399,
          -0.12690743551180558,
          -0.15508282393002523,
          -0.02467721667618868,
          -0.15990939439352755,
          -0.11446586771049166,
          -0.018220144478276752,
          -0.0874571210409824,
          -0.09940675378458261,
          -0.14460965184906877,
          -0.11371815641500323,
          -0.14178071021557706,
          -0.09300640657771288,
          -0.126377846628566,
          -0.026352359485655622,
          -0.04211436812449265,
          -0.02589918480393262,
          -0.10706733804999934,
          -0.05013835674405706,
          -0.02730521027960781,
          -0.057005086621024686,
          -0.09354321696062294,
          -0.017801842621936768,
          -0.08242675903141707,
          -0.06801383957689267,
          -0.024802274249404954,
          -0.15924218886855138,
          -0.008017310084783812,
          -0.07636826162701478,
          -0.0976376073235262,
          -0.09751128750852128,
          -0.05570467745525534,
          -0.021528831353942665,
          -0.0679230098275061,
          -0.03845725408973019,
          -0.018881612054092774,
          -0.1407483560965001,
          -0.016207116434280324,
          -0.09155804202414185,
          0.00852045071909763,
          -0.09119677978219286,
          -0.08026240741050332,
          -0.06280866429050128,
          -0.08627457913410443,
          -0.094424648636875,
          -0.0038484161766512456,
          -0.08106186552275728,
          -0.07232129535702538,
          -0.03030104704205945,
          -0.03133463440370865,
          -0.025647120462461967,
          -0.01952197736452529,
          -0.05753917528079793,
          -0.18815125096392296,
          -0.012983704433393724,
          -0.0832089279727848,
          -0.06477691188527815,
          -0.1164105543285613,
          -0.12163507102293009,
          -0.10937770543366321,
          -0.05485890431465983,
          -0.07832413706835602,
          -0.04046667343615625,
          -0.04770595255926501,
          -0.11158928112450134,
          0.004912123396543658,
          -0.1574991852718624,
          -0.18894053126786553,
          -0.21746127667019693,
          -0.20137776980724098,
          -0.07624486527505907,
          -0.08962638272266146,
          -0.14249786376832604,
          -0.04853727528548131,
          -0.061081607673158414,
          -0.13341664773986606,
          -0.10596917207643278,
          -0.15956716392174486,
          -0.1618916886454858,
          -0.11753738391450126,
          -0.08307838520809907,
          -0.07412319216558241,
          -0.0433936547153588,
          -0.04329722889521876
         ],
         "yaxis": "y"
        },
        {
         "hovertemplate": "topic=tennis<br>x=%{x}<br>y=%{y}<extra></extra>",
         "legendgroup": "tennis",
         "marker": {
          "color": "#FFA15A",
          "symbol": "circle"
         },
         "mode": "markers",
         "name": "tennis",
         "orientation": "v",
         "showlegend": true,
         "type": "scatter",
         "x": [
          -0.04257674813233131,
          -0.05501524650733608,
          -0.055681098014824223,
          -0.06912164959133779,
          -0.03781937396320412,
          -0.054432753171910195,
          -0.05979175224127734,
          -0.0487596433538127,
          -0.05573675646858118,
          -0.05169219177683752,
          -0.027451307588376495,
          -0.07370551558977483,
          -0.03793684873023598,
          -0.04007704489373748,
          -0.046885291469092955,
          -0.05169219177683752,
          -0.06405364403191524,
          -0.07370551558977483,
          -0.04079241243914978,
          -0.04674610104179381,
          -0.06804374007299735,
          -0.060514403736121755,
          -0.05593739020283928,
          -0.07361318657935331,
          -0.044969559138682454,
          -0.041991888929864864,
          -0.022628148480418317,
          -0.06060622784035814,
          -0.05781779044816515,
          -0.06112726881107324,
          -0.041437915152756674,
          -0.05636207077753338,
          -0.06242128531977492,
          -0.04831288124740935,
          -0.033471860786166464,
          -0.0259587872050823,
          -0.06915295705437999,
          -0.0759635217063356,
          -0.05148286736743068,
          -0.055893752459997524,
          -0.0514400540052322,
          -0.04336552566261993,
          -0.06598076243513777,
          -0.06649953775915121,
          -0.04827375168995404,
          -0.07010443539277118,
          -0.05501392964128981,
          -0.056542250700994424,
          -0.07538183515578077,
          -0.07538183515578077,
          -0.05862790841374999,
          -0.056009041276233414,
          -0.0482706014809728,
          -0.03193969656473126,
          -0.0495024208930549,
          -0.08178489409766808,
          -0.06964082320093493,
          -0.04138900312129841,
          -0.040312215959039555,
          -0.0620851049650245,
          -0.06265463873773787,
          -0.038671008636609175,
          -0.046150017056781775,
          -0.10011501355813669,
          -0.05397227078491013,
          -0.06480086664591904,
          -0.05470079027452969,
          -0.025444876864102302,
          -0.08049751297694598,
          -0.0805862339619023,
          -0.050995346388092055,
          -0.07716697891809035,
          -0.0577838339275377,
          -0.048321732078785144,
          -0.10321532411220377,
          -0.03607401595011886,
          -0.02970447378318554,
          -0.047383907226734814,
          -0.07984520100854668,
          -0.07194591989785287,
          -0.041939998929233016,
          -0.0721607039392783,
          -0.06624213882818966,
          -0.03236679167327177,
          -0.050990769152765236,
          -0.027722675479841613,
          -0.0609151815141255,
          -0.020881777272408954,
          -0.062163974808729185,
          -0.037891441070886364,
          -0.07882110021518182,
          0.017066282562997966,
          -0.03190538255170363,
          -0.06326600511795863,
          -0.04150206591313319,
          -0.06668716341758264,
          -0.04811829441437553,
          -0.04961985656703468,
          -0.04867548486331308,
          -0.029134643471708282
         ],
         "xaxis": "x",
         "y": [
          0.07809644958068099,
          0.10550640350965594,
          0.048368980964014326,
          0.06964326485981043,
          0.08902298129385222,
          0.08622088223199628,
          0.07929545356925577,
          0.09591682105103082,
          0.08011877821882175,
          0.11625408978909749,
          0.03339790543353341,
          0.05507797838019423,
          0.08703359613578512,
          0.09628748086795454,
          0.08789971721372337,
          0.11625408978909749,
          0.051612860281601725,
          0.05507797838019423,
          0.08948262785316136,
          0.1062560842242161,
          0.1425528540102947,
          0.059908671263220616,
          0.06584356386554549,
          0.1178186879388257,
          0.031246674672395582,
          0.09675647826406196,
          0.07505545027047868,
          0.11572496111148213,
          0.03900755188102,
          0.10767542479482188,
          0.05951630337648007,
          0.07173983630197132,
          0.09280915175810175,
          0.07232593337409735,
          0.035960197049878274,
          0.0419702516454008,
          0.13590900011450235,
          0.11974332423478502,
          0.10186777097036664,
          0.0486473778697084,
          0.06792981017643372,
          0.06688997560760163,
          0.0970120581970635,
          0.011658979245541507,
          0.10567353487425375,
          0.0590990152782472,
          0.13932276158968024,
          0.07908919556577863,
          0.022193136545557202,
          0.022193136545557202,
          0.1458477241744458,
          0.03360545763319589,
          0.05267609293081101,
          0.04281461197387126,
          0.08027462854465191,
          0.15154655497015748,
          0.11071865970610853,
          0.07604122774534912,
          0.07385577572497305,
          0.09717351863554032,
          0.06315413826559155,
          0.012746975720660565,
          0.09346870843001978,
          0.14923213772906765,
          0.11401058251258231,
          0.08119488665164767,
          0.07492546185342355,
          0.036504416638768376,
          0.044626584683235,
          0.04481769536069093,
          0.05427402709859117,
          0.11025447198531006,
          0.027100682197800187,
          0.08274474801369082,
          0.13466159663876326,
          0.04517523056496883,
          0.038366725271633664,
          0.07856305172348411,
          0.03616058469342385,
          0.047479651529495036,
          0.06925774462951859,
          0.06396595878291744,
          0.04577324563097826,
          0.028609395691385847,
          0.0676175591078563,
          0.10632454555243011,
          0.07078191178686426,
          0.06857578863161469,
          0.07780146733597425,
          0.07600861769939303,
          0.07622094672588932,
          0.04705340642478798,
          0.06737215002533198,
          0.07963160582888706,
          0.10534148786384243,
          0.10893424584291926,
          0.05293170460368877,
          0.06008543615382941,
          0.013765411327119762,
          0.07147188432676883
         ],
         "yaxis": "y"
        }
       ],
       "layout": {
        "legend": {
         "title": {
          "text": "topic"
         },
         "tracegroupgap": 0
        },
        "template": {
         "data": {
          "bar": [
           {
            "error_x": {
             "color": "#2a3f5f"
            },
            "error_y": {
             "color": "#2a3f5f"
            },
            "marker": {
             "line": {
              "color": "#E5ECF6",
              "width": 0.5
             }
            },
            "type": "bar"
           }
          ],
          "barpolar": [
           {
            "marker": {
             "line": {
              "color": "#E5ECF6",
              "width": 0.5
             }
            },
            "type": "barpolar"
           }
          ],
          "carpet": [
           {
            "aaxis": {
             "endlinecolor": "#2a3f5f",
             "gridcolor": "white",
             "linecolor": "white",
             "minorgridcolor": "white",
             "startlinecolor": "#2a3f5f"
            },
            "baxis": {
             "endlinecolor": "#2a3f5f",
             "gridcolor": "white",
             "linecolor": "white",
             "minorgridcolor": "white",
             "startlinecolor": "#2a3f5f"
            },
            "type": "carpet"
           }
          ],
          "choropleth": [
           {
            "colorbar": {
             "outlinewidth": 0,
             "ticks": ""
            },
            "type": "choropleth"
           }
          ],
          "contour": [
           {
            "colorbar": {
             "outlinewidth": 0,
             "ticks": ""
            },
            "colorscale": [
             [
              0,
              "#0d0887"
             ],
             [
              0.1111111111111111,
              "#46039f"
             ],
             [
              0.2222222222222222,
              "#7201a8"
             ],
             [
              0.3333333333333333,
              "#9c179e"
             ],
             [
              0.4444444444444444,
              "#bd3786"
             ],
             [
              0.5555555555555556,
              "#d8576b"
             ],
             [
              0.6666666666666666,
              "#ed7953"
             ],
             [
              0.7777777777777778,
              "#fb9f3a"
             ],
             [
              0.8888888888888888,
              "#fdca26"
             ],
             [
              1,
              "#f0f921"
             ]
            ],
            "type": "contour"
           }
          ],
          "contourcarpet": [
           {
            "colorbar": {
             "outlinewidth": 0,
             "ticks": ""
            },
            "type": "contourcarpet"
           }
          ],
          "heatmap": [
           {
            "colorbar": {
             "outlinewidth": 0,
             "ticks": ""
            },
            "colorscale": [
             [
              0,
              "#0d0887"
             ],
             [
              0.1111111111111111,
              "#46039f"
             ],
             [
              0.2222222222222222,
              "#7201a8"
             ],
             [
              0.3333333333333333,
              "#9c179e"
             ],
             [
              0.4444444444444444,
              "#bd3786"
             ],
             [
              0.5555555555555556,
              "#d8576b"
             ],
             [
              0.6666666666666666,
              "#ed7953"
             ],
             [
              0.7777777777777778,
              "#fb9f3a"
             ],
             [
              0.8888888888888888,
              "#fdca26"
             ],
             [
              1,
              "#f0f921"
             ]
            ],
            "type": "heatmap"
           }
          ],
          "heatmapgl": [
           {
            "colorbar": {
             "outlinewidth": 0,
             "ticks": ""
            },
            "colorscale": [
             [
              0,
              "#0d0887"
             ],
             [
              0.1111111111111111,
              "#46039f"
             ],
             [
              0.2222222222222222,
              "#7201a8"
             ],
             [
              0.3333333333333333,
              "#9c179e"
             ],
             [
              0.4444444444444444,
              "#bd3786"
             ],
             [
              0.5555555555555556,
              "#d8576b"
             ],
             [
              0.6666666666666666,
              "#ed7953"
             ],
             [
              0.7777777777777778,
              "#fb9f3a"
             ],
             [
              0.8888888888888888,
              "#fdca26"
             ],
             [
              1,
              "#f0f921"
             ]
            ],
            "type": "heatmapgl"
           }
          ],
          "histogram": [
           {
            "marker": {
             "colorbar": {
              "outlinewidth": 0,
              "ticks": ""
             }
            },
            "type": "histogram"
           }
          ],
          "histogram2d": [
           {
            "colorbar": {
             "outlinewidth": 0,
             "ticks": ""
            },
            "colorscale": [
             [
              0,
              "#0d0887"
             ],
             [
              0.1111111111111111,
              "#46039f"
             ],
             [
              0.2222222222222222,
              "#7201a8"
             ],
             [
              0.3333333333333333,
              "#9c179e"
             ],
             [
              0.4444444444444444,
              "#bd3786"
             ],
             [
              0.5555555555555556,
              "#d8576b"
             ],
             [
              0.6666666666666666,
              "#ed7953"
             ],
             [
              0.7777777777777778,
              "#fb9f3a"
             ],
             [
              0.8888888888888888,
              "#fdca26"
             ],
             [
              1,
              "#f0f921"
             ]
            ],
            "type": "histogram2d"
           }
          ],
          "histogram2dcontour": [
           {
            "colorbar": {
             "outlinewidth": 0,
             "ticks": ""
            },
            "colorscale": [
             [
              0,
              "#0d0887"
             ],
             [
              0.1111111111111111,
              "#46039f"
             ],
             [
              0.2222222222222222,
              "#7201a8"
             ],
             [
              0.3333333333333333,
              "#9c179e"
             ],
             [
              0.4444444444444444,
              "#bd3786"
             ],
             [
              0.5555555555555556,
              "#d8576b"
             ],
             [
              0.6666666666666666,
              "#ed7953"
             ],
             [
              0.7777777777777778,
              "#fb9f3a"
             ],
             [
              0.8888888888888888,
              "#fdca26"
             ],
             [
              1,
              "#f0f921"
             ]
            ],
            "type": "histogram2dcontour"
           }
          ],
          "mesh3d": [
           {
            "colorbar": {
             "outlinewidth": 0,
             "ticks": ""
            },
            "type": "mesh3d"
           }
          ],
          "parcoords": [
           {
            "line": {
             "colorbar": {
              "outlinewidth": 0,
              "ticks": ""
             }
            },
            "type": "parcoords"
           }
          ],
          "pie": [
           {
            "automargin": true,
            "type": "pie"
           }
          ],
          "scatter": [
           {
            "marker": {
             "colorbar": {
              "outlinewidth": 0,
              "ticks": ""
             }
            },
            "type": "scatter"
           }
          ],
          "scatter3d": [
           {
            "line": {
             "colorbar": {
              "outlinewidth": 0,
              "ticks": ""
             }
            },
            "marker": {
             "colorbar": {
              "outlinewidth": 0,
              "ticks": ""
             }
            },
            "type": "scatter3d"
           }
          ],
          "scattercarpet": [
           {
            "marker": {
             "colorbar": {
              "outlinewidth": 0,
              "ticks": ""
             }
            },
            "type": "scattercarpet"
           }
          ],
          "scattergeo": [
           {
            "marker": {
             "colorbar": {
              "outlinewidth": 0,
              "ticks": ""
             }
            },
            "type": "scattergeo"
           }
          ],
          "scattergl": [
           {
            "marker": {
             "colorbar": {
              "outlinewidth": 0,
              "ticks": ""
             }
            },
            "type": "scattergl"
           }
          ],
          "scattermapbox": [
           {
            "marker": {
             "colorbar": {
              "outlinewidth": 0,
              "ticks": ""
             }
            },
            "type": "scattermapbox"
           }
          ],
          "scatterpolar": [
           {
            "marker": {
             "colorbar": {
              "outlinewidth": 0,
              "ticks": ""
             }
            },
            "type": "scatterpolar"
           }
          ],
          "scatterpolargl": [
           {
            "marker": {
             "colorbar": {
              "outlinewidth": 0,
              "ticks": ""
             }
            },
            "type": "scatterpolargl"
           }
          ],
          "scatterternary": [
           {
            "marker": {
             "colorbar": {
              "outlinewidth": 0,
              "ticks": ""
             }
            },
            "type": "scatterternary"
           }
          ],
          "surface": [
           {
            "colorbar": {
             "outlinewidth": 0,
             "ticks": ""
            },
            "colorscale": [
             [
              0,
              "#0d0887"
             ],
             [
              0.1111111111111111,
              "#46039f"
             ],
             [
              0.2222222222222222,
              "#7201a8"
             ],
             [
              0.3333333333333333,
              "#9c179e"
             ],
             [
              0.4444444444444444,
              "#bd3786"
             ],
             [
              0.5555555555555556,
              "#d8576b"
             ],
             [
              0.6666666666666666,
              "#ed7953"
             ],
             [
              0.7777777777777778,
              "#fb9f3a"
             ],
             [
              0.8888888888888888,
              "#fdca26"
             ],
             [
              1,
              "#f0f921"
             ]
            ],
            "type": "surface"
           }
          ],
          "table": [
           {
            "cells": {
             "fill": {
              "color": "#EBF0F8"
             },
             "line": {
              "color": "white"
             }
            },
            "header": {
             "fill": {
              "color": "#C8D4E3"
             },
             "line": {
              "color": "white"
             }
            },
            "type": "table"
           }
          ]
         },
         "layout": {
          "annotationdefaults": {
           "arrowcolor": "#2a3f5f",
           "arrowhead": 0,
           "arrowwidth": 1
          },
          "coloraxis": {
           "colorbar": {
            "outlinewidth": 0,
            "ticks": ""
           }
          },
          "colorscale": {
           "diverging": [
            [
             0,
             "#8e0152"
            ],
            [
             0.1,
             "#c51b7d"
            ],
            [
             0.2,
             "#de77ae"
            ],
            [
             0.3,
             "#f1b6da"
            ],
            [
             0.4,
             "#fde0ef"
            ],
            [
             0.5,
             "#f7f7f7"
            ],
            [
             0.6,
             "#e6f5d0"
            ],
            [
             0.7,
             "#b8e186"
            ],
            [
             0.8,
             "#7fbc41"
            ],
            [
             0.9,
             "#4d9221"
            ],
            [
             1,
             "#276419"
            ]
           ],
           "sequential": [
            [
             0,
             "#0d0887"
            ],
            [
             0.1111111111111111,
             "#46039f"
            ],
            [
             0.2222222222222222,
             "#7201a8"
            ],
            [
             0.3333333333333333,
             "#9c179e"
            ],
            [
             0.4444444444444444,
             "#bd3786"
            ],
            [
             0.5555555555555556,
             "#d8576b"
            ],
            [
             0.6666666666666666,
             "#ed7953"
            ],
            [
             0.7777777777777778,
             "#fb9f3a"
            ],
            [
             0.8888888888888888,
             "#fdca26"
            ],
            [
             1,
             "#f0f921"
            ]
           ],
           "sequentialminus": [
            [
             0,
             "#0d0887"
            ],
            [
             0.1111111111111111,
             "#46039f"
            ],
            [
             0.2222222222222222,
             "#7201a8"
            ],
            [
             0.3333333333333333,
             "#9c179e"
            ],
            [
             0.4444444444444444,
             "#bd3786"
            ],
            [
             0.5555555555555556,
             "#d8576b"
            ],
            [
             0.6666666666666666,
             "#ed7953"
            ],
            [
             0.7777777777777778,
             "#fb9f3a"
            ],
            [
             0.8888888888888888,
             "#fdca26"
            ],
            [
             1,
             "#f0f921"
            ]
           ]
          },
          "colorway": [
           "#636efa",
           "#EF553B",
           "#00cc96",
           "#ab63fa",
           "#FFA15A",
           "#19d3f3",
           "#FF6692",
           "#B6E880",
           "#FF97FF",
           "#FECB52"
          ],
          "font": {
           "color": "#2a3f5f"
          },
          "geo": {
           "bgcolor": "white",
           "lakecolor": "white",
           "landcolor": "#E5ECF6",
           "showlakes": true,
           "showland": true,
           "subunitcolor": "white"
          },
          "hoverlabel": {
           "align": "left"
          },
          "hovermode": "closest",
          "mapbox": {
           "style": "light"
          },
          "paper_bgcolor": "white",
          "plot_bgcolor": "#E5ECF6",
          "polar": {
           "angularaxis": {
            "gridcolor": "white",
            "linecolor": "white",
            "ticks": ""
           },
           "bgcolor": "#E5ECF6",
           "radialaxis": {
            "gridcolor": "white",
            "linecolor": "white",
            "ticks": ""
           }
          },
          "scene": {
           "xaxis": {
            "backgroundcolor": "#E5ECF6",
            "gridcolor": "white",
            "gridwidth": 2,
            "linecolor": "white",
            "showbackground": true,
            "ticks": "",
            "zerolinecolor": "white"
           },
           "yaxis": {
            "backgroundcolor": "#E5ECF6",
            "gridcolor": "white",
            "gridwidth": 2,
            "linecolor": "white",
            "showbackground": true,
            "ticks": "",
            "zerolinecolor": "white"
           },
           "zaxis": {
            "backgroundcolor": "#E5ECF6",
            "gridcolor": "white",
            "gridwidth": 2,
            "linecolor": "white",
            "showbackground": true,
            "ticks": "",
            "zerolinecolor": "white"
           }
          },
          "shapedefaults": {
           "line": {
            "color": "#2a3f5f"
           }
          },
          "ternary": {
           "aaxis": {
            "gridcolor": "white",
            "linecolor": "white",
            "ticks": ""
           },
           "baxis": {
            "gridcolor": "white",
            "linecolor": "white",
            "ticks": ""
           },
           "bgcolor": "#E5ECF6",
           "caxis": {
            "gridcolor": "white",
            "linecolor": "white",
            "ticks": ""
           }
          },
          "title": {
           "x": 0.05
          },
          "xaxis": {
           "automargin": true,
           "gridcolor": "white",
           "linecolor": "white",
           "ticks": "",
           "title": {
            "standoff": 15
           },
           "zerolinecolor": "white",
           "zerolinewidth": 2
          },
          "yaxis": {
           "automargin": true,
           "gridcolor": "white",
           "linecolor": "white",
           "ticks": "",
           "title": {
            "standoff": 15
           },
           "zerolinecolor": "white",
           "zerolinewidth": 2
          }
         }
        },
        "title": {
         "text": "PCA BBC Sport news"
        },
        "xaxis": {
         "anchor": "y",
         "domain": [
          0,
          1
         ],
         "title": {
          "text": "x"
         }
        },
        "yaxis": {
         "anchor": "x",
         "domain": [
          0,
          1
         ],
         "title": {
          "text": "y"
         }
        }
       }
      },
      "text/html": [
       "<div>\n",
       "        \n",
       "        \n",
       "            <div id=\"83c38824-e4ec-4585-a653-5f05c6b209d0\" class=\"plotly-graph-div\" style=\"height:525px; width:100%;\"></div>\n",
       "            <script type=\"text/javascript\">\n",
       "                require([\"plotly\"], function(Plotly) {\n",
       "                    window.PLOTLYENV=window.PLOTLYENV || {};\n",
       "                    \n",
       "                if (document.getElementById(\"83c38824-e4ec-4585-a653-5f05c6b209d0\")) {\n",
       "                    Plotly.newPlot(\n",
       "                        '83c38824-e4ec-4585-a653-5f05c6b209d0',\n",
       "                        [{\"hovertemplate\": \"topic=athletics<br>x=%{x}<br>y=%{y}<extra></extra>\", \"legendgroup\": \"athletics\", \"marker\": {\"color\": \"#636efa\", \"symbol\": \"circle\"}, \"mode\": \"markers\", \"name\": \"athletics\", \"orientation\": \"v\", \"showlegend\": true, \"type\": \"scatter\", \"x\": [-0.09110180923322267, -0.00028192417558177234, -0.1175571259871432, -0.09128248458678502, -0.09123347052428832, -0.110387238041532, -0.028991824672936397, -0.04307167858326579, -0.1289229954795234, -0.1575376827229142, -0.09560024448649397, -0.10798842733914525, -0.0894478202602351, -0.08055368995486364, -0.0779907266983889, -0.1204252592259249, -0.14084990757005383, -0.10521627549712136, -0.11110753396584622, -0.10798842733914525, -0.09671848293580682, -0.10713436224450175, -0.14563297739689546, -0.07450748135044077, -0.1087560250778801, -0.08580783370770022, -0.09927100101281525, -0.11471031321736475, -0.10918116432081838, -0.0742789093152767, -0.049745731097511375, -0.13234231582669365, -0.15101275192665153, -0.13138070968421828, -0.08923210261382213, -0.05466452684198308, -0.10211309696325989, -0.10177890075962386, -0.057833761926693365, -0.07919411716462209, -0.06947265081250392, -0.0899966555881016, -0.06169192869764345, -0.05635526988455156, -0.09411337339451291, -0.08155772211787636, -0.11256439695518838, -0.1270007880756212, -0.05467354307951808, -0.12113760362588229, -0.1280548174420855, -0.09400179370831341, -0.096149872971208, -0.1434274659925042, -0.09690829786722874, -0.10464601311614864, -0.12819357633751782, -0.13839501509234065, -0.11364779039895893, -0.10014880750911091, -0.1121475533002955, -0.061815351631219664, -0.12160334420951362, -0.06481800277066058, -0.10989890797595271, -0.15986960858016058, -0.11221975815035047, -0.030326421601805546, -0.17666861989182997, -0.107139175978051, -0.10595475109956866, -0.05908296554193688, -0.10779664368714846, -0.10505362696358213, -0.10482465442655389, -0.06404717513862894, -0.014927509577367382, -0.08086274753918606, -0.13525333292571273, -0.13037309053905052, -0.14634042755495577, -0.12777713562232831, -0.06363017176924293, -0.09400179370831341, -0.07467934032241468, -0.0802600292795846, -0.08360400836973801, -0.05467354307951808, -0.13192950077401383, -0.09220712414261156, -0.06988920821440747, -0.07752522111833297, -0.02253333692596307, -0.08830808895422801, -0.15264902322178706, -0.11294015525351851, -0.044348466347678646, -0.10725416558849682, -0.13799530855473532, -0.06299640369689276, -0.05845846490521307], \"xaxis\": \"x\", \"y\": [0.10369181953891997, 0.024555518119895647, 0.1286029965545729, 0.1538346649446441, 0.13495164319866687, 0.1576651986997494, 0.07032766821863691, 0.034914415990250545, 0.17077378947481603, 0.24040145099487806, 0.11468224812295234, 0.10907373062325512, 0.11649480726725517, 0.048822813233938216, 0.13011535599841287, 0.3315662531904817, 0.33408841446848303, 0.17694480886905573, 0.1344586126724059, 0.10907373062325512, 0.15687484515311748, 0.13108261567471932, 0.3346206783683313, 0.11072776356218442, 0.15263580864951662, 0.179703596279823, 0.1587521845627859, 0.1362351638053019, 0.16128947281358677, 0.1037129718104169, 0.07711818890053515, 0.20834801255502644, 0.33691737481963885, 0.15831277556441267, 0.16890072394886566, 0.12873401897526635, 0.13618047430812708, 0.08883993306904743, 0.12249317718562708, 0.08315747721456078, 0.09683049524918498, 0.12480632179906227, 0.12037601319167966, 0.079150585812713, 0.15954034874085712, 0.1129435805174279, 0.25890618088155687, 0.3036134596563035, 0.13411100601421452, 0.3225459353433104, 0.3441368390853403, 0.15327283756091994, 0.11256492412279756, 0.31475850908620234, 0.13861928222632627, 0.13390472043909515, 0.15068411802880927, 0.16411346860935982, 0.08916136878313598, 0.13711266857022977, 0.15029654373620294, 0.08606461580551726, 0.15622797220317125, 0.10154423434964913, 0.1309478286935661, 0.2944822941872785, 0.15632050218928314, 0.08166244558653449, 0.2498479146098168, 0.08375230651513199, 0.11860242355733445, 0.0651933824656309, 0.08505862246043053, 0.12838024888077132, 0.1854960836591549, 0.10149080642257782, 0.050264766662664204, 0.11141721300976973, 0.32710453103918447, 0.2780655041312074, 0.3430479473483132, 0.338145803929779, 0.10753268176431635, 0.15327283756091994, 0.10385297502509423, 0.09767885215790129, 0.12002382179154605, 0.13411100601421452, 0.308449802791812, 0.09756741777985059, 0.1338458098843174, 0.10328781619553747, 0.013098954227931786, 0.11312993798668453, 0.22092498978047573, 0.12451135585619028, 0.056575800635889344, 0.1523358976741329, 0.17992670325646537, 0.017629772420081725, 0.11544638877787726], \"yaxis\": \"y\"}, {\"hovertemplate\": \"topic=cricket<br>x=%{x}<br>y=%{y}<extra></extra>\", \"legendgroup\": \"cricket\", \"marker\": {\"color\": \"#EF553B\", \"symbol\": \"circle\"}, \"mode\": \"markers\", \"name\": \"cricket\", \"orientation\": \"v\", \"showlegend\": true, \"type\": \"scatter\", \"x\": [0.25310436672316416, 0.21416866233991871, 0.2260378893558524, 0.21767461249765563, 0.11994252055521976, 0.1396740502758709, 0.12128525460045854, 0.10641318923483574, 0.14963493725536142, 0.10152962422680478, 0.12015338687011702, 0.05249536133895282, 0.3133465506303858, 0.06327482669880295, 0.20958081091525105, 0.032160582869466575, 0.061709923961756584, 0.14897948413134812, 0.22533056216193592, 0.1760009788130145, 0.061709923961756584, 0.18919695444824777, 0.13973917146784387, 0.1621332983066459, 0.07285260993480681, 0.21505416471171854, 0.23011681198178918, 0.211365631277734, 0.13991341142760688, 0.10528375682136236, 0.2521110324281284, 0.1621332983066459, 0.07285260993480681, 0.19235394132081873, 0.09288506638196492, 0.11199488291866046, 0.08193554426464626, 0.16455069669365013, 0.11121821879457286, 0.18276580495853942, 0.1294188175237397, 0.24589606398391128, 0.25085515426504246, 0.2143108813708221, 0.26267651100517475, 0.16651141873282418, 0.06150707792026813, 0.1978753506204652, 0.13302857500160845, 0.18828040779768687, 0.031206282252125097, 0.26573018232975154, 0.2662419368519745, 0.23018051204204976, 0.1280019380790689, 0.2237624749218067, 0.11959792427337143, 0.05641658535980671, 0.20590515432865947, 0.16739163042937366, 0.16726630502891326, 0.22951933103072225, 0.2980750795358264, 0.20878130427167463, 0.15744661193122958, 0.1286062047971048, 0.19281671554737598, 0.3712071421722314, 0.13081890894962356, 0.2572902692708359, 0.34187187228294463, 0.1552012399190225, 0.30507713165880984, 0.24917518020270052, 0.35144416505567694, 0.1960603695492927, 0.16883688921133855, 0.06187016479852937, 0.18973335734412916, 0.24695583294925305, 0.17376161173515103, 0.2753507733670834, 0.3269711721138792, 0.3274709593458794, 0.10490328958310008, 0.2663014691205538, 0.27968343262417766, 0.2829760642698462, 0.27705793215817787, 0.13880907607600337, -0.026189040460208174, 0.08991977735976525, 0.20747779481802672, 0.031197955170858632, 0.14540688884879918, 0.17718168319542466, 0.11104397585348476, 0.17807726175292887, 0.1002079720767975, 0.1686166324975182, 0.08764066663824677, 0.017477896660700407, 0.0897220055555789, 0.09382505521143643, 0.06745017822932838, 0.04722689968534547, 0.20539682457807223, 0.03917970355514615, 0.28622335256482334, 0.20416581246325027, 0.11369793316454939, -0.033511400522066054, 0.16632714068340385, 0.12959315636183175, 0.10136999266920957, 0.02841714381682065, 0.20885389963500456, 0.11366580103058442, 0.23120492627086617, 0.1037835889469195, 0.13501188331816052, 0.08436262201409159, 0.11035798966212078, 0.11971880405196744], \"xaxis\": \"x\", \"y\": [0.11920118922042915, 0.05708660207371195, 0.09682443350679672, 0.17746170415144585, 0.008891436515224732, 0.02879416181660422, 0.10688660763916531, 0.07316582445505933, 0.14640760826406157, 0.05950781550957081, 0.10380758832653827, -0.006105413751133376, 0.07148159312539712, 0.02847774739263902, 0.07554573257354914, 0.0019504984193920597, 0.06373486143942984, 0.0469356274118128, 0.06470432884282964, 0.03177983526124054, 0.06373486143942984, 0.17121465879253253, 0.10989022870909268, 0.1402071392773386, 0.11224433762456919, 0.17317287755484453, 0.09084913750123753, 0.13323398588975768, 0.10961577030159686, 0.03174354777521356, 0.07442440943053856, 0.1402071392773386, 0.11224433762456919, 0.17613315611600008, 0.07625981247737193, 0.04335774265942918, 0.0941269457690518, 0.0945752978235444, 0.06082899595205078, 0.04121196733558427, 0.12267174949258942, 0.03078772450682344, 0.05982743691011597, 0.16267152915466046, 0.1758262785668492, 0.09024793734510671, 0.07741633709879012, 0.03482649029865343, 0.06972555643418209, 0.05023233766412745, 0.008145992039785034, 0.11452999511805702, 0.11560772190178396, 0.1564166318629325, 0.11063963571777122, 0.1109396345222108, 0.10192397938726398, 0.08043638557278071, 0.11266126303330969, 0.16249288742885837, 0.1619903172147696, 0.16586421202645954, 0.01717752116750113, 0.054506982267163044, 0.15530871708291413, 0.0770758199045767, 0.02682441958200497, 0.0688211175511899, 0.028444082081242893, 0.20647053464735227, 0.016367433675522302, 0.09804769679312568, 0.07090310480610566, 0.2031026287988375, 0.06666940728412725, -0.000317126154318239, 0.13910822370915307, 0.059547414545367015, 0.03870251865377348, 0.060064461384442734, 0.1291180113041583, 0.17881959419774995, 0.06334123507805621, 0.06599074457498, 0.09622470894974793, 0.2143179527233472, 0.204437102423602, 0.20602967161783434, 0.018757997162770147, 0.11359127076481321, 0.06435555093072484, 0.05039307435694156, 0.060033122910278014, 0.06985655495495358, 0.015736189736577956, 0.028569973264739087, -0.019315167146884037, 0.12793907512784627, 0.05392263960003619, 0.13658315843932667, 0.07614039960610199, 0.06464790091981697, 0.06607821469264995, 0.12295200872364237, 0.06437537539382353, 0.056997780761994174, 0.031260845954785337, 0.011606731023479212, 0.022213103519070927, 0.12193595081145046, 0.1074766287737783, 0.0627756409803716, 0.11695987340133916, 0.12301643363393115, 0.07398183529392748, -0.004366743260360921, 0.027344045860206202, 0.04948784625216254, 0.021488379868549103, 0.07425071312815155, 0.10291749217986622, -0.0022555433608523285, -0.04208439949578518, 0.08184762082419383], \"yaxis\": \"y\"}, {\"hovertemplate\": \"topic=football<br>x=%{x}<br>y=%{y}<extra></extra>\", \"legendgroup\": \"football\", \"marker\": {\"color\": \"#00cc96\", \"symbol\": \"circle\"}, \"mode\": \"markers\", \"name\": \"football\", \"orientation\": \"v\", \"showlegend\": true, \"type\": \"scatter\", \"x\": [-0.04708603605284194, -0.1138393138373332, -0.08350689139228969, -0.09712665362995, 0.07296125380321075, -0.03378071277121658, -0.07634076072860967, -0.19881483941262357, -0.09990544986604848, -0.1265630500467176, -0.006025859959443429, -0.016379747537397, -0.011262107896500615, -0.001958581693476396, -0.005033926509452644, -0.054836260518200224, -0.12296157468636953, -0.17166644403417752, -0.004678372035757481, -0.04140239471011101, -0.038190199327238536, -0.04728393603711544, -0.0519082827993807, -0.1386606595649725, -0.023880816023772084, -0.01112903166375653, -0.17178863283971427, -0.10770633842227491, 0.004811059450155003, -0.06771391275335166, -0.1372417946975413, -0.06456782957281512, -0.017216786646790744, 0.01650017519809084, 0.006576567699170099, -0.060018960054507284, -0.04321213011787384, 0.003098469903267917, 0.015062649419327436, 0.02147858670227898, -0.03142694822499155, -0.060010343404689914, -0.07746628011077354, -0.06609995573393808, -0.06357326459976127, -0.10961022664107127, -0.14881909450937772, -0.04890814205268949, -0.05653528611517996, -0.08689724853386414, -0.024176897008754854, -0.02701590247375226, -0.04025160129249879, -0.05411587023029529, -0.04762240971264921, -0.04744867061780164, -0.05521371379973324, -0.10676467076901923, -0.06083839679606808, -0.1270724474125251, -0.08870986028047298, -0.07417576282023226, -0.11302780264003096, -0.09684958193889978, -0.1844443212036445, -0.05502702961226178, -0.08296634551367044, -0.050213967541999534, -0.07067212834499746, -0.05953659588608423, -0.087792987881496, -0.06605893135537455, -0.10979013429214683, -0.13237258067915325, -0.20188713843546252, -0.0861507363498241, -0.03337616971707192, -0.07543847704273339, -0.008716081633376112, -0.1270056033717355, -0.07655947984536451, -0.07540371712157572, -0.18279907248598895, -0.0867874069902042, -0.05201016830290478, -0.07317387051923765, -0.13009271804751107, -0.13009271804751107, -0.14906955367733762, -0.11823755237312972, -0.03613406932167036, -0.08007941599050741, -0.07827392010974256, -0.10673731158685246, -0.07602150345989316, 0.02194343099716208, -0.038621123698238974, -0.09049173698869335, -0.10636460083879506, -0.05029237423044988, -0.07619074961969852, -0.11819851481962865, -0.09965179568772851, -0.11970918050625029, -0.1406148376471113, -0.06870628123319286, -0.12763479630789445, -0.05134433538969038, -0.0708881719890322, -0.049310013278598866, -0.060026703704917146, -0.11705259864622805, -0.04547990862569482, -0.054604034828418364, -0.16260592844787905, -0.040343596237608595, -0.11240065564177061, -0.0318665602743662, -0.02555977216935006, -8.703009961426674e-05, -0.014106974390064817, -0.032479270589222974, -0.021760005938599312, -0.17462662913812396, 0.01712887683694263, -0.06181036635174085, -0.051531302907824844, -0.046248163413028225, -0.09498258855079361, -0.020951054721528476, 0.005063765749321507, -0.03910141080806638, -0.11305396129299093, -0.11359990460378172, -0.060476137428551964, -0.05481463506696407, -0.13200208576423003, -0.032711363892468884, -0.05778053022419835, -0.06964880619557609, -0.13104770041368063, -0.1058409418349501, -0.11643090312216625, -0.09558184955189794, -0.1311135857480227, -0.018054612613922983, -0.06380892449843295, -0.10092489985242496, -0.19386790823786879, -0.06336087448164178, -0.05293278888147889, -0.11569337271060605, -0.05115174703988116, -0.09767515143422699, -0.07222518932662464, -0.05707384339193032, -0.07903076318334558, -0.14648180606666017, -0.04458855861242507, -0.1139813664281907, -0.14648180606666017, -0.06718177542079515, -0.0684210619408657, -0.0684210619408657, -0.09314311502011695, -0.0694836140437478, -0.06022166288556732, -0.05186815902675257, -0.03610613227251927, -0.060362602588213715, -0.08736327811144902, -0.13380201265708988, -0.07240397088591677, -0.04053011211050673, -0.040184722822761164, -0.06042251711651349, -0.07179879260203202, -0.15697390685819207, -0.0747352009793749, -0.17022130914471068, -0.09034582248826246, -0.05525436519629191, -0.040164144867880947, -0.06148469635556757, -0.08171170619442418, -0.12797244784629203, -0.0866609242749356, -0.09588146740414386, -0.07968414255475019, -0.16084082627432114, -0.15652849803626417, -0.11901615962994343, -0.07939309399236891, -0.07294735733565225, -0.05926419076324822, 0.00515550162116323, -0.03695953804007972, -0.10063301512962725, -0.07648838037936545, -0.06772328376712547, -0.053635501355218614, -0.19573435348537066, -0.055086822846148874, -0.06534331747214832, -0.07674730768294535, -0.042719621231603215, -0.2000883497874827, -0.051930313788174046, -0.1445516817796858, -0.08350689139228969, -0.06645406562185638, -0.0776775475346194, -0.035344336470314534, -0.04736796259020744, -0.12156629800084014, -0.06998843347732304, -0.03034074482357809, -0.059909866990302714, -0.022871268984286253, 0.0025398247967200254, -0.1337446192007463, -0.005715165511166126, -0.10053325504554704, -0.03251552391142061, -0.042274443813620645, -0.09701997543439644, -0.03227374085945705, -0.0822285781458538, -0.18119308715670823, -0.12562076525500618, -0.060249375501569134, -0.08697216564242549, -0.09192803374499141, -0.06038418474094652, -0.04891974046272246, -0.02453938232883939, -0.08931452375569968, -0.06673344756546865, -0.1853643939924803, -0.1138809172127211, -0.12245374239260137, -0.06406942242319728, -0.17216672024825774, -0.08071409664972905, -0.129839942684825, -0.07551595530346482, -0.025401750050327885, -0.04544337520633832, -0.058095138895198024, -0.14890100371023302, -0.07925899534109357, -0.12661247304755155, -0.0787599841446287, -0.04092005072445681, -0.0399676035148281, -0.054924346307182695, -0.10159022496597668, -0.009434885238058681, -0.051650577715570134, -0.0829111191201791, -0.021656116349413154, -0.0986162815360702, -0.06494281369594143, -0.03567663034074683, -0.0027676109000173885], \"xaxis\": \"x\", \"y\": [-0.08550165161774999, -0.11547953771895048, -0.06974294837232334, -0.0675865315900932, -0.0619191648492206, -0.008987758860899574, -0.09488307201330763, -0.2180555915113525, -0.12050689397721152, -0.16705258282258084, -0.056410116796008256, -0.04602568406885669, -0.043111904727836235, -0.027199723912189687, -0.018151230561450706, -0.058496657523927256, -0.1997761947751842, -0.17013911651676114, -0.045088275926139995, -0.043311563796614945, -0.10367634709029085, -0.03328405413871569, -0.015266683776852065, -0.1266783906973155, -0.1285858738013466, -0.07933145433347125, -0.16986472794075894, -0.12141954258940606, -0.07059506659947089, -0.03265723768796112, -0.14257770972202277, -0.0783722970890887, -0.014265900550216922, -0.042693922200271184, -0.04892542776332189, -0.008910751736063824, 0.014950937322501481, -0.020208122453931797, -0.11225837226737123, -0.009491729570366382, -0.020181067070205276, 0.036818706882580834, -0.07441897445516439, -0.05782002704445808, -0.08316858736108072, -0.10165747856121846, -0.17325038250516608, -0.1422352782245108, -0.03381188212490387, -0.08135158173082056, -0.05162220573242989, -0.018711992738058642, -0.031617539408149355, -0.0073226785283893115, 0.006396768478784698, -0.0858031446173753, -0.11041508903848397, -0.11043839222057263, -0.013112333165689497, -0.08849533409967256, -0.11314548389357729, -0.07732552551554532, -0.11381411037047481, -0.06924322205675787, -0.24198381491314616, -0.11244819222909383, -0.05721171435537178, -0.058175747284305385, -0.07299172484803991, -0.028148862469280354, -0.07375870545238898, -0.03499295295114477, -0.09083755888508795, -0.08557404818178846, -0.1832140665886092, -0.005811318733052872, -0.004992709100240516, -0.06827624097598463, 0.013806369860770287, -0.08196238435374899, -0.018764683062238385, -0.07463367203389547, -0.16535148082785595, -0.06487354212993371, -0.06227300997628548, -0.1039864642017043, -0.1419382341378898, -0.1419382341378898, -0.15636430477416366, -0.12218103784034871, -0.03882885286980711, -0.06114349392171669, -0.04734064218302841, -0.08016316898350087, -0.059683413203846986, 0.038350367211352716, -0.005690752116361556, -0.09522854177749636, -0.05554691105021477, -0.0131606640871225, -0.06920602684807897, -0.10469328122408715, -0.06997121012314496, -0.0970699934590247, -0.0013464827911587093, -0.08907156732139627, -0.05076789064057822, -0.020746437726190968, -0.016844252494934344, 0.00467168043045266, -0.0667330697863314, -0.08640728961325693, -0.025458923291471914, -0.07601406201106871, -0.17300086758818972, -0.0054573411737654405, -0.06905243691208018, -0.046864677784332946, -0.0077482625930579314, 0.010103587611624474, 0.0017631510423706928, -0.07622310241683886, -0.08153437205115684, -0.20056482949661708, -0.006572477296797644, -0.029840514224303463, -0.041702098312302184, -0.06744897217416759, -0.13556158906679583, 0.011173622623291399, 0.00029076364471218043, -0.0555232389891384, -0.12266535256038241, -0.14449293524363152, -0.06897842236115136, -0.026043305173087658, -0.14944813233732035, -0.0556061642989423, -0.033675730084355704, -0.003933491686942851, -0.14988956894700295, -0.15924819207445592, -0.09420203641871175, -0.11972402272812437, -0.13202856875925875, -0.053415781685740786, 0.04305705053411633, -0.08894546198642367, -0.19751995808508604, -0.050330401879456955, -0.037043803183277824, -0.13718931226769582, -0.06673398443348609, -0.11103870763219374, -0.035082061604224474, -0.0643508135742961, -0.03961417795083577, -0.1670893587809801, 0.0017713188405177702, -0.09152056939639899, -0.1670893587809801, -0.05476549270933648, -0.014153344934895864, -0.014153344934895864, -0.09680972696316362, -0.06482732308597851, -0.03256096816549607, -0.0010887279506710933, -0.05199131338400541, -0.03328806546731544, -0.02877008684135833, -0.10565434961980796, -0.09211518940386952, -0.08700873967005605, -0.06593364310944538, -0.07156572420175945, 0.018156230192806426, -0.09381886205126967, -0.04747189893629026, -0.19720412115433894, -0.06660512868789822, -0.030631504088501, -0.020333048032955478, -0.09055056742111463, -0.06358725023265356, -0.13755183421888376, -0.12923400151727066, -0.11127185588133252, -0.11895644481543055, -0.13220610417993614, -0.19437890715107592, -0.1691319181822206, -0.08995150535762796, -0.09241629653318979, -0.03366486151467507, -0.03757347203239803, 0.005491391432527224, -0.149471412582558, -0.17766432974798368, -0.14966964412469533, -0.06195540902616105, -0.24834359593660785, -0.07309644403506224, -0.06575619044964796, -0.11735874752525194, -0.027084556174881466, -0.21819730965882186, -0.043283351509248856, -0.1725848573689638, -0.06974294837232334, -0.12608476297735238, -0.12804750231565903, -0.02957155877739753, -0.05594434962573161, -0.13731996524504372, -0.09142613948685122, -0.010663810696155395, -0.061822474148376216, -0.010216681818551265, 0.008962520418309533, -0.1863592545715117, -0.05293311680251329, -0.06316810960984322, -0.0004121773180047017, -0.008276407664619964, -0.1188570183048923, -0.012964921225540202, -0.05788328967351661, -0.1887266347885353, -0.10198956179858383, 0.051897129845306096, -0.05725286626459561, -0.06451182295424068, -0.038525800410986265, -0.014670424721192513, -0.08421983102506095, -0.09267814501240176, -0.08476510937035411, -0.16936910013045853, -0.13196753322761862, -0.10827121168654234, -0.024279269925504717, -0.2040626378856459, -0.03496374015209877, -0.11530924311517309, -0.06477647400659192, -0.07021661991962716, 0.02348401178335554, -0.09681519792564587, -0.15293810203110014, -0.09434174848138333, -0.12210081032605842, -0.09542571446023554, -0.05340188255430337, -0.010836419933409482, 0.02313107647088838, -0.006575146479122251, 0.03088880196731622, -0.04378790445552737, -0.1113035785339675, -0.023066018946959616, -0.10832920793956245, -0.028363054042515518, -0.022234282862000798, -0.021199736100225814], \"yaxis\": \"y\"}, {\"hovertemplate\": \"topic=rugby<br>x=%{x}<br>y=%{y}<extra></extra>\", \"legendgroup\": \"rugby\", \"marker\": {\"color\": \"#ab63fa\", \"symbol\": \"circle\"}, \"mode\": \"markers\", \"name\": \"rugby\", \"orientation\": \"v\", \"showlegend\": true, \"type\": \"scatter\", \"x\": [0.13176268417373785, 0.191054949140244, 0.1373440553674211, 0.0569820016110139, 0.0668194985975868, 0.15175692635381083, 0.1353649171182764, 0.12865432266328344, 0.10039142496724249, 0.03999620671471677, 0.009798270780293323, 0.06041008259458701, 0.08259635099742249, 0.030196302131226066, 0.03811607897194749, 0.15782813833589182, 0.1964860308858413, 0.0853445073565078, 0.15935908249740502, 0.15246497570114342, 0.1622791254514354, 0.09153813212921062, 0.062182660502603716, 0.09347812359695842, 0.14893075794820207, 0.0275943039318274, 0.13525429264822458, 0.1872037428474852, 0.2229320735245791, 0.10953905366589124, 0.15650906604245296, 0.21088451476498574, 0.06189477934800317, -0.008970800616754244, 0.040551148000300775, -0.007437835630173408, 0.21149801989548214, 0.034748746891928646, 0.18248202012962414, 0.2789466838975183, 0.025194724685245876, 0.03644582164215505, 0.13888639840333192, 0.0443232553151009, 0.12269352363752715, 0.1213728364023437, 0.13730071843766875, 0.23959732815895327, 0.1038848329531904, 0.13250930914709516, 0.18288039413745202, 0.09521093958425296, 0.1266282447731741, 0.11121113862549571, 0.13414340432449193, 0.268703585924685, 0.12774052510948722, 0.06990770837443361, 0.20717849848484118, 0.10938023263713252, 0.1038848329531904, 0.14106107330892523, 0.06399252703244937, 0.10093613952256483, 0.10402317842747055, 0.15185996985451408, 0.04715799770347382, 0.2115617722816688, 0.10307262009934229, 0.04495984683792199, 0.03889541956539639, 0.11915462939776048, 0.14609355695590823, 0.06698174534313313, 0.08631875850235989, 0.058734232454703696, 0.05724790237693909, -0.02497793957400347, 0.053221176370117536, 0.004139486082240533, 0.09032146362962032, -0.0020988323545554862, 0.0250341779025375, 0.05767258749363494, 0.1730226116606706, 0.09531393732798081, 0.11905176329991791, 0.17182335486119402, -0.01663031361348627, 0.20453760833695356, 0.021146995660699733, 0.11880449824615442, 0.05127637995456446, 0.17664200068992184, 0.10938874291657272, 0.05789178135282539, 0.0662429318584763, 0.09401229881926183, 0.06379654976970633, 0.16254430966726754, 0.015185726805402528, 0.13217870089382963, 0.044568247251416435, 0.13184564860471726, 0.12976653617606396, 0.11242575800379388, 0.035460344213560056, 0.04510826356847366, 0.08214774920500427, 0.022438143835638545, 0.002096841986173599, -0.055266174676039156, -0.05408465886907594, 0.028844433568441342, 0.02707283141972424, -0.04084026954855841, 0.18430735884004704, 0.06365609346913918, 0.05204297516928689, -0.0024919492091148854, 0.12998678400849903, 0.13860144713780354, 0.09660300954689024, -0.031283247153096674, -0.022037969154276495, -0.04809728227675557, 0.1103158206258036, 0.11754196769221588, 0.1437105492300572, 0.18060876618917715, 0.15151830100519073, 0.2629688978676746, 0.15181748582542343, 0.15200002279464392, 0.09521093958425296, 0.11916504378857332, 0.11909049986626287, 0.036177031199984076, 0.12701546732832933, 0.06966278431937674, 0.22533882893985419, 0.14064686903231297, 0.22362272164904123, 0.12452033446124268, 0.13734389695027674, 0.08012966604364075, 0.04609346486240876], \"xaxis\": \"x\", \"y\": [-0.18078400271479295, -0.20473403617993294, -0.16556825431528593, -0.04930251731275859, -0.10353728791193505, -0.2016153266876899, -0.17723935218295944, -0.14548308417208555, -0.12949243082071213, -0.04248762166925718, -0.05584819740210284, -0.03374120005626366, -0.10266455391640689, -0.08559377587949636, -0.03996647741934982, -0.1597407453299562, -0.16103830594203614, -0.10741371538540699, -0.11361800187197585, -0.1580241487647318, -0.14659874357293923, -0.0996062916430271, -0.048307732280061584, -0.08044396306302504, -0.1583304175899921, -0.09836404774923214, -0.09723280740968593, -0.1255742575490419, -0.11763495572970388, -0.1478129475821096, -0.1112430406686946, -0.1609676163118659, -0.1249350084180219, -0.012447122628018743, -0.06473402364353692, 0.019251003273101277, -0.12402756983845098, -0.05415346277130857, -0.08253923260012751, -0.21980951956468528, 0.006786963082616219, 0.008043918352097798, -0.17840107905124522, -0.11686936187844213, -0.07771199645015821, -0.07665641850942138, -0.14964296143516753, -0.13975031523251874, -0.08429082262427313, -0.08964786191342972, -0.15497879004539183, -0.08962638272266146, -0.15022812219291776, -0.0917157254333729, -0.16719828531514513, -0.09766010544769453, -0.12904470855561165, -0.06771179574979379, -0.18675380668468478, -0.10800431683925611, -0.08429082262427313, -0.11671814906489206, -0.10157156347318437, -0.11742088506499399, -0.12690743551180558, -0.15508282393002523, -0.02467721667618868, -0.15990939439352755, -0.11446586771049166, -0.018220144478276752, -0.0874571210409824, -0.09940675378458261, -0.14460965184906877, -0.11371815641500323, -0.14178071021557706, -0.09300640657771288, -0.126377846628566, -0.026352359485655622, -0.04211436812449265, -0.02589918480393262, -0.10706733804999934, -0.05013835674405706, -0.02730521027960781, -0.057005086621024686, -0.09354321696062294, -0.017801842621936768, -0.08242675903141707, -0.06801383957689267, -0.024802274249404954, -0.15924218886855138, -0.008017310084783812, -0.07636826162701478, -0.0976376073235262, -0.09751128750852128, -0.05570467745525534, -0.021528831353942665, -0.0679230098275061, -0.03845725408973019, -0.018881612054092774, -0.1407483560965001, -0.016207116434280324, -0.09155804202414185, 0.00852045071909763, -0.09119677978219286, -0.08026240741050332, -0.06280866429050128, -0.08627457913410443, -0.094424648636875, -0.0038484161766512456, -0.08106186552275728, -0.07232129535702538, -0.03030104704205945, -0.03133463440370865, -0.025647120462461967, -0.01952197736452529, -0.05753917528079793, -0.18815125096392296, -0.012983704433393724, -0.0832089279727848, -0.06477691188527815, -0.1164105543285613, -0.12163507102293009, -0.10937770543366321, -0.05485890431465983, -0.07832413706835602, -0.04046667343615625, -0.04770595255926501, -0.11158928112450134, 0.004912123396543658, -0.1574991852718624, -0.18894053126786553, -0.21746127667019693, -0.20137776980724098, -0.07624486527505907, -0.08962638272266146, -0.14249786376832604, -0.04853727528548131, -0.061081607673158414, -0.13341664773986606, -0.10596917207643278, -0.15956716392174486, -0.1618916886454858, -0.11753738391450126, -0.08307838520809907, -0.07412319216558241, -0.0433936547153588, -0.04329722889521876], \"yaxis\": \"y\"}, {\"hovertemplate\": \"topic=tennis<br>x=%{x}<br>y=%{y}<extra></extra>\", \"legendgroup\": \"tennis\", \"marker\": {\"color\": \"#FFA15A\", \"symbol\": \"circle\"}, \"mode\": \"markers\", \"name\": \"tennis\", \"orientation\": \"v\", \"showlegend\": true, \"type\": \"scatter\", \"x\": [-0.04257674813233131, -0.05501524650733608, -0.055681098014824223, -0.06912164959133779, -0.03781937396320412, -0.054432753171910195, -0.05979175224127734, -0.0487596433538127, -0.05573675646858118, -0.05169219177683752, -0.027451307588376495, -0.07370551558977483, -0.03793684873023598, -0.04007704489373748, -0.046885291469092955, -0.05169219177683752, -0.06405364403191524, -0.07370551558977483, -0.04079241243914978, -0.04674610104179381, -0.06804374007299735, -0.060514403736121755, -0.05593739020283928, -0.07361318657935331, -0.044969559138682454, -0.041991888929864864, -0.022628148480418317, -0.06060622784035814, -0.05781779044816515, -0.06112726881107324, -0.041437915152756674, -0.05636207077753338, -0.06242128531977492, -0.04831288124740935, -0.033471860786166464, -0.0259587872050823, -0.06915295705437999, -0.0759635217063356, -0.05148286736743068, -0.055893752459997524, -0.0514400540052322, -0.04336552566261993, -0.06598076243513777, -0.06649953775915121, -0.04827375168995404, -0.07010443539277118, -0.05501392964128981, -0.056542250700994424, -0.07538183515578077, -0.07538183515578077, -0.05862790841374999, -0.056009041276233414, -0.0482706014809728, -0.03193969656473126, -0.0495024208930549, -0.08178489409766808, -0.06964082320093493, -0.04138900312129841, -0.040312215959039555, -0.0620851049650245, -0.06265463873773787, -0.038671008636609175, -0.046150017056781775, -0.10011501355813669, -0.05397227078491013, -0.06480086664591904, -0.05470079027452969, -0.025444876864102302, -0.08049751297694598, -0.0805862339619023, -0.050995346388092055, -0.07716697891809035, -0.0577838339275377, -0.048321732078785144, -0.10321532411220377, -0.03607401595011886, -0.02970447378318554, -0.047383907226734814, -0.07984520100854668, -0.07194591989785287, -0.041939998929233016, -0.0721607039392783, -0.06624213882818966, -0.03236679167327177, -0.050990769152765236, -0.027722675479841613, -0.0609151815141255, -0.020881777272408954, -0.062163974808729185, -0.037891441070886364, -0.07882110021518182, 0.017066282562997966, -0.03190538255170363, -0.06326600511795863, -0.04150206591313319, -0.06668716341758264, -0.04811829441437553, -0.04961985656703468, -0.04867548486331308, -0.029134643471708282], \"xaxis\": \"x\", \"y\": [0.07809644958068099, 0.10550640350965594, 0.048368980964014326, 0.06964326485981043, 0.08902298129385222, 0.08622088223199628, 0.07929545356925577, 0.09591682105103082, 0.08011877821882175, 0.11625408978909749, 0.03339790543353341, 0.05507797838019423, 0.08703359613578512, 0.09628748086795454, 0.08789971721372337, 0.11625408978909749, 0.051612860281601725, 0.05507797838019423, 0.08948262785316136, 0.1062560842242161, 0.1425528540102947, 0.059908671263220616, 0.06584356386554549, 0.1178186879388257, 0.031246674672395582, 0.09675647826406196, 0.07505545027047868, 0.11572496111148213, 0.03900755188102, 0.10767542479482188, 0.05951630337648007, 0.07173983630197132, 0.09280915175810175, 0.07232593337409735, 0.035960197049878274, 0.0419702516454008, 0.13590900011450235, 0.11974332423478502, 0.10186777097036664, 0.0486473778697084, 0.06792981017643372, 0.06688997560760163, 0.0970120581970635, 0.011658979245541507, 0.10567353487425375, 0.0590990152782472, 0.13932276158968024, 0.07908919556577863, 0.022193136545557202, 0.022193136545557202, 0.1458477241744458, 0.03360545763319589, 0.05267609293081101, 0.04281461197387126, 0.08027462854465191, 0.15154655497015748, 0.11071865970610853, 0.07604122774534912, 0.07385577572497305, 0.09717351863554032, 0.06315413826559155, 0.012746975720660565, 0.09346870843001978, 0.14923213772906765, 0.11401058251258231, 0.08119488665164767, 0.07492546185342355, 0.036504416638768376, 0.044626584683235, 0.04481769536069093, 0.05427402709859117, 0.11025447198531006, 0.027100682197800187, 0.08274474801369082, 0.13466159663876326, 0.04517523056496883, 0.038366725271633664, 0.07856305172348411, 0.03616058469342385, 0.047479651529495036, 0.06925774462951859, 0.06396595878291744, 0.04577324563097826, 0.028609395691385847, 0.0676175591078563, 0.10632454555243011, 0.07078191178686426, 0.06857578863161469, 0.07780146733597425, 0.07600861769939303, 0.07622094672588932, 0.04705340642478798, 0.06737215002533198, 0.07963160582888706, 0.10534148786384243, 0.10893424584291926, 0.05293170460368877, 0.06008543615382941, 0.013765411327119762, 0.07147188432676883], \"yaxis\": \"y\"}],\n",
       "                        {\"legend\": {\"title\": {\"text\": \"topic\"}, \"tracegroupgap\": 0}, \"template\": {\"data\": {\"bar\": [{\"error_x\": {\"color\": \"#2a3f5f\"}, \"error_y\": {\"color\": \"#2a3f5f\"}, \"marker\": {\"line\": {\"color\": \"#E5ECF6\", \"width\": 0.5}}, \"type\": \"bar\"}], \"barpolar\": [{\"marker\": {\"line\": {\"color\": \"#E5ECF6\", \"width\": 0.5}}, \"type\": \"barpolar\"}], \"carpet\": [{\"aaxis\": {\"endlinecolor\": \"#2a3f5f\", \"gridcolor\": \"white\", \"linecolor\": \"white\", \"minorgridcolor\": \"white\", \"startlinecolor\": \"#2a3f5f\"}, \"baxis\": {\"endlinecolor\": \"#2a3f5f\", \"gridcolor\": \"white\", \"linecolor\": \"white\", \"minorgridcolor\": \"white\", \"startlinecolor\": \"#2a3f5f\"}, \"type\": \"carpet\"}], \"choropleth\": [{\"colorbar\": {\"outlinewidth\": 0, \"ticks\": \"\"}, \"type\": \"choropleth\"}], \"contour\": [{\"colorbar\": {\"outlinewidth\": 0, \"ticks\": \"\"}, \"colorscale\": [[0.0, \"#0d0887\"], [0.1111111111111111, \"#46039f\"], [0.2222222222222222, \"#7201a8\"], [0.3333333333333333, \"#9c179e\"], [0.4444444444444444, \"#bd3786\"], [0.5555555555555556, \"#d8576b\"], [0.6666666666666666, \"#ed7953\"], [0.7777777777777778, \"#fb9f3a\"], [0.8888888888888888, \"#fdca26\"], [1.0, \"#f0f921\"]], \"type\": \"contour\"}], \"contourcarpet\": [{\"colorbar\": {\"outlinewidth\": 0, \"ticks\": \"\"}, \"type\": \"contourcarpet\"}], \"heatmap\": [{\"colorbar\": {\"outlinewidth\": 0, \"ticks\": \"\"}, \"colorscale\": [[0.0, \"#0d0887\"], [0.1111111111111111, \"#46039f\"], [0.2222222222222222, \"#7201a8\"], [0.3333333333333333, \"#9c179e\"], [0.4444444444444444, \"#bd3786\"], [0.5555555555555556, \"#d8576b\"], [0.6666666666666666, \"#ed7953\"], [0.7777777777777778, \"#fb9f3a\"], [0.8888888888888888, \"#fdca26\"], [1.0, \"#f0f921\"]], \"type\": \"heatmap\"}], \"heatmapgl\": [{\"colorbar\": {\"outlinewidth\": 0, \"ticks\": \"\"}, \"colorscale\": [[0.0, \"#0d0887\"], [0.1111111111111111, \"#46039f\"], [0.2222222222222222, \"#7201a8\"], [0.3333333333333333, \"#9c179e\"], [0.4444444444444444, \"#bd3786\"], [0.5555555555555556, \"#d8576b\"], [0.6666666666666666, \"#ed7953\"], [0.7777777777777778, \"#fb9f3a\"], [0.8888888888888888, \"#fdca26\"], [1.0, \"#f0f921\"]], \"type\": \"heatmapgl\"}], \"histogram\": [{\"marker\": {\"colorbar\": {\"outlinewidth\": 0, \"ticks\": \"\"}}, \"type\": \"histogram\"}], \"histogram2d\": [{\"colorbar\": {\"outlinewidth\": 0, \"ticks\": \"\"}, \"colorscale\": [[0.0, \"#0d0887\"], [0.1111111111111111, \"#46039f\"], [0.2222222222222222, \"#7201a8\"], [0.3333333333333333, \"#9c179e\"], [0.4444444444444444, \"#bd3786\"], [0.5555555555555556, \"#d8576b\"], [0.6666666666666666, \"#ed7953\"], [0.7777777777777778, \"#fb9f3a\"], [0.8888888888888888, \"#fdca26\"], [1.0, \"#f0f921\"]], \"type\": \"histogram2d\"}], \"histogram2dcontour\": [{\"colorbar\": {\"outlinewidth\": 0, \"ticks\": \"\"}, \"colorscale\": [[0.0, \"#0d0887\"], [0.1111111111111111, \"#46039f\"], [0.2222222222222222, \"#7201a8\"], [0.3333333333333333, \"#9c179e\"], [0.4444444444444444, \"#bd3786\"], [0.5555555555555556, \"#d8576b\"], [0.6666666666666666, \"#ed7953\"], [0.7777777777777778, \"#fb9f3a\"], [0.8888888888888888, \"#fdca26\"], [1.0, \"#f0f921\"]], \"type\": \"histogram2dcontour\"}], \"mesh3d\": [{\"colorbar\": {\"outlinewidth\": 0, \"ticks\": \"\"}, \"type\": \"mesh3d\"}], \"parcoords\": [{\"line\": {\"colorbar\": {\"outlinewidth\": 0, \"ticks\": \"\"}}, \"type\": \"parcoords\"}], \"pie\": [{\"automargin\": true, \"type\": \"pie\"}], \"scatter\": [{\"marker\": {\"colorbar\": {\"outlinewidth\": 0, \"ticks\": \"\"}}, \"type\": \"scatter\"}], \"scatter3d\": [{\"line\": {\"colorbar\": {\"outlinewidth\": 0, \"ticks\": \"\"}}, \"marker\": {\"colorbar\": {\"outlinewidth\": 0, \"ticks\": \"\"}}, \"type\": \"scatter3d\"}], \"scattercarpet\": [{\"marker\": {\"colorbar\": {\"outlinewidth\": 0, \"ticks\": \"\"}}, \"type\": \"scattercarpet\"}], \"scattergeo\": [{\"marker\": {\"colorbar\": {\"outlinewidth\": 0, \"ticks\": \"\"}}, \"type\": \"scattergeo\"}], \"scattergl\": [{\"marker\": {\"colorbar\": {\"outlinewidth\": 0, \"ticks\": \"\"}}, \"type\": \"scattergl\"}], \"scattermapbox\": [{\"marker\": {\"colorbar\": {\"outlinewidth\": 0, \"ticks\": \"\"}}, \"type\": \"scattermapbox\"}], \"scatterpolar\": [{\"marker\": {\"colorbar\": {\"outlinewidth\": 0, \"ticks\": \"\"}}, \"type\": \"scatterpolar\"}], \"scatterpolargl\": [{\"marker\": {\"colorbar\": {\"outlinewidth\": 0, \"ticks\": \"\"}}, \"type\": \"scatterpolargl\"}], \"scatterternary\": [{\"marker\": {\"colorbar\": {\"outlinewidth\": 0, \"ticks\": \"\"}}, \"type\": \"scatterternary\"}], \"surface\": [{\"colorbar\": {\"outlinewidth\": 0, \"ticks\": \"\"}, \"colorscale\": [[0.0, \"#0d0887\"], [0.1111111111111111, \"#46039f\"], [0.2222222222222222, \"#7201a8\"], [0.3333333333333333, \"#9c179e\"], [0.4444444444444444, \"#bd3786\"], [0.5555555555555556, \"#d8576b\"], [0.6666666666666666, \"#ed7953\"], [0.7777777777777778, \"#fb9f3a\"], [0.8888888888888888, \"#fdca26\"], [1.0, \"#f0f921\"]], \"type\": \"surface\"}], \"table\": [{\"cells\": {\"fill\": {\"color\": \"#EBF0F8\"}, \"line\": {\"color\": \"white\"}}, \"header\": {\"fill\": {\"color\": \"#C8D4E3\"}, \"line\": {\"color\": \"white\"}}, \"type\": \"table\"}]}, \"layout\": {\"annotationdefaults\": {\"arrowcolor\": \"#2a3f5f\", \"arrowhead\": 0, \"arrowwidth\": 1}, \"coloraxis\": {\"colorbar\": {\"outlinewidth\": 0, \"ticks\": \"\"}}, \"colorscale\": {\"diverging\": [[0, \"#8e0152\"], [0.1, \"#c51b7d\"], [0.2, \"#de77ae\"], [0.3, \"#f1b6da\"], [0.4, \"#fde0ef\"], [0.5, \"#f7f7f7\"], [0.6, \"#e6f5d0\"], [0.7, \"#b8e186\"], [0.8, \"#7fbc41\"], [0.9, \"#4d9221\"], [1, \"#276419\"]], \"sequential\": [[0.0, \"#0d0887\"], [0.1111111111111111, \"#46039f\"], [0.2222222222222222, \"#7201a8\"], [0.3333333333333333, \"#9c179e\"], [0.4444444444444444, \"#bd3786\"], [0.5555555555555556, \"#d8576b\"], [0.6666666666666666, \"#ed7953\"], [0.7777777777777778, \"#fb9f3a\"], [0.8888888888888888, \"#fdca26\"], [1.0, \"#f0f921\"]], \"sequentialminus\": [[0.0, \"#0d0887\"], [0.1111111111111111, \"#46039f\"], [0.2222222222222222, \"#7201a8\"], [0.3333333333333333, \"#9c179e\"], [0.4444444444444444, \"#bd3786\"], [0.5555555555555556, \"#d8576b\"], [0.6666666666666666, \"#ed7953\"], [0.7777777777777778, \"#fb9f3a\"], [0.8888888888888888, \"#fdca26\"], [1.0, \"#f0f921\"]]}, \"colorway\": [\"#636efa\", \"#EF553B\", \"#00cc96\", \"#ab63fa\", \"#FFA15A\", \"#19d3f3\", \"#FF6692\", \"#B6E880\", \"#FF97FF\", \"#FECB52\"], \"font\": {\"color\": \"#2a3f5f\"}, \"geo\": {\"bgcolor\": \"white\", \"lakecolor\": \"white\", \"landcolor\": \"#E5ECF6\", \"showlakes\": true, \"showland\": true, \"subunitcolor\": \"white\"}, \"hoverlabel\": {\"align\": \"left\"}, \"hovermode\": \"closest\", \"mapbox\": {\"style\": \"light\"}, \"paper_bgcolor\": \"white\", \"plot_bgcolor\": \"#E5ECF6\", \"polar\": {\"angularaxis\": {\"gridcolor\": \"white\", \"linecolor\": \"white\", \"ticks\": \"\"}, \"bgcolor\": \"#E5ECF6\", \"radialaxis\": {\"gridcolor\": \"white\", \"linecolor\": \"white\", \"ticks\": \"\"}}, \"scene\": {\"xaxis\": {\"backgroundcolor\": \"#E5ECF6\", \"gridcolor\": \"white\", \"gridwidth\": 2, \"linecolor\": \"white\", \"showbackground\": true, \"ticks\": \"\", \"zerolinecolor\": \"white\"}, \"yaxis\": {\"backgroundcolor\": \"#E5ECF6\", \"gridcolor\": \"white\", \"gridwidth\": 2, \"linecolor\": \"white\", \"showbackground\": true, \"ticks\": \"\", \"zerolinecolor\": \"white\"}, \"zaxis\": {\"backgroundcolor\": \"#E5ECF6\", \"gridcolor\": \"white\", \"gridwidth\": 2, \"linecolor\": \"white\", \"showbackground\": true, \"ticks\": \"\", \"zerolinecolor\": \"white\"}}, \"shapedefaults\": {\"line\": {\"color\": \"#2a3f5f\"}}, \"ternary\": {\"aaxis\": {\"gridcolor\": \"white\", \"linecolor\": \"white\", \"ticks\": \"\"}, \"baxis\": {\"gridcolor\": \"white\", \"linecolor\": \"white\", \"ticks\": \"\"}, \"bgcolor\": \"#E5ECF6\", \"caxis\": {\"gridcolor\": \"white\", \"linecolor\": \"white\", \"ticks\": \"\"}}, \"title\": {\"x\": 0.05}, \"xaxis\": {\"automargin\": true, \"gridcolor\": \"white\", \"linecolor\": \"white\", \"ticks\": \"\", \"title\": {\"standoff\": 15}, \"zerolinecolor\": \"white\", \"zerolinewidth\": 2}, \"yaxis\": {\"automargin\": true, \"gridcolor\": \"white\", \"linecolor\": \"white\", \"ticks\": \"\", \"title\": {\"standoff\": 15}, \"zerolinecolor\": \"white\", \"zerolinewidth\": 2}}}, \"title\": {\"text\": \"PCA BBC Sport news\"}, \"xaxis\": {\"anchor\": \"y\", \"domain\": [0.0, 1.0], \"title\": {\"text\": \"x\"}}, \"yaxis\": {\"anchor\": \"x\", \"domain\": [0.0, 1.0], \"title\": {\"text\": \"y\"}}},\n",
       "                        {\"responsive\": true}\n",
       "                    ).then(function(){\n",
       "                            \n",
       "var gd = document.getElementById('83c38824-e4ec-4585-a653-5f05c6b209d0');\n",
       "var x = new MutationObserver(function (mutations, observer) {{\n",
       "        var display = window.getComputedStyle(gd).display;\n",
       "        if (!display || display === 'none') {{\n",
       "            console.log([gd, 'removed!']);\n",
       "            Plotly.purge(gd);\n",
       "            observer.disconnect();\n",
       "        }}\n",
       "}});\n",
       "\n",
       "// Listen for the removal of the full notebook cells\n",
       "var notebookContainer = gd.closest('#notebook-container');\n",
       "if (notebookContainer) {{\n",
       "    x.observe(notebookContainer, {childList: true});\n",
       "}}\n",
       "\n",
       "// Listen for the clearing of the current output cell\n",
       "var outputEl = gd.closest('.output');\n",
       "if (outputEl) {{\n",
       "    x.observe(outputEl, {childList: true});\n",
       "}}\n",
       "\n",
       "                        })\n",
       "                };\n",
       "                });\n",
       "            </script>\n",
       "        </div>"
      ]
     },
     "metadata": {},
     "output_type": "display_data"
    }
   ],
   "source": [
    "hero.scatterplot(df, col='pca', color='topic', title=\"PCA BBC Sport news\")"
   ]
  },
  {
   "cell_type": "code",
   "execution_count": 33,
   "metadata": {},
   "outputs": [
    {
     "data": {
      "text/plain": [
       "topic         \n",
       "athletics  the    1731\n",
       "           in      885\n",
       "           to      882\n",
       "           and     665\n",
       "           a       613\n",
       "cricket    the    2246\n",
       "           to     1309\n",
       "           a      1045\n",
       "           in     1007\n",
       "           and     988\n",
       "football   the    4516\n",
       "           to     2641\n",
       "           a      2061\n",
       "           and    1904\n",
       "           in     1580\n",
       "rugby      the    2770\n",
       "           to     1393\n",
       "           a      1210\n",
       "           and    1129\n",
       "           in     1093\n",
       "tennis     the    1527\n",
       "           to      826\n",
       "           in      706\n",
       "           a       587\n",
       "           and     573\n",
       "Name: text, dtype: int64"
      ]
     },
     "execution_count": 33,
     "metadata": {},
     "output_type": "execute_result"
    }
   ],
   "source": [
    "NUM_TOP_WORDS = 5\n",
    "top = df.groupby('topic')['text'].apply(lambda x: hero.top_words(x)[:NUM_TOP_WORDS])\n",
    "top"
   ]
  },
  {
   "cell_type": "code",
   "execution_count": 40,
   "metadata": {},
   "outputs": [
    {
     "data": {
      "image/png": "[encoded data removed]",
      "text/plain": [
       "<Figure size 432x288 with 1 Axes>"
      ]
     },
     "metadata": {
      "needs_background": "light"
     },
     "output_type": "display_data"
    }
   ],
   "source": [
    "top.hist(label='Topic')\n",
    "plt.show()"
   ]
  },
  {
   "cell_type": "code",
   "execution_count": null,
   "metadata": {},
   "outputs": [],
   "source": []
  }
 ],
 "metadata": {
  "kernelspec": {
   "display_name": "TensorFlow-GPU",
   "language": "python",
   "name": "tf-gpu"
  },
  "language_info": {
   "codemirror_mode": {
    "name": "ipython",
    "version": 3
   },
   "file_extension": ".py",
   "mimetype": "text/x-python",
   "name": "python",
   "nbconvert_exporter": "python",
   "pygments_lexer": "ipython3",
   "version": "3.7.6"
  }
 },
 "nbformat": 4,
 "nbformat_minor": 4
}
