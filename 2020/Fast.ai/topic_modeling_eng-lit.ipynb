{
 "cells": [
  {
   "cell_type": "code",
   "execution_count": 2,
   "metadata": {},
   "outputs": [],
   "source": [
    "import numpy as np\n",
    "from sklearn.feature_extraction.text import CountVectorizer, TfidfVectorizer\n",
    "from sklearn import decomposition\n",
    "from glob import glob\n",
    "import os"
   ]
  },
  {
   "cell_type": "markdown",
   "metadata": {},
   "source": [
    "Using english literature as corpus\n",
    "\n",
    "https://liferay.de.dariah.eu/tatom/datasets.html"
   ]
  },
  {
   "cell_type": "code",
   "execution_count": 8,
   "metadata": {},
   "outputs": [],
   "source": [
    "filenames = []\n",
    "for folder in [\"british-fiction-corpus\"]: \n",
    "    filenames.extend(glob(\"data/\" + folder + \"/*.txt\"))"
   ]
  },
  {
   "cell_type": "code",
   "execution_count": 10,
   "metadata": {},
   "outputs": [
    {
     "data": {
      "text/plain": [
       "((27, 55035), 55035)"
      ]
     },
     "execution_count": 10,
     "metadata": {},
     "output_type": "execute_result"
    }
   ],
   "source": [
    "vectorizer = TfidfVectorizer(input='filename', stop_words='english')\n",
    "dtm = vectorizer.fit_transform(filenames).toarray()\n",
    "vocab = np.array(vectorizer.get_feature_names())\n",
    "dtm.shape, len(vocab)"
   ]
  },
  {
   "cell_type": "markdown",
   "metadata": {},
   "source": [
    "Using NMF"
   ]
  },
  {
   "cell_type": "code",
   "execution_count": 12,
   "metadata": {},
   "outputs": [],
   "source": [
    "clf = decomposition.NMF(n_components=10, random_state=1)\n",
    "\n",
    "W1 = clf.fit_transform(dtm)\n",
    "H1 = clf.components_"
   ]
  },
  {
   "cell_type": "code",
   "execution_count": 13,
   "metadata": {},
   "outputs": [],
   "source": [
    "num_top_words=8\n",
    "\n",
    "def show_topics(a):\n",
    "    top_words = lambda t: [vocab[i] for i in np.argsort(t)[:-num_top_words-1:-1]]\n",
    "    topic_words = ([top_words(t) for t in a])\n",
    "    return [' '.join(t) for t in topic_words]"
   ]
  },
  {
   "cell_type": "code",
   "execution_count": 14,
   "metadata": {},
   "outputs": [],
   "source": [
    "def get_all_topic_words(H):\n",
    "    top_indices = lambda t: {i for i in np.argsort(t)[:-num_top_words-1:-1]}\n",
    "    topic_indices = [top_indices(t) for t in H]\n",
    "    return sorted(set.union(*topic_indices))"
   ]
  },
  {
   "cell_type": "code",
   "execution_count": 15,
   "metadata": {},
   "outputs": [],
   "source": [
    "ind = get_all_topic_words(H1)"
   ]
  },
  {
   "cell_type": "code",
   "execution_count": 16,
   "metadata": {},
   "outputs": [
    {
     "data": {
      "text/plain": [
       "array(['adams', 'allworthy', 'bounderby', 'catherine', 'cathy',\n",
       "       'corporal', 'crawley', 'darcy', 'did', 'dorothea', 'earnshaw',\n",
       "       'edgar', 'elinor', 'emma', 'father', 'finn', 'glegg', 'good',\n",
       "       'gradgrind', 'hareton', 'heathcliff', 'jones', 'joseph', 'know',\n",
       "       'lady', 'laura', 'like', 'linton', 'little', 'll', 'lopez',\n",
       "       'louisa', 'lydgate', 'lyndon', 'maggie', 'man', 'marianne',\n",
       "       'micawber', 'miss', 'mr', 'mrs', 'old', 'osborne', 'pendennis',\n",
       "       'philip', 'phineas', 'quoth', 'said', 'sissy', 'sophia', 'sparsit',\n",
       "       'stephen', 'thought', 'time', 'tis', 'toby', 'tom', 'trim',\n",
       "       'tulliver', 'uncle', 'wakem', 'weston', 'wharton'], dtype='<U31')"
      ]
     },
     "execution_count": 16,
     "metadata": {},
     "output_type": "execute_result"
    }
   ],
   "source": [
    "vocab[ind]"
   ]
  },
  {
   "cell_type": "code",
   "execution_count": 17,
   "metadata": {},
   "outputs": [
    {
     "data": {
      "text/plain": [
       "['mr said lydgate mrs dorothea micawber little know',\n",
       " 'said little like did time know good thought',\n",
       " 'adams jones said allworthy sophia lady joseph mr',\n",
       " 'elinor mr emma darcy mrs weston marianne miss',\n",
       " 'maggie tulliver said tom glegg philip mr wakem',\n",
       " 'heathcliff linton hareton catherine earnshaw cathy edgar ll',\n",
       " 'toby said uncle father corporal quoth tis trim',\n",
       " 'phineas said lopez mr finn man wharton laura',\n",
       " 'bounderby gradgrind sparsit said mr sissy louisa stephen',\n",
       " 'crawley said lyndon pendennis old little osborne lady']"
      ]
     },
     "execution_count": 17,
     "metadata": {},
     "output_type": "execute_result"
    }
   ],
   "source": [
    "show_topics(H1)"
   ]
  },
  {
   "cell_type": "markdown",
   "metadata": {},
   "source": [
    "Export the data\n",
    "\n",
    "using FileLink and FileLinks you can run Excel spreadsheets in Jupyter"
   ]
  },
  {
   "cell_type": "code",
   "execution_count": 18,
   "metadata": {},
   "outputs": [],
   "source": [
    "from IPython.display import FileLink, FileLinks"
   ]
  },
  {
   "cell_type": "code",
   "execution_count": 19,
   "metadata": {},
   "outputs": [
    {
     "data": {
      "text/html": [
       "<a href='britlit_W.csv' target='_blank'>britlit_W.csv</a><br>"
      ],
      "text/plain": [
       "C:\\Users\\bnawa\\britlit_W.csv"
      ]
     },
     "execution_count": 19,
     "metadata": {},
     "output_type": "execute_result"
    }
   ],
   "source": [
    "np.savetxt(\"britlit_W.csv\", W1, delimiter=\",\", fmt='%.14f')\n",
    "FileLink('britlit_W.csv')"
   ]
  },
  {
   "cell_type": "code",
   "execution_count": 20,
   "metadata": {},
   "outputs": [
    {
     "data": {
      "text/html": [
       "<a href='britlit_H.csv' target='_blank'>britlit_H.csv</a><br>"
      ],
      "text/plain": [
       "C:\\Users\\bnawa\\britlit_H.csv"
      ]
     },
     "execution_count": 20,
     "metadata": {},
     "output_type": "execute_result"
    }
   ],
   "source": [
    "np.savetxt(\"britlit_H.csv\", H1[:,ind], delimiter=\",\", fmt='%.14f')\n",
    "FileLink('britlit_H.csv')"
   ]
  },
  {
   "cell_type": "code",
   "execution_count": 21,
   "metadata": {},
   "outputs": [
    {
     "data": {
      "text/html": [
       "<a href='britlit_raw.csv' target='_blank'>britlit_raw.csv</a><br>"
      ],
      "text/plain": [
       "C:\\Users\\bnawa\\britlit_raw.csv"
      ]
     },
     "execution_count": 21,
     "metadata": {},
     "output_type": "execute_result"
    }
   ],
   "source": [
    "np.savetxt(\"britlit_raw.csv\", dtm[:,ind], delimiter=\",\", fmt='%.14f')\n",
    "FileLink('britlit_raw.csv')"
   ]
  },
  {
   "cell_type": "markdown",
   "metadata": {},
   "source": [
    "Using SVD"
   ]
  },
  {
   "cell_type": "code",
   "execution_count": 22,
   "metadata": {},
   "outputs": [],
   "source": [
    "U, s, V = decomposition.randomized_svd(dtm, 10)\n",
    "ind = get_all_topic_words(V)"
   ]
  },
  {
   "cell_type": "code",
   "execution_count": 25,
   "metadata": {},
   "outputs": [
    {
     "data": {
      "text/plain": [
       "array(['adams', 'allworthy', 'bounderby', 'bretton', 'catherine',\n",
       "       'crawley', 'crimsworth', 'darcy', 'dashwood', 'did', 'elinor',\n",
       "       'elizabeth', 'elton', 'emma', 'finn', 'fleur', 'good', 'gradgrind',\n",
       "       'hareton', 'heathcliff', 'hunsden', 'jennings', 'jones', 'joseph',\n",
       "       'knightley', 'know', 'lady', 'linton', 'little', 'lopez', 'louisa',\n",
       "       'madame', 'maggie', 'man', 'marianne', 'miss', 'monsieur', 'mr',\n",
       "       'mrs', 'pelet', 'phineas', 'said', 'sissy', 'sophia', 'sparsit',\n",
       "       'toby', 'tulliver', 'uncle', 'weston'], dtype='<U31')"
      ]
     },
     "execution_count": 25,
     "metadata": {},
     "output_type": "execute_result"
    }
   ],
   "source": [
    "vocab[ind]"
   ]
  },
  {
   "cell_type": "code",
   "execution_count": 26,
   "metadata": {},
   "outputs": [
    {
     "data": {
      "text/plain": [
       "['mr said lydgate mrs dorothea micawber little know',\n",
       " 'said little like did time know good thought',\n",
       " 'adams jones said allworthy sophia lady joseph mr',\n",
       " 'elinor mr emma darcy mrs weston marianne miss',\n",
       " 'maggie tulliver said tom glegg philip mr wakem',\n",
       " 'heathcliff linton hareton catherine earnshaw cathy edgar ll',\n",
       " 'toby said uncle father corporal quoth tis trim',\n",
       " 'phineas said lopez mr finn man wharton laura',\n",
       " 'bounderby gradgrind sparsit said mr sissy louisa stephen',\n",
       " 'crawley said lyndon pendennis old little osborne lady']"
      ]
     },
     "execution_count": 26,
     "metadata": {},
     "output_type": "execute_result"
    }
   ],
   "source": [
    "show_topics(H1)"
   ]
  },
  {
   "cell_type": "code",
   "execution_count": 27,
   "metadata": {},
   "outputs": [
    {
     "data": {
      "text/html": [
       "<a href='britlit_U.csv' target='_blank'>britlit_U.csv</a><br>"
      ],
      "text/plain": [
       "C:\\Users\\bnawa\\britlit_U.csv"
      ]
     },
     "execution_count": 27,
     "metadata": {},
     "output_type": "execute_result"
    }
   ],
   "source": [
    "np.savetxt(\"britlit_U.csv\", U, delimiter=\",\", fmt='%.14f')\n",
    "FileLink('britlit_U.csv')"
   ]
  },
  {
   "cell_type": "code",
   "execution_count": 28,
   "metadata": {},
   "outputs": [
    {
     "data": {
      "text/html": [
       "<a href='britlit_V.csv' target='_blank'>britlit_V.csv</a><br>"
      ],
      "text/plain": [
       "C:\\Users\\bnawa\\britlit_V.csv"
      ]
     },
     "execution_count": 28,
     "metadata": {},
     "output_type": "execute_result"
    }
   ],
   "source": [
    "np.savetxt(\"britlit_V.csv\", V[:,ind], delimiter=\",\", fmt='%.14f')\n",
    "FileLink('britlit_V.csv')"
   ]
  },
  {
   "cell_type": "code",
   "execution_count": 29,
   "metadata": {},
   "outputs": [
    {
     "data": {
      "text/html": [
       "<a href='britlit_raw_svd.csv' target='_blank'>britlit_raw_svd.csv</a><br>"
      ],
      "text/plain": [
       "C:\\Users\\bnawa\\britlit_raw_svd.csv"
      ]
     },
     "execution_count": 29,
     "metadata": {},
     "output_type": "execute_result"
    }
   ],
   "source": [
    "np.savetxt(\"britlit_raw_svd.csv\", dtm[:,ind], delimiter=\",\", fmt='%.14f')\n",
    "FileLink('britlit_raw_svd.csv')"
   ]
  },
  {
   "cell_type": "code",
   "execution_count": 30,
   "metadata": {},
   "outputs": [
    {
     "data": {
      "text/html": [
       "<a href='britlit_S.csv' target='_blank'>britlit_S.csv</a><br>"
      ],
      "text/plain": [
       "C:\\Users\\bnawa\\britlit_S.csv"
      ]
     },
     "execution_count": 30,
     "metadata": {},
     "output_type": "execute_result"
    }
   ],
   "source": [
    "np.savetxt(\"britlit_S.csv\", np.diag(s), delimiter=\",\", fmt='%.14f')\n",
    "FileLink('britlit_S.csv')"
   ]
  },
  {
   "cell_type": "code",
   "execution_count": null,
   "metadata": {},
   "outputs": [],
   "source": []
  }
 ],
 "metadata": {
  "kernelspec": {
   "display_name": "TensorFlow-GPU",
   "language": "python",
   "name": "tf-gpu"
  },
  "language_info": {
   "codemirror_mode": {
    "name": "ipython",
    "version": 3
   },
   "file_extension": ".py",
   "mimetype": "text/x-python",
   "name": "python",
   "nbconvert_exporter": "python",
   "pygments_lexer": "ipython3",
   "version": "3.7.6"
  }
 },
 "nbformat": 4,
 "nbformat_minor": 4
}
