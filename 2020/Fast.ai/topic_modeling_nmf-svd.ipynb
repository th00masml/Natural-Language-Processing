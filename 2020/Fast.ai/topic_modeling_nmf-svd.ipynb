{
 "cells": [
  {
   "cell_type": "markdown",
   "metadata": {},
   "source": [
    "Using scikit-learn dataset: Newsgroups"
   ]
  },
  {
   "cell_type": "code",
   "execution_count": 3,
   "metadata": {},
   "outputs": [],
   "source": [
    "import numpy as np\n",
    "from sklearn.datasets import fetch_20newsgroups\n",
    "from sklearn import decomposition\n",
    "from scipy import linalg\n",
    "import matplotlib.pyplot as plt"
   ]
  },
  {
   "cell_type": "code",
   "execution_count": 4,
   "metadata": {},
   "outputs": [],
   "source": [
    "%matplotlib inline\n",
    "np.set_printoptions(suppress=True)"
   ]
  },
  {
   "cell_type": "markdown",
   "metadata": {},
   "source": [
    "Split the dataset"
   ]
  },
  {
   "cell_type": "code",
   "execution_count": 6,
   "metadata": {},
   "outputs": [],
   "source": [
    "categories = ['alt.atheism', 'talk.religion.misc', 'comp.graphics', 'sci.space']\n",
    "remove = ('headers', 'footers', 'quotes')\n",
    "newsgroups_train = fetch_20newsgroups(subset='train', categories=categories, remove=remove)\n",
    "newsgroups_test = fetch_20newsgroups(subset='test', categories=categories, remove=remove)"
   ]
  },
  {
   "cell_type": "code",
   "execution_count": 13,
   "metadata": {},
   "outputs": [
    {
     "name": "stdout",
     "output_type": "stream",
     "text": [
      "TRry the SKywatch project in  Arizona.\n",
      "The Vatican library recently made a tour of the US.\n",
      " Can anyone help me in finding a FTP site where this collection is \n",
      " available.\n",
      "Hi there,\n",
      "\n",
      "I am here looking for some help.\n",
      "\n",
      "My friend is a interior decor designer. He is from Thailand. He is\n",
      "trying to find some graphics software on PC. Any suggestion on which\n",
      "software to buy,where to buy and how much it costs ? He likes the most\n",
      "sophisticated \n",
      "software(the more features it has,the better)\n",
      "RFD\n",
      "                          Request For Discussion\n",
      "                                for the\n",
      "                          OPEN  TELEMATIC GROUP\n",
      "\n",
      "                                  OTG\n",
      "\n",
      "I have proposed the forming of a consortium/task force for the\n",
      "promotion of NAPLPS/JPEG, FIF to openly discuss ways, method,\n",
      "procedures,algorythms, applications, implementation, extensions of\n",
      "NAPLPS/JPEG standards.  These standards should facilitate the creation\n",
      "of REAL_TIME Online applications that make use of Voice, Video,\n",
      "Telecommuting, HiRes graphics, Conferencing, Distant Learning, Online\n",
      "order entry, Fax,in addition these dicussion would assist all to\n",
      "better understand how SGML, CALS, ODA, MIME, OODBMS, JPEG, MPEG,\n",
      "FRACTALS, SQL, CDrom, cdromXA, Kodak PhotoCD, TCL, V.FAST, and\n",
      "EIA/TIA562, can best be incorporated and implemented to develop\n",
      "TELEMATIC/Multimedia applications.\n",
      "\n",
      "We want to be able to support DOS, UNIX, MAC, WINDOWS, NT, OS/2\n",
      "platforms.  It is our hope that individuals, developers, corporations,\n",
      "Universities, R & D labs would join in in supporting such an endeavor.\n",
      "\n",
      "This would be a NOT_FOR_PROFIT group with bylaws and charter. Already\n",
      "many corporations have decided to support OTG (Open TELEMATIC Group) so\n",
      "do not delay joining if you are a developer\n",
      "\n",
      "An RFD has been posted to form a usenet newsgroup and a FAQ will soon\n",
      "be be composed to start promulgating what is known on the subject.  If\n",
      "you would like to be added to the maillist send email or mail to the\n",
      "address below.\n",
      "\n",
      "This group would publish an electronic quarterly NAPLPS/JPEG\n",
      "newsletter as well as a hardcopy version.  We urge all who wants to\n",
      "see CMCs HiRes based applications & the NAPLPS/JPEG G R O W, decide to\n",
      "join and mutually benefit from this NOT-FOR_PROFIT endeavor.\n",
      "\n",
      "NOTE: Telematic has been defined by Mr. James Martin as the marriage\n",
      "      of Voice, Video, Hi-res Graphics, Fax, IVR, Music over telephone\n",
      "      lines/LAN.\n",
      "\n",
      "If you would like to get involve write to me at:\n",
      "\n",
      "  IMG Inter-Multimedia Group| Internet:  epimntl@world.std.com\n",
      "  P.O. Box 95901            |            ed.pimentel@gisatl.fidonet.org\n",
      "  Atlanta, Georgia, US      | CIS     :  70611,3703\n",
      "                            | FidoNet :  1:133/407\n",
      "                            | BBS     :  +1-404-985-1198 zyxel 14.4k\n",
      "I am interested in finding 3D animation programs for the Mac.\n",
      "I am especially interested in any programs that don't exist\n",
      "in a PC port and are so good that they would make me go buy\n",
      "a Mac.  Do any such exist?\n"
     ]
    }
   ],
   "source": [
    "num_topics, num_top_words = 6, 8\n",
    "print(\"\\n\".join(newsgroups_test.data[:5]))"
   ]
  },
  {
   "cell_type": "markdown",
   "metadata": {},
   "source": [
    "Preprocess the data"
   ]
  },
  {
   "cell_type": "code",
   "execution_count": 14,
   "metadata": {},
   "outputs": [],
   "source": [
    "from sklearn.feature_extraction.text import CountVectorizer, TfidfVectorizer\n",
    "import nltk"
   ]
  },
  {
   "cell_type": "code",
   "execution_count": 19,
   "metadata": {},
   "outputs": [
    {
     "data": {
      "text/plain": [
       "array(['factors', 'factory', 'facts', 'factsnet', 'factual', 'factually',\n",
       "       'faculty', 'fade', 'fades', 'fading', 'fag', 'faget', 'faggots',\n",
       "       'fahrenheit', 'fai', 'fail', 'failed', 'failing', 'fails',\n",
       "       'failsafe'], dtype='<U80')"
      ]
     },
     "execution_count": 19,
     "metadata": {},
     "output_type": "execute_result"
    }
   ],
   "source": [
    "vectorizer = CountVectorizer(stop_words='english')\n",
    "vectors = vectorizer.fit_transform(newsgroups_train.data).todense()\n",
    "vocab = np.array(vectorizer.get_feature_names())\n",
    "vocab[10000:10020]"
   ]
  },
  {
   "cell_type": "markdown",
   "metadata": {},
   "source": [
    "Using SVD\n",
    "\n",
    "Singular value decomposition is a method of decomposing a matrix into three other matrices:\n",
    "    \n",
    "    A = USV(T)\n",
    "    \n",
    "where:\n",
    "    \n",
    "    A is an m × n matrix\n",
    "    U is an m × n orthogonal matrix\n",
    "    S is an n × n diagonal matrix\n",
    "    V is an n × n orthogonal matrix\n",
    "    \n",
    "    \n",
    "https://towardsdatascience.com/understanding-singular-value-decomposition-and-its-application-in-data-science-388a54be95d"
   ]
  },
  {
   "cell_type": "markdown",
   "metadata": {},
   "source": [
    "Create topic by assigning it to the most common words"
   ]
  },
  {
   "cell_type": "code",
   "execution_count": 25,
   "metadata": {},
   "outputs": [
    {
     "name": "stdout",
     "output_type": "stream",
     "text": [
      "Wall time: 15.5 s\n"
     ]
    }
   ],
   "source": [
    "%time U, s, Vh = linalg.svd(vectors, full_matrices=False)\n",
    "\n",
    "num_top_words=5\n",
    "\n",
    "def show_topics(a):\n",
    "    top_words = lambda t: [vocab[i] for i in np.argsort(t)[:-num_top_words-1:-1]]\n",
    "    topic_words = ([top_words(t) for t in a])\n",
    "    return [' '.join(t) for t in topic_words]"
   ]
  },
  {
   "cell_type": "code",
   "execution_count": 26,
   "metadata": {},
   "outputs": [
    {
     "data": {
      "text/plain": [
       "['ditto critus propagandist surname galacticentric',\n",
       " 'jpeg gif file color quality',\n",
       " 'graphics edu pub mail 128',\n",
       " 'jesus god matthew people atheists',\n",
       " 'image data processing analysis software',\n",
       " 'god atheists atheism religious believe',\n",
       " 'space nasa lunar mars probe',\n",
       " 'image probe surface lunar mars',\n",
       " 'argument fallacy conclusion example true',\n",
       " 'space larson image theory universe']"
      ]
     },
     "execution_count": 26,
     "metadata": {},
     "output_type": "execute_result"
    }
   ],
   "source": [
    "show_topics(Vh[:10])"
   ]
  },
  {
   "cell_type": "markdown",
   "metadata": {},
   "source": [
    "Using NMF\n",
    "\n",
    "NMF (Nonnegative Matrix Factorization)  is a matrix factorization method where we constrain the matrices to be nonnegative. In order to understand NMF, we should clarify the underlying intuition between matrix factorization\n",
    "\n",
    "\n",
    "https://blog.acolyer.org/2019/02/18/the-why-and-how-of-nonnegative-matrix-factorization/\n",
    "\n",
    "https://mlexplained.com/2017/12/28/a-practical-introduction-to-nmf-nonnegative-matrix-factorization/\n",
    "\n",
    "The paper:\n",
    "\n",
    "https://papers.nips.cc/paper/1861-algorithms-for-non-negative-matrix-factorization.pdf\n",
    "\n",
    "\n"
   ]
  },
  {
   "cell_type": "code",
   "execution_count": 29,
   "metadata": {},
   "outputs": [],
   "source": [
    "m,n=vectors.shape\n",
    "d=6  # Number of topics"
   ]
  },
  {
   "cell_type": "code",
   "execution_count": 30,
   "metadata": {},
   "outputs": [],
   "source": [
    "clf = decomposition.NMF(n_components=d, random_state=1)\n",
    "\n",
    "W1 = clf.fit_transform(vectors)\n",
    "H1 = clf.components_"
   ]
  },
  {
   "cell_type": "code",
   "execution_count": 31,
   "metadata": {},
   "outputs": [
    {
     "data": {
      "text/plain": [
       "['jpeg image gif file color',\n",
       " 'edu graphics pub mail 128',\n",
       " 'space launch satellite nasa commercial',\n",
       " 'jesus matthew prophecy people said',\n",
       " 'image data available software processing',\n",
       " 'god atheists atheism religious believe']"
      ]
     },
     "execution_count": 31,
     "metadata": {},
     "output_type": "execute_result"
    }
   ],
   "source": [
    "show_topics(H1)"
   ]
  },
  {
   "cell_type": "markdown",
   "metadata": {},
   "source": [
    "Create topics with data preprocessed using TFIDF"
   ]
  },
  {
   "cell_type": "code",
   "execution_count": 32,
   "metadata": {},
   "outputs": [],
   "source": [
    "vectorizer_tfidf = TfidfVectorizer(stop_words='english')\n",
    "vectors_tfidf = vectorizer_tfidf.fit_transform(newsgroups_train.data) "
   ]
  },
  {
   "cell_type": "code",
   "execution_count": 33,
   "metadata": {},
   "outputs": [],
   "source": [
    "W1 = clf.fit_transform(vectors_tfidf)\n",
    "H1 = clf.components_"
   ]
  },
  {
   "cell_type": "code",
   "execution_count": 34,
   "metadata": {},
   "outputs": [
    {
     "data": {
      "text/plain": [
       "['don people just think like',\n",
       " 'thanks graphics files image file',\n",
       " 'space nasa launch shuttle orbit',\n",
       " 'ico bobbe tek beauchaine bronx',\n",
       " 'god jesus bible believe atheism',\n",
       " 'objective morality values moral subjective']"
      ]
     },
     "execution_count": 34,
     "metadata": {},
     "output_type": "execute_result"
    }
   ],
   "source": [
    "show_topics(H1)"
   ]
  },
  {
   "cell_type": "code",
   "execution_count": null,
   "metadata": {},
   "outputs": [],
   "source": []
  }
 ],
 "metadata": {
  "kernelspec": {
   "display_name": "TensorFlow-GPU",
   "language": "python",
   "name": "tf-gpu"
  },
  "language_info": {
   "codemirror_mode": {
    "name": "ipython",
    "version": 3
   },
   "file_extension": ".py",
   "mimetype": "text/x-python",
   "name": "python",
   "nbconvert_exporter": "python",
   "pygments_lexer": "ipython3",
   "version": "3.7.6"
  }
 },
 "nbformat": 4,
 "nbformat_minor": 4
}
